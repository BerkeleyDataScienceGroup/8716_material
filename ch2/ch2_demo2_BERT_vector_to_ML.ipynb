{
 "cells": [
  {
   "cell_type": "markdown",
   "id": "eeb96c8d",
   "metadata": {
    "id": "eeb96c8d"
   },
   "source": [
    "# Bert as AutoEncoder\n",
    "\n",
    "The idea behind this demo is to see how Bert can be used as autoencoder where input to the model is text and output is embeddings (which can be used for further ML models and algorithms as features, calculate similarities etc)"
   ]
  },
  {
   "cell_type": "markdown",
   "id": "32838237",
   "metadata": {
    "id": "32838237"
   },
   "source": [
    "**NOTE**\n",
    "\n",
    "If aws notebook instance is used, select proper kernel (conda_pytorch)"
   ]
  },
  {
   "cell_type": "markdown",
   "id": "43032faa",
   "metadata": {
    "id": "43032faa"
   },
   "source": [
    "Install requirements"
   ]
  },
  {
   "cell_type": "code",
   "execution_count": 2,
   "id": "8aa1e9ca",
   "metadata": {
    "id": "8aa1e9ca",
    "tags": []
   },
   "outputs": [
    {
     "name": "stdout",
     "output_type": "stream",
     "text": [
      "Note: you may need to restart the kernel to use updated packages.\n",
      "Note: you may need to restart the kernel to use updated packages.\n",
      "Note: you may need to restart the kernel to use updated packages.\n",
      "\u001b[31mERROR: pip's dependency resolver does not currently take into account all the packages that are installed. This behaviour is the source of the following dependency conflicts.\n",
      "boto3 1.28.85 requires botocore<1.32.0,>=1.31.85, but you have botocore 1.31.64 which is incompatible.\u001b[0m\u001b[31m\n",
      "\u001b[0mNote: you may need to restart the kernel to use updated packages.\n"
     ]
    }
   ],
   "source": [
    "%pip install torch --quiet\n",
    "%pip install transformers --quiet\n",
    "%pip install -U scikit-learn --quiet\n",
    "%pip install s3fs --quiet"
   ]
  },
  {
   "cell_type": "code",
   "execution_count": 3,
   "id": "5ef79f7c",
   "metadata": {
    "id": "5ef79f7c",
    "tags": []
   },
   "outputs": [
    {
     "name": "stdout",
     "output_type": "stream",
     "text": [
      "done\n"
     ]
    }
   ],
   "source": [
    "import torch\n",
    "import transformers\n",
    "\n",
    "print(\"done\")"
   ]
  },
  {
   "cell_type": "markdown",
   "id": "4549a52e",
   "metadata": {
    "id": "4549a52e"
   },
   "source": [
    "Load pre-trained BERT model and tokenizer"
   ]
  },
  {
   "cell_type": "code",
   "execution_count": 4,
   "id": "c0188d33",
   "metadata": {
    "id": "c0188d33",
    "tags": []
   },
   "outputs": [
    {
     "data": {
      "application/vnd.jupyter.widget-view+json": {
       "model_id": "fd27078dbd3e4739a13bb4c8dc5c4a10",
       "version_major": 2,
       "version_minor": 0
      },
      "text/plain": [
       "tokenizer_config.json:   0%|          | 0.00/28.0 [00:00<?, ?B/s]"
      ]
     },
     "metadata": {},
     "output_type": "display_data"
    },
    {
     "data": {
      "application/vnd.jupyter.widget-view+json": {
       "model_id": "1c75e7932b6f4f11ba9bcc4d8a58c8fc",
       "version_major": 2,
       "version_minor": 0
      },
      "text/plain": [
       "config.json:   0%|          | 0.00/570 [00:00<?, ?B/s]"
      ]
     },
     "metadata": {},
     "output_type": "display_data"
    },
    {
     "data": {
      "application/vnd.jupyter.widget-view+json": {
       "model_id": "d8c79513d8884a9887e9a1cec8f46f50",
       "version_major": 2,
       "version_minor": 0
      },
      "text/plain": [
       "vocab.txt:   0%|          | 0.00/232k [00:00<?, ?B/s]"
      ]
     },
     "metadata": {},
     "output_type": "display_data"
    },
    {
     "data": {
      "application/vnd.jupyter.widget-view+json": {
       "model_id": "74623f54637a45c08b9bd1eab635979a",
       "version_major": 2,
       "version_minor": 0
      },
      "text/plain": [
       "tokenizer.json:   0%|          | 0.00/466k [00:00<?, ?B/s]"
      ]
     },
     "metadata": {},
     "output_type": "display_data"
    },
    {
     "data": {
      "application/vnd.jupyter.widget-view+json": {
       "model_id": "dbdfb19e34c741918433b4f0baa39535",
       "version_major": 2,
       "version_minor": 0
      },
      "text/plain": [
       "model.safetensors:   0%|          | 0.00/440M [00:00<?, ?B/s]"
      ]
     },
     "metadata": {},
     "output_type": "display_data"
    }
   ],
   "source": [
    "model_name = 'bert-base-uncased'\n",
    "\n",
    "tokenizer = transformers.AutoTokenizer.from_pretrained(model_name)\n",
    "model = transformers.AutoModel.from_pretrained(model_name)"
   ]
  },
  {
   "cell_type": "code",
   "execution_count": 5,
   "id": "9a33c96e",
   "metadata": {
    "id": "9a33c96e",
    "tags": []
   },
   "outputs": [],
   "source": [
    "def get_bert_vector(text):\n",
    "    if len(text) < 5:\n",
    "        print(text)\n",
    "    # Tokenize the text\n",
    "    input_ids = torch.tensor(tokenizer.encode(text, add_special_tokens=True)).unsqueeze(0)\n",
    "\n",
    "    # Get BERT embeddings\n",
    "    with torch.no_grad():\n",
    "        outputs = model(input_ids)\n",
    "        last_hidden_states = outputs[0]\n",
    "        mean_last_hidden_states = torch.mean(last_hidden_states, dim=1)\n",
    "\n",
    "    # Return the mean of the last hidden states as a vector\n",
    "    return mean_last_hidden_states.numpy()[0]"
   ]
  },
  {
   "cell_type": "code",
   "execution_count": 6,
   "id": "94fea435",
   "metadata": {
    "colab": {
     "base_uri": "https://localhost:8080/"
    },
    "executionInfo": {
     "elapsed": 808,
     "status": "ok",
     "timestamp": 1700521244403,
     "user": {
      "displayName": "Gunnar Kleemann",
      "userId": "02122813220075330457"
     },
     "user_tz": 360
    },
    "id": "94fea435",
    "outputId": "1aeb4fa2-c23d-4907-f8fc-b3a5e3c9b939",
    "tags": []
   },
   "outputs": [
    {
     "name": "stdout",
     "output_type": "stream",
     "text": [
      "768\n"
     ]
    },
    {
     "data": {
      "text/plain": [
       "array([ 6.86645880e-02, -1.46198228e-01,  3.27494562e-01, -1.11544654e-01,\n",
       "       -5.77578181e-03,  2.07549185e-01,  2.26298943e-01,  4.75044757e-01,\n",
       "       -9.00262594e-02, -2.00914428e-01, -1.82463482e-01, -2.51878500e-01,\n",
       "       -2.99872011e-01,  3.26931775e-01, -2.11426437e-01,  1.59557194e-01,\n",
       "       -2.39347100e-01,  1.83264837e-01, -2.36361623e-01,  1.32732868e-01,\n",
       "        5.52591383e-02,  7.64939785e-02, -3.87540579e-01, -1.04481421e-01,\n",
       "        7.45240808e-01, -5.53761721e-02, -4.20232505e-01, -1.02724880e-01,\n",
       "       -7.88896084e-01, -1.33740902e-01,  3.34353708e-02,  2.44405568e-01,\n",
       "        3.62050943e-02,  1.36475325e-01, -1.88355207e-01, -1.69674858e-01,\n",
       "        1.46547109e-01, -1.43513024e-01, -3.38513017e-01,  3.24504554e-01,\n",
       "       -5.68893731e-01, -4.36611891e-01, -5.05800322e-02, -1.72781378e-01,\n",
       "        1.98797181e-01, -3.77498567e-01, -2.21412092e-01,  2.05047920e-01,\n",
       "        1.33984342e-01,  8.64517093e-02, -7.78364658e-01,  3.28900397e-01,\n",
       "       -3.08279395e-01,  2.05997601e-01, -2.01376267e-02,  3.79874527e-01,\n",
       "        1.67252831e-02, -9.18664396e-01, -2.01908067e-01, -2.37475663e-01,\n",
       "        1.55101612e-01,  6.88841790e-02, -7.92618692e-02,  3.07728001e-03,\n",
       "        1.91530496e-01,  1.32825645e-02, -2.36342356e-01,  2.71690220e-01,\n",
       "       -8.90464306e-01,  1.47006944e-01, -4.90789354e-01, -1.17014796e-01,\n",
       "        2.21493199e-01, -3.68494183e-01, -2.20648441e-02, -3.79542261e-01,\n",
       "       -4.25238252e-01,  2.98978180e-01, -2.81394631e-01,  1.17032006e-01,\n",
       "       -1.12384945e-01,  4.91021097e-01,  6.90361857e-02,  4.11549330e-01,\n",
       "        2.87170172e-01, -3.03911150e-01, -4.42594856e-01,  1.51496613e-02,\n",
       "       -1.47577524e-01,  1.54292271e-01, -1.47692338e-01, -2.37806484e-01,\n",
       "       -4.60559845e-01,  3.77505451e-01,  5.74170351e-01,  2.71966066e-02,\n",
       "       -4.36849445e-01,  9.57874656e-02, -2.97189094e-02,  1.84604004e-01,\n",
       "       -1.37386113e-01, -4.51636821e-01,  4.87601012e-01,  3.25046033e-01,\n",
       "       -6.07408226e-01, -4.60597575e-02, -6.46656230e-02,  3.09147954e-01,\n",
       "        5.75945020e-01,  3.22033077e-01,  1.58601195e-01, -2.75004923e-01,\n",
       "       -9.93993431e-02, -3.37006569e-01, -9.28036571e-02,  3.70478034e-01,\n",
       "       -2.99720876e-02, -3.35565150e-01,  4.04011637e-01, -1.27986789e-01,\n",
       "       -4.73226011e-02, -5.03300242e-02,  1.98549777e-01,  1.08668995e+00,\n",
       "       -4.81570326e-02,  2.99670875e-01, -1.05624348e-01,  3.96997601e-01,\n",
       "        4.39239666e-02, -3.45312059e-01,  1.63091347e-01,  6.70149505e-01,\n",
       "        6.15362465e-01,  4.56690788e-03,  7.44023174e-02,  2.84499943e-01,\n",
       "        4.75867353e-02, -3.71045351e-01, -4.92347866e-01, -4.97445345e-01,\n",
       "        4.03890274e-02, -1.40064165e-01,  3.26063454e-01,  3.49591762e-01,\n",
       "        6.03536844e-01,  1.60411999e-01, -3.78424764e-01,  9.33730975e-02,\n",
       "        2.71494806e-01,  3.94408077e-01,  9.53401029e-02, -6.42367080e-02,\n",
       "       -2.42112160e-01, -5.75435385e-02, -4.69838470e-01, -1.80437639e-01,\n",
       "        9.20062065e-02,  1.50327295e-01,  2.32018948e-01,  7.08355159e-02,\n",
       "        7.54498661e-01,  2.72325397e-01, -2.80123770e-01,  2.41153315e-01,\n",
       "        2.11268514e-01, -1.73037022e-01,  3.72377336e-02,  2.91401714e-01,\n",
       "       -4.73685563e-02, -5.99022269e-01, -3.97780687e-01, -2.01471716e-01,\n",
       "        5.62904000e-01,  1.50094435e-01, -6.38770685e-02, -1.68246888e-02,\n",
       "        4.49758381e-01,  8.68967846e-02,  3.12049806e-01, -8.05653036e-02,\n",
       "       -1.28122485e+00,  6.23338223e-01, -2.45502040e-01, -4.64369133e-02,\n",
       "        1.48228914e-01, -7.56002069e-02,  2.95233399e-01, -5.76930046e-01,\n",
       "       -1.36438720e-02,  2.98331697e-02, -5.50874174e-01, -4.12084222e-01,\n",
       "       -9.51848805e-01, -2.84628600e-01,  6.49445236e-01, -3.15373927e-01,\n",
       "       -2.39057183e-01, -1.56824272e-02, -1.90530255e-01,  1.56893551e-01,\n",
       "        2.51197189e-01,  4.72472981e-03,  4.11102980e-01, -4.29386571e-02,\n",
       "        2.44658649e-01, -2.60393322e-01,  2.55569443e-02,  1.30878419e-01,\n",
       "       -5.83741009e-01,  5.14100492e-01, -5.74377537e-01,  9.02077973e-01,\n",
       "        1.15782000e-01, -5.00770733e-02,  3.06959867e-01, -4.93270792e-02,\n",
       "        2.24337876e-01, -5.94185829e-01, -2.65369087e-01,  2.71685153e-01,\n",
       "        1.60335511e-01, -1.39675096e-01, -4.74994600e-01,  5.80687642e-01,\n",
       "       -4.96988147e-01,  1.04329669e+00,  4.93077904e-01,  3.19652140e-01,\n",
       "        5.79632163e-01,  4.63285178e-01,  1.82683587e-01, -5.72048835e-02,\n",
       "        1.37122840e-01,  2.32373506e-01, -1.29467145e-01,  3.00528765e-01,\n",
       "       -2.72398323e-01, -1.09518684e-01,  3.82740721e-02,  6.15383945e-02,\n",
       "        9.18440670e-02,  4.94577140e-01,  5.51883340e-01, -1.85722277e-01,\n",
       "       -3.94699514e-01, -2.09803551e-01, -3.47862333e-01,  2.26980485e-02,\n",
       "        1.97077781e-01, -2.77338952e-01, -5.19078411e-02, -4.31161374e-01,\n",
       "       -5.49049266e-02, -5.90516210e-01, -9.31106210e-02,  6.93855882e-02,\n",
       "       -3.53853315e-01, -1.65222049e-01, -8.77506956e-02,  5.18777788e-01,\n",
       "        3.64491403e-01,  3.23515117e-01,  5.36863685e-01,  1.73971057e-01,\n",
       "       -5.31199157e-01, -2.75214493e-01, -1.49495363e-01,  3.87337238e-01,\n",
       "        4.36387122e-01,  4.28923545e-03, -3.32276523e-01, -9.41842645e-02,\n",
       "       -4.11495902e-02,  4.21093792e-01, -4.05526400e-01,  2.39034332e-02,\n",
       "       -2.98277676e-01,  1.42430738e-01,  8.81742835e-02, -1.20656900e-01,\n",
       "        2.11543307e-01,  3.64025265e-01, -3.99419099e-01,  1.12497834e-02,\n",
       "       -1.03620350e-01, -6.10183716e-01,  3.51866931e-02,  2.52187639e-01,\n",
       "       -3.91070694e-01, -6.60549283e-01, -2.55281359e-01,  1.18144773e-01,\n",
       "       -5.01935065e-01,  2.37489298e-01,  4.87888783e-01,  4.31728989e-01,\n",
       "        6.37219131e-01,  4.35297012e-01,  6.01177011e-03, -3.55547965e-01,\n",
       "       -6.93060138e-05, -2.45465204e-01, -2.61584818e-01,  2.99178250e-02,\n",
       "       -9.96218622e-01, -1.56523660e-01, -8.68737474e-02, -2.62088001e-01,\n",
       "       -3.41126871e+00, -4.28832397e-02,  1.69655219e-01, -7.99674764e-02,\n",
       "        1.21507302e-01, -1.87757656e-01, -1.40927762e-01, -8.58502835e-02,\n",
       "        1.01092726e-01,  8.97490978e-02, -1.72311425e-01, -5.98749101e-01,\n",
       "       -6.96439445e-02,  1.83774307e-01,  1.68170124e-01,  1.02995574e-01,\n",
       "        1.79650038e-01,  1.22549281e-01, -2.93340415e-01,  4.53983396e-01,\n",
       "       -9.98077244e-02, -3.86920840e-01,  3.36695433e-01, -2.87406981e-01,\n",
       "        4.07421023e-01,  5.12313306e-01, -1.36805493e-02, -1.69449951e-02,\n",
       "       -2.05645308e-01, -1.00991376e-01, -2.91022547e-02, -1.88608840e-01,\n",
       "        4.85350847e-01, -1.14766553e-01,  1.69745050e-02,  4.49804634e-01,\n",
       "        2.28684247e-01, -3.23217273e-01, -2.63412632e-02, -2.19660625e-01,\n",
       "        1.34145796e-01,  3.07770651e-02, -5.12463711e-02, -6.45859778e-01,\n",
       "        3.50737989e-01, -3.66126597e-01, -1.76946521e-01, -3.43503892e-01,\n",
       "        3.69944662e-01,  4.49093282e-01, -4.41625834e-01, -1.55511871e-01,\n",
       "       -2.90316492e-02, -2.30098113e-01,  2.91724801e-01, -4.81036433e-04,\n",
       "        1.29394934e-01,  5.10861158e-01, -5.13248861e-01, -4.15733717e-02,\n",
       "        4.78105396e-01, -3.98921430e-01, -1.01638705e-01, -3.31529140e-01,\n",
       "        4.05722335e-02, -5.23838580e-01, -3.11400652e-01, -2.87623405e-01,\n",
       "       -1.95045426e-01,  1.21688738e-01, -3.73311251e-01,  9.96663421e-02,\n",
       "       -5.88926792e-01, -9.79486763e-01, -2.41899148e-01, -3.85024428e-01,\n",
       "        1.04455695e-01, -4.16561306e-01,  1.96554929e-01, -5.15358448e-01,\n",
       "       -7.48228788e-01, -8.61212432e-01, -1.31580323e-01, -7.22306818e-02,\n",
       "       -1.76481977e-01, -1.90353692e-01,  1.51075751e-01, -4.68191326e-01,\n",
       "        1.52672693e-01, -6.55869627e-03,  3.72438103e-01,  5.57528203e-03,\n",
       "        1.18790925e-01,  4.34448689e-01, -6.90280199e-02,  9.11137685e-02,\n",
       "        7.95863032e-01, -6.92502916e-01,  3.71220231e-01, -1.58433542e-02,\n",
       "        4.79343772e-01,  2.42838301e-02,  5.05542874e-01, -1.48918420e-01,\n",
       "        7.41918862e-04,  2.44656429e-01, -9.19298887e-01,  1.18972935e-01,\n",
       "        9.55781490e-02,  1.72756076e-01, -1.38614252e-01, -2.61399522e-02,\n",
       "        3.55754018e-01, -5.77555299e-01, -3.24332952e-01,  2.11684451e-01,\n",
       "        3.29835266e-02,  4.76784557e-01,  3.27573299e-01, -2.03948796e-01,\n",
       "        8.25735182e-02,  9.01453555e-01, -4.60308969e-01, -4.36625063e-01,\n",
       "       -8.38862658e-01,  1.76239058e-01,  1.96949095e-02,  1.36691928e-01,\n",
       "       -4.47770536e-01, -3.41449022e-01, -2.33602643e-01, -3.29264790e-01,\n",
       "       -3.22519727e-02,  1.08810604e-01,  4.48561430e-01, -3.58164072e-01,\n",
       "        1.53439730e-01,  4.35023457e-01,  1.07652038e-01,  1.34504382e-02,\n",
       "       -2.31422987e-02,  1.77894965e-01, -1.64497152e-01, -7.82479271e-02,\n",
       "       -1.35184646e-01,  6.06599331e-01, -1.31093115e-01, -4.15304124e-01,\n",
       "        2.56087154e-01, -1.39848338e-02, -1.76268056e-01, -5.87967038e-01,\n",
       "       -1.70974564e-02, -1.16769508e-01,  1.95544921e-02, -3.70176107e-01,\n",
       "        7.22822323e-02, -2.62782007e-01,  6.09285478e-03, -6.11439764e-01,\n",
       "        3.60858321e-01,  4.40916061e-01,  2.80937254e-01, -3.74631807e-02,\n",
       "        1.15216449e-01,  1.27976581e-01,  2.12875366e-01,  9.03298259e-02,\n",
       "       -3.39741856e-01,  1.72654152e-01, -6.19677722e-01, -8.23313445e-02,\n",
       "        5.87907791e-01,  5.49421981e-02,  2.50730336e-01,  6.91199899e-01,\n",
       "        1.85752988e-01, -8.61355513e-02,  2.44126886e-01,  6.96403623e-01,\n",
       "        2.31264845e-01,  8.56588855e-02, -3.83632854e-02,  1.03787944e-01,\n",
       "        3.61261547e-01,  4.55949605e-01,  8.59740898e-02, -1.35489345e-01,\n",
       "        1.08717576e-01, -1.56381056e-02, -6.83200657e-01,  2.16292784e-01,\n",
       "       -2.43851885e-01, -6.14848375e-01, -5.46777129e-01, -4.73443180e-01,\n",
       "        1.43053696e-01, -6.07246049e-02,  1.69202924e-01, -2.24630348e-02,\n",
       "        3.42613071e-01,  2.78231531e-01, -5.59214294e-01, -1.69506535e-01,\n",
       "       -2.37240240e-01,  1.37887616e-02, -3.61572355e-02, -5.31849638e-02,\n",
       "        3.80810112e-01,  2.23893389e-01,  1.75285250e-01, -3.82103115e-01,\n",
       "       -3.11822534e-01, -9.83335137e-01,  3.88219476e-01,  1.31376103e-01,\n",
       "        1.25254214e-01, -4.93924946e-01, -6.88303187e-02, -1.34363249e-01,\n",
       "       -4.19355154e-01,  5.88246658e-02,  1.85449664e-02,  3.53501558e-01,\n",
       "       -4.55350459e-01,  1.16384096e-01, -3.73018801e-01, -3.81615832e-02,\n",
       "       -3.19094747e-01,  3.29879746e-02,  2.11646512e-01, -8.45648825e-01,\n",
       "        3.75422128e-02,  2.99016178e-01,  3.96351486e-01, -4.69947189e-01,\n",
       "       -4.97619092e-01, -1.02574177e-01, -3.35106924e-02, -2.18488902e-01,\n",
       "       -1.18951879e-01, -2.60662317e-01,  5.38578816e-02, -4.32038546e-01,\n",
       "        8.29581842e-02,  1.88300028e-01, -5.13449430e-01,  5.03190994e-01,\n",
       "       -2.51707047e-01,  5.11343896e-01,  4.60318960e-02,  4.52331811e-01,\n",
       "       -5.17037332e-01, -4.48856540e-02,  3.78574222e-01, -2.14615390e-01,\n",
       "       -3.47539485e-01, -2.20338739e-02, -4.79762018e-01,  3.93309236e-01,\n",
       "        3.60805929e-01, -2.57833004e-01,  5.23555849e-04,  5.93076468e-01,\n",
       "        8.60789061e-01,  5.09405434e-01,  4.38570261e-01,  4.41646129e-01,\n",
       "        3.11831921e-01, -9.11502838e-02, -2.49896362e-01, -4.09984410e-01,\n",
       "        2.23359495e-01,  1.19674183e-01, -1.90554366e-01, -2.13186339e-01,\n",
       "       -5.53659983e-02, -5.18843055e-01,  2.35422686e-01, -4.41618860e-01,\n",
       "        1.35005089e-02,  4.05299425e-01, -2.55750299e-01, -4.98660058e-02,\n",
       "        4.31365877e-01, -9.04883966e-02, -4.30857301e-01, -1.97594967e-02,\n",
       "       -1.03484103e-02,  2.30894223e-01, -1.82055414e-01,  4.25685525e-01,\n",
       "       -7.21411481e-02,  3.06627862e-02,  1.10645205e-01, -4.48274054e-02,\n",
       "        2.94782221e-01,  4.46466297e-01, -4.03623670e-01,  2.41315678e-01,\n",
       "       -6.85779378e-02,  2.38190010e-01,  4.54980671e-01,  5.60532138e-02,\n",
       "       -4.55646843e-01,  2.59309411e-01,  1.69273034e-01, -5.92009425e-01,\n",
       "       -1.96377352e-01,  4.61196274e-01, -4.03658330e-01, -6.11943960e-01,\n",
       "        8.14199805e-01,  3.68207216e-01, -6.97765410e-01, -2.78447390e-01,\n",
       "        3.50367814e-01, -2.24449888e-01, -5.22556126e-01,  4.23464507e-01,\n",
       "       -1.34367729e-02, -2.79703945e-01,  4.03030455e-01,  3.43306810e-02,\n",
       "       -2.85806894e-01,  6.30333304e-01, -5.69729328e-01, -2.51783758e-01,\n",
       "       -1.38975352e-01,  3.23236883e-01, -1.55330211e-01,  1.01758063e-01,\n",
       "       -4.97571588e-01,  5.02037346e-01, -1.07945047e-01, -1.34467453e-01,\n",
       "        5.09108245e-01,  1.08362518e-01,  8.60335007e-02, -1.73346415e-01,\n",
       "        4.24318075e-01,  5.75599551e-01,  6.36769924e-03,  1.92095637e-01,\n",
       "        7.51928017e-02, -1.52186565e-02,  1.98692843e-01,  1.01668142e-01,\n",
       "        7.48066127e-01,  6.18567884e-01,  2.48753324e-01,  2.78622299e-01,\n",
       "        4.06846106e-02, -2.81692207e-01, -1.23174965e-01,  2.55855650e-01,\n",
       "        4.34186995e-01,  3.09692949e-01,  2.60423213e-01,  2.29415894e-01,\n",
       "        1.97201118e-01, -4.97492142e-02,  1.17989928e-01, -5.67376256e-01,\n",
       "       -1.04051590e-01,  2.73284554e-01,  6.46710753e-01, -6.01921754e-04,\n",
       "       -9.99072045e-02, -1.60078495e-03, -2.65631467e-01,  2.35206038e-01,\n",
       "        2.90854603e-01,  5.04554845e-02, -4.97948736e-01,  3.97541761e-01,\n",
       "        4.74438608e-01,  1.38318464e-01, -8.16983819e-01, -8.20783153e-02,\n",
       "        2.38484032e-02,  6.38099685e-02, -6.19302541e-02, -2.94202238e-01,\n",
       "       -2.27425054e-01, -6.53330803e-01, -2.83269379e-02, -1.74473688e-01,\n",
       "       -1.05372600e-01, -3.83073717e-01, -2.01775819e-01, -2.27546006e-01,\n",
       "       -5.60854154e-04, -2.79587269e-01,  4.80245411e-01, -3.14311087e-01,\n",
       "       -2.23247390e-02,  4.41931367e-01,  6.88624501e-01,  2.94074923e-01,\n",
       "        4.36251789e-01, -1.45557523e-01, -8.42979625e-02,  1.54922932e-01,\n",
       "       -1.99631348e-01,  2.58817255e-01, -1.34479731e-01,  2.06210874e-02,\n",
       "       -7.64394924e-02, -4.58405554e-01,  3.50291312e-01,  3.63553107e-01,\n",
       "       -5.66883206e-01, -2.38540903e-01, -3.48438829e-01,  2.58212239e-01,\n",
       "        1.03457734e-01, -2.53643364e-01, -2.99199522e-01,  1.49713412e-01,\n",
       "       -6.00857496e-01,  1.86366156e-01, -1.52227238e-01,  5.47317803e-01,\n",
       "       -2.00878710e-01,  5.66749908e-02,  9.31506380e-02,  8.09788778e-02,\n",
       "        8.37235600e-02, -4.23589349e-01,  5.13128757e-01,  4.68963623e-01,\n",
       "        9.93633866e-02,  1.14400186e-01,  2.15557553e-02, -3.09632838e-01,\n",
       "       -5.70638105e-02,  1.56400844e-01, -2.10353762e-01, -5.82534634e-02,\n",
       "       -2.38205269e-01,  2.58361995e-01,  1.59645647e-01,  1.37647033e-01,\n",
       "       -5.02876699e-01,  4.66386735e-01,  3.06057066e-01, -5.77671766e-01,\n",
       "       -7.64745831e-01, -4.07940358e-01,  2.46399194e-01, -6.16323110e-03,\n",
       "       -6.11525252e-02, -2.65123188e-01,  1.39379576e-01,  3.58361930e-01,\n",
       "        2.79814988e-01, -3.81583661e-01, -8.20531994e-02,  5.83821893e-01],\n",
       "      dtype=float32)"
      ]
     },
     "execution_count": 6,
     "metadata": {},
     "output_type": "execute_result"
    }
   ],
   "source": [
    "bertvector = get_bert_vector(\"Hello auto encoder. This is a string of text. I want a vector back.\")\n",
    "print(len(bertvector))\n",
    "bertvector"
   ]
  },
  {
   "cell_type": "markdown",
   "id": "1b373687",
   "metadata": {
    "id": "1b373687"
   },
   "source": [
    "## Calculate Cosine Similarity between two sentences"
   ]
  },
  {
   "cell_type": "code",
   "execution_count": null,
   "id": "8b1cd038",
   "metadata": {
    "id": "8b1cd038",
    "tags": []
   },
   "outputs": [],
   "source": [
    "bertvector_1 = get_bert_vector(\"She eagerly accepted the job offer.\").reshape(1, -1)\n",
    "bertvector_2 = get_bert_vector(\"With great enthusiasm, she embraced the job opportunity.\").reshape(1, -1)\n",
    "\n",
    "bertvector_1 = bertvector_1.reshape(1, -1)\n",
    "bertvector_2 = bertvector_2.reshape(1, -1)"
   ]
  },
  {
   "cell_type": "code",
   "execution_count": null,
   "id": "7590ba36",
   "metadata": {
    "id": "7590ba36",
    "tags": []
   },
   "outputs": [],
   "source": [
    "from sklearn.metrics.pairwise import cosine_similarity"
   ]
  },
  {
   "cell_type": "code",
   "execution_count": null,
   "id": "b6d11923",
   "metadata": {
    "colab": {
     "base_uri": "https://localhost:8080/"
    },
    "executionInfo": {
     "elapsed": 130,
     "status": "ok",
     "timestamp": 1700342174099,
     "user": {
      "displayName": "Gunnar Kleemann",
      "userId": "02122813220075330457"
     },
     "user_tz": 360
    },
    "id": "b6d11923",
    "outputId": "56891607-6f95-49c9-c5e3-53441c072040",
    "tags": []
   },
   "outputs": [
    {
     "data": {
      "text/plain": [
       "array([[0.8592123]], dtype=float32)"
      ]
     },
     "execution_count": 30,
     "metadata": {},
     "output_type": "execute_result"
    }
   ],
   "source": [
    "cosine_similarity(bertvector_1, bertvector_2)"
   ]
  },
  {
   "cell_type": "markdown",
   "id": "86fba2ce-e1d8-4c96-b430-697cf1d2bfb9",
   "metadata": {
    "id": "86fba2ce-e1d8-4c96-b430-697cf1d2bfb9"
   },
   "source": [
    "# ML Model using BERT Vectors"
   ]
  },
  {
   "cell_type": "code",
   "execution_count": null,
   "id": "ef335778-1131-4b75-8fa3-df49d2419aac",
   "metadata": {
    "colab": {
     "base_uri": "https://localhost:8080/",
     "height": 206
    },
    "executionInfo": {
     "elapsed": 563,
     "status": "ok",
     "timestamp": 1700525570079,
     "user": {
      "displayName": "Gunnar Kleemann",
      "userId": "02122813220075330457"
     },
     "user_tz": 360
    },
    "id": "ef335778-1131-4b75-8fa3-df49d2419aac",
    "outputId": "d77084bf-a669-4787-c4f9-f4c697b7f0b6",
    "tags": []
   },
   "outputs": [
    {
     "data": {
      "text/html": [
       "\n",
       "  <div id=\"df-2d191de8-c761-46fa-8353-b8eee33f438e\" class=\"colab-df-container\">\n",
       "    <div>\n",
       "<style scoped>\n",
       "    .dataframe tbody tr th:only-of-type {\n",
       "        vertical-align: middle;\n",
       "    }\n",
       "\n",
       "    .dataframe tbody tr th {\n",
       "        vertical-align: top;\n",
       "    }\n",
       "\n",
       "    .dataframe thead th {\n",
       "        text-align: right;\n",
       "    }\n",
       "</style>\n",
       "<table border=\"1\" class=\"dataframe\">\n",
       "  <thead>\n",
       "    <tr style=\"text-align: right;\">\n",
       "      <th></th>\n",
       "      <th>text</th>\n",
       "      <th>sentiment</th>\n",
       "    </tr>\n",
       "  </thead>\n",
       "  <tbody>\n",
       "    <tr>\n",
       "      <th>95</th>\n",
       "      <td>OPS sorry  Queen Mom</td>\n",
       "      <td>negative</td>\n",
       "    </tr>\n",
       "    <tr>\n",
       "      <th>96</th>\n",
       "      <td>I overslept  headache</td>\n",
       "      <td>negative</td>\n",
       "    </tr>\n",
       "    <tr>\n",
       "      <th>97</th>\n",
       "      <td>just got home from work.... and is chugging do...</td>\n",
       "      <td>neutral</td>\n",
       "    </tr>\n",
       "    <tr>\n",
       "      <th>98</th>\n",
       "      <td>Im trying to move and get up but it just hurts...</td>\n",
       "      <td>negative</td>\n",
       "    </tr>\n",
       "    <tr>\n",
       "      <th>99</th>\n",
       "      <td>I can`t wait to see UP! How dare  have a 'real...</td>\n",
       "      <td>neutral</td>\n",
       "    </tr>\n",
       "  </tbody>\n",
       "</table>\n",
       "</div>\n",
       "    <div class=\"colab-df-buttons\">\n",
       "\n",
       "  <div class=\"colab-df-container\">\n",
       "    <button class=\"colab-df-convert\" onclick=\"convertToInteractive('df-2d191de8-c761-46fa-8353-b8eee33f438e')\"\n",
       "            title=\"Convert this dataframe to an interactive table.\"\n",
       "            style=\"display:none;\">\n",
       "\n",
       "  <svg xmlns=\"http://www.w3.org/2000/svg\" height=\"24px\" viewBox=\"0 -960 960 960\">\n",
       "    <path d=\"M120-120v-720h720v720H120Zm60-500h600v-160H180v160Zm220 220h160v-160H400v160Zm0 220h160v-160H400v160ZM180-400h160v-160H180v160Zm440 0h160v-160H620v160ZM180-180h160v-160H180v160Zm440 0h160v-160H620v160Z\"/>\n",
       "  </svg>\n",
       "    </button>\n",
       "\n",
       "  <style>\n",
       "    .colab-df-container {\n",
       "      display:flex;\n",
       "      gap: 12px;\n",
       "    }\n",
       "\n",
       "    .colab-df-convert {\n",
       "      background-color: #E8F0FE;\n",
       "      border: none;\n",
       "      border-radius: 50%;\n",
       "      cursor: pointer;\n",
       "      display: none;\n",
       "      fill: #1967D2;\n",
       "      height: 32px;\n",
       "      padding: 0 0 0 0;\n",
       "      width: 32px;\n",
       "    }\n",
       "\n",
       "    .colab-df-convert:hover {\n",
       "      background-color: #E2EBFA;\n",
       "      box-shadow: 0px 1px 2px rgba(60, 64, 67, 0.3), 0px 1px 3px 1px rgba(60, 64, 67, 0.15);\n",
       "      fill: #174EA6;\n",
       "    }\n",
       "\n",
       "    .colab-df-buttons div {\n",
       "      margin-bottom: 4px;\n",
       "    }\n",
       "\n",
       "    [theme=dark] .colab-df-convert {\n",
       "      background-color: #3B4455;\n",
       "      fill: #D2E3FC;\n",
       "    }\n",
       "\n",
       "    [theme=dark] .colab-df-convert:hover {\n",
       "      background-color: #434B5C;\n",
       "      box-shadow: 0px 1px 3px 1px rgba(0, 0, 0, 0.15);\n",
       "      filter: drop-shadow(0px 1px 2px rgba(0, 0, 0, 0.3));\n",
       "      fill: #FFFFFF;\n",
       "    }\n",
       "  </style>\n",
       "\n",
       "    <script>\n",
       "      const buttonEl =\n",
       "        document.querySelector('#df-2d191de8-c761-46fa-8353-b8eee33f438e button.colab-df-convert');\n",
       "      buttonEl.style.display =\n",
       "        google.colab.kernel.accessAllowed ? 'block' : 'none';\n",
       "\n",
       "      async function convertToInteractive(key) {\n",
       "        const element = document.querySelector('#df-2d191de8-c761-46fa-8353-b8eee33f438e');\n",
       "        const dataTable =\n",
       "          await google.colab.kernel.invokeFunction('convertToInteractive',\n",
       "                                                    [key], {});\n",
       "        if (!dataTable) return;\n",
       "\n",
       "        const docLinkHtml = 'Like what you see? Visit the ' +\n",
       "          '<a target=\"_blank\" href=https://colab.research.google.com/notebooks/data_table.ipynb>data table notebook</a>'\n",
       "          + ' to learn more about interactive tables.';\n",
       "        element.innerHTML = '';\n",
       "        dataTable['output_type'] = 'display_data';\n",
       "        await google.colab.output.renderOutput(dataTable, element);\n",
       "        const docLink = document.createElement('div');\n",
       "        docLink.innerHTML = docLinkHtml;\n",
       "        element.appendChild(docLink);\n",
       "      }\n",
       "    </script>\n",
       "  </div>\n",
       "\n",
       "\n",
       "<div id=\"df-86e97a8c-338c-4af9-9b78-01bac8728f4e\">\n",
       "  <button class=\"colab-df-quickchart\" onclick=\"quickchart('df-86e97a8c-338c-4af9-9b78-01bac8728f4e')\"\n",
       "            title=\"Suggest charts\"\n",
       "            style=\"display:none;\">\n",
       "\n",
       "<svg xmlns=\"http://www.w3.org/2000/svg\" height=\"24px\"viewBox=\"0 0 24 24\"\n",
       "     width=\"24px\">\n",
       "    <g>\n",
       "        <path d=\"M19 3H5c-1.1 0-2 .9-2 2v14c0 1.1.9 2 2 2h14c1.1 0 2-.9 2-2V5c0-1.1-.9-2-2-2zM9 17H7v-7h2v7zm4 0h-2V7h2v10zm4 0h-2v-4h2v4z\"/>\n",
       "    </g>\n",
       "</svg>\n",
       "  </button>\n",
       "\n",
       "<style>\n",
       "  .colab-df-quickchart {\n",
       "      --bg-color: #E8F0FE;\n",
       "      --fill-color: #1967D2;\n",
       "      --hover-bg-color: #E2EBFA;\n",
       "      --hover-fill-color: #174EA6;\n",
       "      --disabled-fill-color: #AAA;\n",
       "      --disabled-bg-color: #DDD;\n",
       "  }\n",
       "\n",
       "  [theme=dark] .colab-df-quickchart {\n",
       "      --bg-color: #3B4455;\n",
       "      --fill-color: #D2E3FC;\n",
       "      --hover-bg-color: #434B5C;\n",
       "      --hover-fill-color: #FFFFFF;\n",
       "      --disabled-bg-color: #3B4455;\n",
       "      --disabled-fill-color: #666;\n",
       "  }\n",
       "\n",
       "  .colab-df-quickchart {\n",
       "    background-color: var(--bg-color);\n",
       "    border: none;\n",
       "    border-radius: 50%;\n",
       "    cursor: pointer;\n",
       "    display: none;\n",
       "    fill: var(--fill-color);\n",
       "    height: 32px;\n",
       "    padding: 0;\n",
       "    width: 32px;\n",
       "  }\n",
       "\n",
       "  .colab-df-quickchart:hover {\n",
       "    background-color: var(--hover-bg-color);\n",
       "    box-shadow: 0 1px 2px rgba(60, 64, 67, 0.3), 0 1px 3px 1px rgba(60, 64, 67, 0.15);\n",
       "    fill: var(--button-hover-fill-color);\n",
       "  }\n",
       "\n",
       "  .colab-df-quickchart-complete:disabled,\n",
       "  .colab-df-quickchart-complete:disabled:hover {\n",
       "    background-color: var(--disabled-bg-color);\n",
       "    fill: var(--disabled-fill-color);\n",
       "    box-shadow: none;\n",
       "  }\n",
       "\n",
       "  .colab-df-spinner {\n",
       "    border: 2px solid var(--fill-color);\n",
       "    border-color: transparent;\n",
       "    border-bottom-color: var(--fill-color);\n",
       "    animation:\n",
       "      spin 1s steps(1) infinite;\n",
       "  }\n",
       "\n",
       "  @keyframes spin {\n",
       "    0% {\n",
       "      border-color: transparent;\n",
       "      border-bottom-color: var(--fill-color);\n",
       "      border-left-color: var(--fill-color);\n",
       "    }\n",
       "    20% {\n",
       "      border-color: transparent;\n",
       "      border-left-color: var(--fill-color);\n",
       "      border-top-color: var(--fill-color);\n",
       "    }\n",
       "    30% {\n",
       "      border-color: transparent;\n",
       "      border-left-color: var(--fill-color);\n",
       "      border-top-color: var(--fill-color);\n",
       "      border-right-color: var(--fill-color);\n",
       "    }\n",
       "    40% {\n",
       "      border-color: transparent;\n",
       "      border-right-color: var(--fill-color);\n",
       "      border-top-color: var(--fill-color);\n",
       "    }\n",
       "    60% {\n",
       "      border-color: transparent;\n",
       "      border-right-color: var(--fill-color);\n",
       "    }\n",
       "    80% {\n",
       "      border-color: transparent;\n",
       "      border-right-color: var(--fill-color);\n",
       "      border-bottom-color: var(--fill-color);\n",
       "    }\n",
       "    90% {\n",
       "      border-color: transparent;\n",
       "      border-bottom-color: var(--fill-color);\n",
       "    }\n",
       "  }\n",
       "</style>\n",
       "\n",
       "  <script>\n",
       "    async function quickchart(key) {\n",
       "      const quickchartButtonEl =\n",
       "        document.querySelector('#' + key + ' button');\n",
       "      quickchartButtonEl.disabled = true;  // To prevent multiple clicks.\n",
       "      quickchartButtonEl.classList.add('colab-df-spinner');\n",
       "      try {\n",
       "        const charts = await google.colab.kernel.invokeFunction(\n",
       "            'suggestCharts', [key], {});\n",
       "      } catch (error) {\n",
       "        console.error('Error during call to suggestCharts:', error);\n",
       "      }\n",
       "      quickchartButtonEl.classList.remove('colab-df-spinner');\n",
       "      quickchartButtonEl.classList.add('colab-df-quickchart-complete');\n",
       "    }\n",
       "    (() => {\n",
       "      let quickchartButtonEl =\n",
       "        document.querySelector('#df-86e97a8c-338c-4af9-9b78-01bac8728f4e button');\n",
       "      quickchartButtonEl.style.display =\n",
       "        google.colab.kernel.accessAllowed ? 'block' : 'none';\n",
       "    })();\n",
       "  </script>\n",
       "</div>\n",
       "    </div>\n",
       "  </div>\n"
      ],
      "text/plain": [
       "                                                 text sentiment\n",
       "95                               OPS sorry  Queen Mom  negative\n",
       "96                              I overslept  headache  negative\n",
       "97  just got home from work.... and is chugging do...   neutral\n",
       "98  Im trying to move and get up but it just hurts...  negative\n",
       "99  I can`t wait to see UP! How dare  have a 'real...   neutral"
      ]
     },
     "execution_count": 18,
     "metadata": {},
     "output_type": "execute_result"
    }
   ],
   "source": [
    "import pandas as pd\n",
    "#df = pd.read_csv(\"s3://webage-genai-data/sentiment_data_for_exercise/sentiment_data.csv\")\n",
    "df = pd.read_csv(\"s3://btcampdata/sentiment_data.csv\")\n",
    "df.tail()"
   ]
  },
  {
   "cell_type": "code",
   "execution_count": null,
   "id": "c4bd6c96",
   "metadata": {
    "id": "c4bd6c96"
   },
   "outputs": [],
   "source": [
    "df.describe()"
   ]
  },
  {
   "cell_type": "code",
   "execution_count": null,
   "id": "d89894d8",
   "metadata": {
    "colab": {
     "base_uri": "https://localhost:8080/"
    },
    "executionInfo": {
     "elapsed": 129,
     "status": "ok",
     "timestamp": 1700525587923,
     "user": {
      "displayName": "Gunnar Kleemann",
      "userId": "02122813220075330457"
     },
     "user_tz": 360
    },
    "id": "d89894d8",
    "outputId": "01cdc76d-20f2-4a8e-d227-f93c863bc3f9"
   },
   "outputs": [
    {
     "data": {
      "text/plain": [
       "positive    38\n",
       "neutral     35\n",
       "negative    27\n",
       "Name: sentiment, dtype: int64"
      ]
     },
     "execution_count": 20,
     "metadata": {},
     "output_type": "execute_result"
    }
   ],
   "source": [
    "df['sentiment'].value_counts()"
   ]
  },
  {
   "cell_type": "code",
   "execution_count": null,
   "id": "5ee9bbd8",
   "metadata": {
    "id": "5ee9bbd8"
   },
   "outputs": [],
   "source": [
    "df['vectors'] = df['text'].apply(lambda x: list(get_bert_vector(x)))"
   ]
  },
  {
   "cell_type": "markdown",
   "id": "3e8ded56",
   "metadata": {
    "id": "3e8ded56"
   },
   "source": [
    "Wait a little bit.."
   ]
  },
  {
   "cell_type": "code",
   "execution_count": null,
   "id": "d90dc408",
   "metadata": {
    "id": "d90dc408"
   },
   "outputs": [],
   "source": [
    "df"
   ]
  },
  {
   "cell_type": "markdown",
   "id": "fa50650e",
   "metadata": {
    "id": "fa50650e"
   },
   "source": [
    "Encode \"sentiment\" column"
   ]
  },
  {
   "cell_type": "code",
   "execution_count": null,
   "id": "773d9e66",
   "metadata": {
    "id": "773d9e66"
   },
   "outputs": [],
   "source": [
    "from sklearn.preprocessing import LabelEncoder\n",
    "\n",
    "# Creating a instance of label Encoder.\n",
    "label_encoder = LabelEncoder()\n",
    "\n",
    "# Using .fit_transform function to fit label\n",
    "# encoder and return encoded label\n",
    "df['sentiment'] = label_encoder.fit_transform(df['sentiment'])\n",
    "df"
   ]
  },
  {
   "cell_type": "markdown",
   "id": "6558c09b",
   "metadata": {
    "id": "6558c09b"
   },
   "source": [
    "Prepare vectors for trainig"
   ]
  },
  {
   "cell_type": "code",
   "execution_count": null,
   "id": "b22017dc",
   "metadata": {
    "id": "b22017dc"
   },
   "outputs": [],
   "source": [
    "X = df['vectors'].apply(lambda x: pd.Series(x))\n",
    "Y = df['sentiment']"
   ]
  },
  {
   "cell_type": "code",
   "execution_count": null,
   "id": "d3d98398",
   "metadata": {
    "id": "d3d98398"
   },
   "outputs": [],
   "source": [
    "X"
   ]
  },
  {
   "cell_type": "code",
   "execution_count": null,
   "id": "e870f454",
   "metadata": {
    "id": "e870f454"
   },
   "outputs": [],
   "source": [
    "Y"
   ]
  },
  {
   "cell_type": "markdown",
   "id": "0e563620",
   "metadata": {
    "id": "0e563620"
   },
   "source": [
    "Split data into train/test datasets"
   ]
  },
  {
   "cell_type": "code",
   "execution_count": null,
   "id": "5330347e",
   "metadata": {
    "id": "5330347e"
   },
   "outputs": [],
   "source": [
    "from sklearn.model_selection import train_test_split\n",
    "\n",
    "X_train, X_test, y_train, y_test = train_test_split(\n",
    "    X, Y, test_size=0.25, random_state=125\n",
    ")"
   ]
  },
  {
   "cell_type": "markdown",
   "id": "505984f6",
   "metadata": {
    "id": "505984f6"
   },
   "source": [
    "Fit the model"
   ]
  },
  {
   "cell_type": "code",
   "execution_count": null,
   "id": "cb7e313a",
   "metadata": {
    "id": "cb7e313a"
   },
   "outputs": [],
   "source": [
    "from sklearn.naive_bayes import GaussianNB\n",
    "\n",
    "# Build a Gaussian Classifier\n",
    "model = GaussianNB()\n",
    "\n",
    "# Model training\n",
    "model.fit(X_train, y_train)"
   ]
  },
  {
   "cell_type": "markdown",
   "id": "0e41ff5b",
   "metadata": {
    "id": "0e41ff5b"
   },
   "source": [
    "Evaluate"
   ]
  },
  {
   "cell_type": "code",
   "execution_count": null,
   "id": "6073bd65-fdd0-4099-a687-4ee02d6a0071",
   "metadata": {
    "id": "6073bd65-fdd0-4099-a687-4ee02d6a0071"
   },
   "outputs": [],
   "source": [
    "from sklearn.metrics import accuracy_score, f1_score\n",
    "\n",
    "y_pred = model.predict(X_test)\n",
    "accuray = accuracy_score(y_pred, y_test)\n",
    "f1 = f1_score(y_pred, y_test, average=\"weighted\")\n",
    "\n",
    "print(\"Accuracy:\", accuray)\n",
    "print(\"F1 score:\", f1)"
   ]
  }
 ],
 "metadata": {
  "availableInstances": [
   {
    "_defaultOrder": 0,
    "_isFastLaunch": true,
    "category": "General purpose",
    "gpuNum": 0,
    "hideHardwareSpecs": false,
    "memoryGiB": 4,
    "name": "ml.t3.medium",
    "vcpuNum": 2
   },
   {
    "_defaultOrder": 1,
    "_isFastLaunch": false,
    "category": "General purpose",
    "gpuNum": 0,
    "hideHardwareSpecs": false,
    "memoryGiB": 8,
    "name": "ml.t3.large",
    "vcpuNum": 2
   },
   {
    "_defaultOrder": 2,
    "_isFastLaunch": false,
    "category": "General purpose",
    "gpuNum": 0,
    "hideHardwareSpecs": false,
    "memoryGiB": 16,
    "name": "ml.t3.xlarge",
    "vcpuNum": 4
   },
   {
    "_defaultOrder": 3,
    "_isFastLaunch": false,
    "category": "General purpose",
    "gpuNum": 0,
    "hideHardwareSpecs": false,
    "memoryGiB": 32,
    "name": "ml.t3.2xlarge",
    "vcpuNum": 8
   },
   {
    "_defaultOrder": 4,
    "_isFastLaunch": true,
    "category": "General purpose",
    "gpuNum": 0,
    "hideHardwareSpecs": false,
    "memoryGiB": 8,
    "name": "ml.m5.large",
    "vcpuNum": 2
   },
   {
    "_defaultOrder": 5,
    "_isFastLaunch": false,
    "category": "General purpose",
    "gpuNum": 0,
    "hideHardwareSpecs": false,
    "memoryGiB": 16,
    "name": "ml.m5.xlarge",
    "vcpuNum": 4
   },
   {
    "_defaultOrder": 6,
    "_isFastLaunch": false,
    "category": "General purpose",
    "gpuNum": 0,
    "hideHardwareSpecs": false,
    "memoryGiB": 32,
    "name": "ml.m5.2xlarge",
    "vcpuNum": 8
   },
   {
    "_defaultOrder": 7,
    "_isFastLaunch": false,
    "category": "General purpose",
    "gpuNum": 0,
    "hideHardwareSpecs": false,
    "memoryGiB": 64,
    "name": "ml.m5.4xlarge",
    "vcpuNum": 16
   },
   {
    "_defaultOrder": 8,
    "_isFastLaunch": false,
    "category": "General purpose",
    "gpuNum": 0,
    "hideHardwareSpecs": false,
    "memoryGiB": 128,
    "name": "ml.m5.8xlarge",
    "vcpuNum": 32
   },
   {
    "_defaultOrder": 9,
    "_isFastLaunch": false,
    "category": "General purpose",
    "gpuNum": 0,
    "hideHardwareSpecs": false,
    "memoryGiB": 192,
    "name": "ml.m5.12xlarge",
    "vcpuNum": 48
   },
   {
    "_defaultOrder": 10,
    "_isFastLaunch": false,
    "category": "General purpose",
    "gpuNum": 0,
    "hideHardwareSpecs": false,
    "memoryGiB": 256,
    "name": "ml.m5.16xlarge",
    "vcpuNum": 64
   },
   {
    "_defaultOrder": 11,
    "_isFastLaunch": false,
    "category": "General purpose",
    "gpuNum": 0,
    "hideHardwareSpecs": false,
    "memoryGiB": 384,
    "name": "ml.m5.24xlarge",
    "vcpuNum": 96
   },
   {
    "_defaultOrder": 12,
    "_isFastLaunch": false,
    "category": "General purpose",
    "gpuNum": 0,
    "hideHardwareSpecs": false,
    "memoryGiB": 8,
    "name": "ml.m5d.large",
    "vcpuNum": 2
   },
   {
    "_defaultOrder": 13,
    "_isFastLaunch": false,
    "category": "General purpose",
    "gpuNum": 0,
    "hideHardwareSpecs": false,
    "memoryGiB": 16,
    "name": "ml.m5d.xlarge",
    "vcpuNum": 4
   },
   {
    "_defaultOrder": 14,
    "_isFastLaunch": false,
    "category": "General purpose",
    "gpuNum": 0,
    "hideHardwareSpecs": false,
    "memoryGiB": 32,
    "name": "ml.m5d.2xlarge",
    "vcpuNum": 8
   },
   {
    "_defaultOrder": 15,
    "_isFastLaunch": false,
    "category": "General purpose",
    "gpuNum": 0,
    "hideHardwareSpecs": false,
    "memoryGiB": 64,
    "name": "ml.m5d.4xlarge",
    "vcpuNum": 16
   },
   {
    "_defaultOrder": 16,
    "_isFastLaunch": false,
    "category": "General purpose",
    "gpuNum": 0,
    "hideHardwareSpecs": false,
    "memoryGiB": 128,
    "name": "ml.m5d.8xlarge",
    "vcpuNum": 32
   },
   {
    "_defaultOrder": 17,
    "_isFastLaunch": false,
    "category": "General purpose",
    "gpuNum": 0,
    "hideHardwareSpecs": false,
    "memoryGiB": 192,
    "name": "ml.m5d.12xlarge",
    "vcpuNum": 48
   },
   {
    "_defaultOrder": 18,
    "_isFastLaunch": false,
    "category": "General purpose",
    "gpuNum": 0,
    "hideHardwareSpecs": false,
    "memoryGiB": 256,
    "name": "ml.m5d.16xlarge",
    "vcpuNum": 64
   },
   {
    "_defaultOrder": 19,
    "_isFastLaunch": false,
    "category": "General purpose",
    "gpuNum": 0,
    "hideHardwareSpecs": false,
    "memoryGiB": 384,
    "name": "ml.m5d.24xlarge",
    "vcpuNum": 96
   },
   {
    "_defaultOrder": 20,
    "_isFastLaunch": false,
    "category": "General purpose",
    "gpuNum": 0,
    "hideHardwareSpecs": true,
    "memoryGiB": 0,
    "name": "ml.geospatial.interactive",
    "supportedImageNames": [
     "sagemaker-geospatial-v1-0"
    ],
    "vcpuNum": 0
   },
   {
    "_defaultOrder": 21,
    "_isFastLaunch": true,
    "category": "Compute optimized",
    "gpuNum": 0,
    "hideHardwareSpecs": false,
    "memoryGiB": 4,
    "name": "ml.c5.large",
    "vcpuNum": 2
   },
   {
    "_defaultOrder": 22,
    "_isFastLaunch": false,
    "category": "Compute optimized",
    "gpuNum": 0,
    "hideHardwareSpecs": false,
    "memoryGiB": 8,
    "name": "ml.c5.xlarge",
    "vcpuNum": 4
   },
   {
    "_defaultOrder": 23,
    "_isFastLaunch": false,
    "category": "Compute optimized",
    "gpuNum": 0,
    "hideHardwareSpecs": false,
    "memoryGiB": 16,
    "name": "ml.c5.2xlarge",
    "vcpuNum": 8
   },
   {
    "_defaultOrder": 24,
    "_isFastLaunch": false,
    "category": "Compute optimized",
    "gpuNum": 0,
    "hideHardwareSpecs": false,
    "memoryGiB": 32,
    "name": "ml.c5.4xlarge",
    "vcpuNum": 16
   },
   {
    "_defaultOrder": 25,
    "_isFastLaunch": false,
    "category": "Compute optimized",
    "gpuNum": 0,
    "hideHardwareSpecs": false,
    "memoryGiB": 72,
    "name": "ml.c5.9xlarge",
    "vcpuNum": 36
   },
   {
    "_defaultOrder": 26,
    "_isFastLaunch": false,
    "category": "Compute optimized",
    "gpuNum": 0,
    "hideHardwareSpecs": false,
    "memoryGiB": 96,
    "name": "ml.c5.12xlarge",
    "vcpuNum": 48
   },
   {
    "_defaultOrder": 27,
    "_isFastLaunch": false,
    "category": "Compute optimized",
    "gpuNum": 0,
    "hideHardwareSpecs": false,
    "memoryGiB": 144,
    "name": "ml.c5.18xlarge",
    "vcpuNum": 72
   },
   {
    "_defaultOrder": 28,
    "_isFastLaunch": false,
    "category": "Compute optimized",
    "gpuNum": 0,
    "hideHardwareSpecs": false,
    "memoryGiB": 192,
    "name": "ml.c5.24xlarge",
    "vcpuNum": 96
   },
   {
    "_defaultOrder": 29,
    "_isFastLaunch": true,
    "category": "Accelerated computing",
    "gpuNum": 1,
    "hideHardwareSpecs": false,
    "memoryGiB": 16,
    "name": "ml.g4dn.xlarge",
    "vcpuNum": 4
   },
   {
    "_defaultOrder": 30,
    "_isFastLaunch": false,
    "category": "Accelerated computing",
    "gpuNum": 1,
    "hideHardwareSpecs": false,
    "memoryGiB": 32,
    "name": "ml.g4dn.2xlarge",
    "vcpuNum": 8
   },
   {
    "_defaultOrder": 31,
    "_isFastLaunch": false,
    "category": "Accelerated computing",
    "gpuNum": 1,
    "hideHardwareSpecs": false,
    "memoryGiB": 64,
    "name": "ml.g4dn.4xlarge",
    "vcpuNum": 16
   },
   {
    "_defaultOrder": 32,
    "_isFastLaunch": false,
    "category": "Accelerated computing",
    "gpuNum": 1,
    "hideHardwareSpecs": false,
    "memoryGiB": 128,
    "name": "ml.g4dn.8xlarge",
    "vcpuNum": 32
   },
   {
    "_defaultOrder": 33,
    "_isFastLaunch": false,
    "category": "Accelerated computing",
    "gpuNum": 4,
    "hideHardwareSpecs": false,
    "memoryGiB": 192,
    "name": "ml.g4dn.12xlarge",
    "vcpuNum": 48
   },
   {
    "_defaultOrder": 34,
    "_isFastLaunch": false,
    "category": "Accelerated computing",
    "gpuNum": 1,
    "hideHardwareSpecs": false,
    "memoryGiB": 256,
    "name": "ml.g4dn.16xlarge",
    "vcpuNum": 64
   },
   {
    "_defaultOrder": 35,
    "_isFastLaunch": false,
    "category": "Accelerated computing",
    "gpuNum": 1,
    "hideHardwareSpecs": false,
    "memoryGiB": 61,
    "name": "ml.p3.2xlarge",
    "vcpuNum": 8
   },
   {
    "_defaultOrder": 36,
    "_isFastLaunch": false,
    "category": "Accelerated computing",
    "gpuNum": 4,
    "hideHardwareSpecs": false,
    "memoryGiB": 244,
    "name": "ml.p3.8xlarge",
    "vcpuNum": 32
   },
   {
    "_defaultOrder": 37,
    "_isFastLaunch": false,
    "category": "Accelerated computing",
    "gpuNum": 8,
    "hideHardwareSpecs": false,
    "memoryGiB": 488,
    "name": "ml.p3.16xlarge",
    "vcpuNum": 64
   },
   {
    "_defaultOrder": 38,
    "_isFastLaunch": false,
    "category": "Accelerated computing",
    "gpuNum": 8,
    "hideHardwareSpecs": false,
    "memoryGiB": 768,
    "name": "ml.p3dn.24xlarge",
    "vcpuNum": 96
   },
   {
    "_defaultOrder": 39,
    "_isFastLaunch": false,
    "category": "Memory Optimized",
    "gpuNum": 0,
    "hideHardwareSpecs": false,
    "memoryGiB": 16,
    "name": "ml.r5.large",
    "vcpuNum": 2
   },
   {
    "_defaultOrder": 40,
    "_isFastLaunch": false,
    "category": "Memory Optimized",
    "gpuNum": 0,
    "hideHardwareSpecs": false,
    "memoryGiB": 32,
    "name": "ml.r5.xlarge",
    "vcpuNum": 4
   },
   {
    "_defaultOrder": 41,
    "_isFastLaunch": false,
    "category": "Memory Optimized",
    "gpuNum": 0,
    "hideHardwareSpecs": false,
    "memoryGiB": 64,
    "name": "ml.r5.2xlarge",
    "vcpuNum": 8
   },
   {
    "_defaultOrder": 42,
    "_isFastLaunch": false,
    "category": "Memory Optimized",
    "gpuNum": 0,
    "hideHardwareSpecs": false,
    "memoryGiB": 128,
    "name": "ml.r5.4xlarge",
    "vcpuNum": 16
   },
   {
    "_defaultOrder": 43,
    "_isFastLaunch": false,
    "category": "Memory Optimized",
    "gpuNum": 0,
    "hideHardwareSpecs": false,
    "memoryGiB": 256,
    "name": "ml.r5.8xlarge",
    "vcpuNum": 32
   },
   {
    "_defaultOrder": 44,
    "_isFastLaunch": false,
    "category": "Memory Optimized",
    "gpuNum": 0,
    "hideHardwareSpecs": false,
    "memoryGiB": 384,
    "name": "ml.r5.12xlarge",
    "vcpuNum": 48
   },
   {
    "_defaultOrder": 45,
    "_isFastLaunch": false,
    "category": "Memory Optimized",
    "gpuNum": 0,
    "hideHardwareSpecs": false,
    "memoryGiB": 512,
    "name": "ml.r5.16xlarge",
    "vcpuNum": 64
   },
   {
    "_defaultOrder": 46,
    "_isFastLaunch": false,
    "category": "Memory Optimized",
    "gpuNum": 0,
    "hideHardwareSpecs": false,
    "memoryGiB": 768,
    "name": "ml.r5.24xlarge",
    "vcpuNum": 96
   },
   {
    "_defaultOrder": 47,
    "_isFastLaunch": false,
    "category": "Accelerated computing",
    "gpuNum": 1,
    "hideHardwareSpecs": false,
    "memoryGiB": 16,
    "name": "ml.g5.xlarge",
    "vcpuNum": 4
   },
   {
    "_defaultOrder": 48,
    "_isFastLaunch": false,
    "category": "Accelerated computing",
    "gpuNum": 1,
    "hideHardwareSpecs": false,
    "memoryGiB": 32,
    "name": "ml.g5.2xlarge",
    "vcpuNum": 8
   },
   {
    "_defaultOrder": 49,
    "_isFastLaunch": false,
    "category": "Accelerated computing",
    "gpuNum": 1,
    "hideHardwareSpecs": false,
    "memoryGiB": 64,
    "name": "ml.g5.4xlarge",
    "vcpuNum": 16
   },
   {
    "_defaultOrder": 50,
    "_isFastLaunch": false,
    "category": "Accelerated computing",
    "gpuNum": 1,
    "hideHardwareSpecs": false,
    "memoryGiB": 128,
    "name": "ml.g5.8xlarge",
    "vcpuNum": 32
   },
   {
    "_defaultOrder": 51,
    "_isFastLaunch": false,
    "category": "Accelerated computing",
    "gpuNum": 1,
    "hideHardwareSpecs": false,
    "memoryGiB": 256,
    "name": "ml.g5.16xlarge",
    "vcpuNum": 64
   },
   {
    "_defaultOrder": 52,
    "_isFastLaunch": false,
    "category": "Accelerated computing",
    "gpuNum": 4,
    "hideHardwareSpecs": false,
    "memoryGiB": 192,
    "name": "ml.g5.12xlarge",
    "vcpuNum": 48
   },
   {
    "_defaultOrder": 53,
    "_isFastLaunch": false,
    "category": "Accelerated computing",
    "gpuNum": 4,
    "hideHardwareSpecs": false,
    "memoryGiB": 384,
    "name": "ml.g5.24xlarge",
    "vcpuNum": 96
   },
   {
    "_defaultOrder": 54,
    "_isFastLaunch": false,
    "category": "Accelerated computing",
    "gpuNum": 8,
    "hideHardwareSpecs": false,
    "memoryGiB": 768,
    "name": "ml.g5.48xlarge",
    "vcpuNum": 192
   },
   {
    "_defaultOrder": 55,
    "_isFastLaunch": false,
    "category": "Accelerated computing",
    "gpuNum": 8,
    "hideHardwareSpecs": false,
    "memoryGiB": 1152,
    "name": "ml.p4d.24xlarge",
    "vcpuNum": 96
   },
   {
    "_defaultOrder": 56,
    "_isFastLaunch": false,
    "category": "Accelerated computing",
    "gpuNum": 8,
    "hideHardwareSpecs": false,
    "memoryGiB": 1152,
    "name": "ml.p4de.24xlarge",
    "vcpuNum": 96
   },
   {
    "_defaultOrder": 57,
    "_isFastLaunch": false,
    "category": "Accelerated computing",
    "gpuNum": 0,
    "hideHardwareSpecs": false,
    "memoryGiB": 32,
    "name": "ml.trn1.2xlarge",
    "vcpuNum": 8
   },
   {
    "_defaultOrder": 58,
    "_isFastLaunch": false,
    "category": "Accelerated computing",
    "gpuNum": 0,
    "hideHardwareSpecs": false,
    "memoryGiB": 512,
    "name": "ml.trn1.32xlarge",
    "vcpuNum": 128
   },
   {
    "_defaultOrder": 59,
    "_isFastLaunch": false,
    "category": "Accelerated computing",
    "gpuNum": 0,
    "hideHardwareSpecs": false,
    "memoryGiB": 512,
    "name": "ml.trn1n.32xlarge",
    "vcpuNum": 128
   }
  ],
  "colab": {
   "provenance": []
  },
  "instance_type": "ml.t3.medium",
  "kernelspec": {
   "display_name": "Python 3 (SageMaker Distribution v0 GPU)",
   "language": "python",
   "name": "python3__SAGEMAKER_INTERNAL__arn:aws:sagemaker:us-west-2:542918446943:image/sagemaker-distribution-gpu-v0"
  },
  "language_info": {
   "codemirror_mode": {
    "name": "ipython",
    "version": 3
   },
   "file_extension": ".py",
   "mimetype": "text/x-python",
   "name": "python",
   "nbconvert_exporter": "python",
   "pygments_lexer": "ipython3",
   "version": "3.8.18"
  }
 },
 "nbformat": 4,
 "nbformat_minor": 5
}

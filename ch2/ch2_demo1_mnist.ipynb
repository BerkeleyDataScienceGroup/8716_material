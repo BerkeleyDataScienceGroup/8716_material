{
 "cells": [
  {
   "cell_type": "markdown",
   "id": "894b1125",
   "metadata": {
    "id": "894b1125"
   },
   "source": [
    "# Project 1: Digit Classification with KNN and Naive Bayes"
   ]
  },
  {
   "cell_type": "markdown",
   "id": "541babed",
   "metadata": {
    "id": "541babed"
   },
   "source": [
    "In this project, you'll implement your own image recognition system for classifying digits. Read through the code and the instructions carefully and add your own code where indicated. Each problem can be addressed succinctly with the included packages -- please don't add any more. Grading will be based on writing clean, commented code, along with a few short answers.\n",
    "\n",
    "As always, you're welcome to work on the project in groups and discuss ideas on the course wall, but <b> please prepare your own write-up (with your own code). </b>\n",
    "\n",
    "If you're interested, check out these links related to digit recognition:\n",
    "\n",
    "Yann Lecun's MNIST benchmarks: http://yann.lecun.com/exdb/mnist/\n",
    "\n",
    "Stanford Streetview research and data: http://ufldl.stanford.edu/housenumbers/"
   ]
  },
  {
   "cell_type": "markdown",
   "id": "06ed8177",
   "metadata": {
    "id": "06ed8177"
   },
   "source": [
    "(1) Create a 10x10 grid to visualize 10 examples of each digit. Python hints:\n",
    "\n",
    "- plt.rc() for setting the colormap, for example to black and white\n",
    "- plt.subplot() for creating subplots\n",
    "- plt.imshow() for rendering a matrix\n",
    "- np.array.reshape() for reshaping a 1D feature vector into a 2D matrix (for rendering)"
   ]
  },
  {
   "cell_type": "code",
   "execution_count": 1,
   "id": "aa86de47",
   "metadata": {
    "colab": {
     "base_uri": "https://localhost:8080/"
    },
    "executionInfo": {
     "elapsed": 3092,
     "status": "ok",
     "timestamp": 1700523210670,
     "user": {
      "displayName": "Gunnar Kleemann",
      "userId": "02122813220075330457"
     },
     "user_tz": 360
    },
    "id": "aa86de47",
    "outputId": "52f5c455-cc18-4810-8661-96bb708cb36d",
    "tags": []
   },
   "outputs": [
    {
     "name": "stdout",
     "output_type": "stream",
     "text": [
      "loading complete\n"
     ]
    }
   ],
   "source": [
    "# This tells matplotlib not to try opening a new window for each plot.\n",
    "%matplotlib inline\n",
    "import warnings\n",
    "warnings.filterwarnings('ignore')\n",
    "\n",
    "# Import a bunch of libraries.\n",
    "import time\n",
    "import numpy as np\n",
    "import numpy\n",
    "import matplotlib.pyplot as plt\n",
    "from matplotlib.ticker import MultipleLocator\n",
    "from sklearn.pipeline import Pipeline\n",
    "from sklearn.datasets import fetch_openml\n",
    "from sklearn.neighbors import KNeighborsClassifier\n",
    "from sklearn.metrics import confusion_matrix\n",
    "from sklearn.linear_model import LinearRegression\n",
    "from sklearn.naive_bayes import BernoulliNB\n",
    "from sklearn.naive_bayes import MultinomialNB\n",
    "from sklearn.naive_bayes import GaussianNB\n",
    "from sklearn.model_selection import GridSearchCV\n",
    "from sklearn.metrics import classification_report\n",
    "import pandas as pd\n",
    "from sklearn.model_selection import train_test_split\n",
    "\n",
    "\n",
    "# Set the randomizer seed so results are the same each time.\n",
    "np.random.seed(0)\n",
    "print(\"loading complete\")"
   ]
  },
  {
   "cell_type": "code",
   "execution_count": 2,
   "id": "lg-6yUhSiz2y",
   "metadata": {
    "colab": {
     "base_uri": "https://localhost:8080/"
    },
    "executionInfo": {
     "elapsed": 24769,
     "status": "ok",
     "timestamp": 1700523253279,
     "user": {
      "displayName": "Gunnar Kleemann",
      "userId": "02122813220075330457"
     },
     "user_tz": 360
    },
    "id": "lg-6yUhSiz2y",
    "outputId": "f68e3405-c5a4-486e-f4c5-1d07711fe3d6",
    "tags": []
   },
   "outputs": [
    {
     "name": "stdout",
     "output_type": "stream",
     "text": [
      "\u001b[33mWARNING: Running pip as the 'root' user can result in broken permissions and conflicting behaviour with the system package manager. It is recommended to use a virtual environment instead: https://pip.pypa.io/warnings/venv\u001b[0m\u001b[33m\n",
      "\u001b[0mNote: you may need to restart the kernel to use updated packages.\n",
      "\u001b[33mWARNING: Running pip as the 'root' user can result in broken permissions and conflicting behaviour with the system package manager. It is recommended to use a virtual environment instead: https://pip.pypa.io/warnings/venv\u001b[0m\u001b[33m\n",
      "\u001b[0mNote: you may need to restart the kernel to use updated packages.\n"
     ]
    }
   ],
   "source": [
    "### using s3fs to get public bucket contents\n",
    "\n",
    "%pip install fs_s3fs --quiet\n",
    "%pip install s3fs --quiet"
   ]
  },
  {
   "cell_type": "code",
   "execution_count": 3,
   "id": "jU_EC3BtkLNt",
   "metadata": {
    "id": "jU_EC3BtkLNt",
    "tags": []
   },
   "outputs": [],
   "source": [
    "import s3fs # so we can access public s3 buckets\n"
   ]
  },
  {
   "cell_type": "markdown",
   "id": "f11d3cac",
   "metadata": {
    "id": "f11d3cac"
   },
   "source": [
    "Load the data. Notice that we are splitting the data into training, development, and test. We also have a small subset of the training data called mini_train_data and mini_train_labels that you should use in all the experiments below, unless otherwise noted."
   ]
  },
  {
   "cell_type": "code",
   "execution_count": 4,
   "id": "71cbcb25",
   "metadata": {
    "id": "71cbcb25",
    "tags": []
   },
   "outputs": [],
   "source": [
    "# this is my bootcamp bucket\n",
    "mnist_train = pd.read_csv(\"s3://btcampdata/mnist/mnist_train.csv\")\n",
    "mnist_test = pd.read_csv(\"s3://btcampdata/mnist/mnist_test.csv\")\n",
    "\n",
    "mnist_dataset = pd.concat([mnist_train, mnist_test])\n",
    "\n",
    "Y = mnist_dataset['label']\n",
    "X = mnist_dataset.drop(columns=['label'])"
   ]
  },
  {
   "cell_type": "code",
   "execution_count": 5,
   "id": "PJ6W7m-ZFo4-",
   "metadata": {
    "colab": {
     "base_uri": "https://localhost:8080/"
    },
    "executionInfo": {
     "elapsed": 144,
     "status": "ok",
     "timestamp": 1700523324172,
     "user": {
      "displayName": "Gunnar Kleemann",
      "userId": "02122813220075330457"
     },
     "user_tz": 360
    },
    "id": "PJ6W7m-ZFo4-",
    "outputId": "737a6f02-9441-4e6b-96c0-c70069a2baab",
    "tags": []
   },
   "outputs": [
    {
     "data": {
      "text/plain": [
       "pandas.core.frame.DataFrame"
      ]
     },
     "execution_count": 5,
     "metadata": {},
     "output_type": "execute_result"
    }
   ],
   "source": [
    "type(X)"
   ]
  },
  {
   "cell_type": "code",
   "execution_count": 6,
   "id": "b0a956bd",
   "metadata": {
    "colab": {
     "base_uri": "https://localhost:8080/",
     "height": 232
    },
    "executionInfo": {
     "elapsed": 303,
     "status": "error",
     "timestamp": 1700523285030,
     "user": {
      "displayName": "Gunnar Kleemann",
      "userId": "02122813220075330457"
     },
     "user_tz": 360
    },
    "id": "b0a956bd",
    "outputId": "06cf5d1c-4719-4d83-eddc-03b6996db22f",
    "tags": []
   },
   "outputs": [],
   "source": [
    "# Scale images to the [0, 1] range\n",
    "X = X.astype(\"float32\") / 255\n",
    "\n",
    "#fix - already numpy\n",
    "X = X.to_numpy()\n",
    "Y = Y.to_numpy()"
   ]
  },
  {
   "cell_type": "code",
   "execution_count": 7,
   "id": "48728ff6",
   "metadata": {
    "colab": {
     "base_uri": "https://localhost:8080/"
    },
    "executionInfo": {
     "elapsed": 157,
     "status": "ok",
     "timestamp": 1700523425277,
     "user": {
      "displayName": "Gunnar Kleemann",
      "userId": "02122813220075330457"
     },
     "user_tz": 360
    },
    "id": "48728ff6",
    "outputId": "8567b546-5616-44fa-f46e-cfc2277bbbd7",
    "tags": []
   },
   "outputs": [
    {
     "name": "stdout",
     "output_type": "stream",
     "text": [
      "data shape:  (70000, 784)\n",
      "label shape: (70000,)\n",
      "\n",
      "--> cell complete\n",
      "Data:  <class 'numpy.ndarray'> 784  features\n"
     ]
    }
   ],
   "source": [
    "print ('data shape: ', X.shape)\n",
    "print ('label shape:', Y.shape)\n",
    "\n",
    "# Set some variables to hold test, dev, and training data.\n",
    "test_data, test_labels = X[61000:], Y[61000:]\n",
    "dev_data, dev_labels = X[60000:61000], Y[60000:61000]\n",
    "train_data, train_labels = X[:60000], Y[:60000]\n",
    "mini_train_data, mini_train_labels = X[:1000], Y[:1000]\n",
    "\n",
    "print (\"\\n-->\",\"cell complete\")\n",
    "print (\"Data: \",type(X[1]), len(X[1]),\" features\")"
   ]
  },
  {
   "cell_type": "code",
   "execution_count": 8,
   "id": "17ded4a5",
   "metadata": {
    "colab": {
     "base_uri": "https://localhost:8080/",
     "height": 309
    },
    "executionInfo": {
     "elapsed": 3852,
     "status": "ok",
     "timestamp": 1700523577723,
     "user": {
      "displayName": "Gunnar Kleemann",
      "userId": "02122813220075330457"
     },
     "user_tz": 360
    },
    "id": "17ded4a5",
    "outputId": "aad16fda-b9f1-4247-e5ad-b457dde1fc33",
    "tags": []
   },
   "outputs": [
    {
     "data": {
      "image/png": "[encoded data removed]",
      "text/plain": [
       "<Figure size 640x480 with 20 Axes>"
      ]
     },
     "metadata": {},
     "output_type": "display_data"
    }
   ],
   "source": [
    "def P1(num_examples=10,):\n",
    "### STUDENT START ###\n",
    "\n",
    "    # get list of examples (stored as ist of lists)\n",
    "\n",
    "    examples = []\n",
    "    for j in range(10):\n",
    "        examplelist = []\n",
    "        for i in range(len(Y)):\n",
    "            if Y[i] == j:\n",
    "                examplelist.append(i)\n",
    "                if num_examples == len(examplelist):\n",
    "                    break\n",
    "        examples.append(examplelist)\n",
    "        # plot examples\n",
    "    f, plots = plt.subplots(num_examples,10, sharex='col', sharey='row')\n",
    "\n",
    "    for i, examplelist in enumerate(examples):\n",
    "        #unpack examples, index, and assign to subplots\n",
    "        for j, example in enumerate(examplelist):\n",
    "            plots[j][i].imshow(numpy.reshape(X[example],(28,28)),cmap=\"Greys\")\n",
    "    plt.show()\n",
    "\n",
    "\n",
    "### STUDENT END ###\n",
    "\n",
    "P1(2)"
   ]
  },
  {
   "cell_type": "markdown",
   "id": "e6447141",
   "metadata": {
    "id": "e6447141"
   },
   "source": [
    "(2) Evaluate a K-Nearest-Neighbors model with k = [1,3,5,7,9] using the mini training set. Report accuracy on the dev set. For k=1, show precision, recall, and F1 for each label. Which is the most difficult digit?\n",
    "\n",
    "- KNeighborsClassifier() for fitting and predicting\n",
    "- classification_report() for producing precision, recall, F1 results"
   ]
  },
  {
   "cell_type": "code",
   "execution_count": 9,
   "id": "e7903da5",
   "metadata": {
    "colab": {
     "base_uri": "https://localhost:8080/"
    },
    "executionInfo": {
     "elapsed": 749,
     "status": "ok",
     "timestamp": 1700523610700,
     "user": {
      "displayName": "Gunnar Kleemann",
      "userId": "02122813220075330457"
     },
     "user_tz": 360
    },
    "id": "e7903da5",
    "outputId": "94e95837-a2af-4922-84f6-ac784460122e",
    "tags": []
   },
   "outputs": [
    {
     "name": "stdout",
     "output_type": "stream",
     "text": [
      "accuracy at k= 9 ->  0.809\n",
      "accuracy at k= 7 ->  0.805\n",
      "accuracy at k= 5 ->  0.815\n",
      "accuracy at k= 3 ->  0.814\n",
      "accuracy at k= 1 ->  0.828\n",
      "\n",
      "Classification report @k=1:\n",
      "              precision    recall  f1-score   support\n",
      "\n",
      "           0       0.88      0.94      0.91        85\n",
      "           1       0.88      1.00      0.93       126\n",
      "           2       0.92      0.79      0.85       116\n",
      "           3       0.85      0.71      0.78       107\n",
      "           4       0.87      0.72      0.79       110\n",
      "           5       0.72      0.72      0.72        87\n",
      "           6       0.84      0.93      0.89        87\n",
      "           7       0.80      0.90      0.85        99\n",
      "           8       0.88      0.65      0.75        89\n",
      "           9       0.67      0.89      0.77        94\n",
      "\n",
      "    accuracy                           0.83      1000\n",
      "   macro avg       0.83      0.83      0.82      1000\n",
      "weighted avg       0.84      0.83      0.83      1000\n",
      "\n",
      "Most difficult digit: #7\n"
     ]
    }
   ],
   "source": [
    "def P2(k_values):\n",
    "\n",
    "### STUDENT START ###\n",
    "\n",
    "### note: using accuracy calculated manually as\n",
    "### number of matches (number right)/total, not\n",
    "### the .score() method/function\n",
    "\n",
    "    for k in reversed(k_values):\n",
    "        #reversed order, classify, predict, then print accuracy\n",
    "        #print classification report when k=1\n",
    "        classifier = KNeighborsClassifier(n_neighbors=k)\n",
    "        classifier = classifier.fit(mini_train_data, mini_train_labels)\n",
    "        predicted = classifier.predict(dev_data)\n",
    "        res = sum(predicted == dev_labels)*1./len(dev_labels)\n",
    "        print(\"accuracy at k=\",k,\"-> \", res)\n",
    "\n",
    "        #skip classification report except at k==1\n",
    "        if k!=1:\n",
    "            continue\n",
    "        print(\"\\nClassification report @k=1:\")\n",
    "        print(classification_report(dev_labels, predicted))\n",
    "        print(\"Most difficult digit: #7\")\n",
    "### STUDENT END ###\n",
    "\n",
    "k_values = [1, 3, 5, 7, 9]\n",
    "P2(k_values)"
   ]
  },
  {
   "cell_type": "markdown",
   "id": "8586bed8",
   "metadata": {
    "id": "8586bed8"
   },
   "source": [
    "ANSWER: Most difficult digit: #7"
   ]
  },
  {
   "cell_type": "markdown",
   "id": "f3158061",
   "metadata": {
    "id": "f3158061"
   },
   "source": [
    "(3) Using k=1, report dev set accuracy for the training set sizes below. Also, measure the amount of time needed for prediction with each training size.\n",
    "\n",
    "- time.time() gives a wall clock value you can use for timing operations"
   ]
  },
  {
   "cell_type": "code",
   "execution_count": 10,
   "id": "803a4e29",
   "metadata": {
    "colab": {
     "base_uri": "https://localhost:8080/"
    },
    "executionInfo": {
     "elapsed": 1109,
     "status": "ok",
     "timestamp": 1700524146671,
     "user": {
      "displayName": "Gunnar Kleemann",
      "userId": "02122813220075330457"
     },
     "user_tz": 360
    },
    "id": "803a4e29",
    "outputId": "ea91786d-2e6b-4e5b-9831-ca9d0c75bdae",
    "tags": []
   },
   "outputs": [
    {
     "name": "stdout",
     "output_type": "stream",
     "text": [
      "Size\t\tAccuracy\t\tTime (ms)\n",
      "100\t\t0.631\t\t\t131.52337074279785\n",
      "200\t\t0.691\t\t\t109.06267166137695\n",
      "400\t\t0.777\t\t\t123.20590019226074\n",
      "800\t\t0.822\t\t\t176.7714023590088\n",
      "1600\t\t0.828\t\t\t135.6222629547119\n",
      "3200\t\t0.828\t\t\t138.41938972473145\n",
      "6400\t\t0.828\t\t\t141.85786247253418\n",
      "12800\t\t0.828\t\t\t151.70669555664062\n",
      "25000\t\t0.828\t\t\t137.33482360839844\n"
     ]
    }
   ],
   "source": [
    "def P3(train_sizes, accuracies):\n",
    "\n",
    "### STUDENT START ###\n",
    "    print (\"Size\\t\\tAccuracy\\t\\tTime (ms)\")\n",
    "    for size in train_sizes:\n",
    "        start = time.time()\n",
    "        classifier = KNeighborsClassifier(n_neighbors=1).fit(mini_train_data[:size], mini_train_labels[:size])\n",
    "        predicted = classifier.predict(dev_data)\n",
    "        accuracy = sum(predicted == dev_labels)*1./len(dev_labels)\n",
    "        print(\"{}\\t\\t{}\\t\\t\\t{}\".format(size, accuracy, (time.time() - start)*1000))\n",
    "        accuracies.append(accuracy)\n",
    "\n",
    "\n",
    "\n",
    "### STUDENT END ###\n",
    "\n",
    "train_sizes = [100, 200, 400, 800, 1600, 3200, 6400, 12800, 25000]\n",
    "accuracies = []\n",
    "P3(train_sizes, accuracies)"
   ]
  },
  {
   "cell_type": "markdown",
   "id": "84919678",
   "metadata": {
    "id": "84919678"
   },
   "source": [
    "(4) Fit a regression model that predicts accuracy from training size. What does it predict for n=60000? What's wrong with using regression here? Can you apply a transformation that makes the predictions more reasonable?\n",
    "\n",
    "- Remember that the sklearn fit() functions take an input matrix X and output vector Y. So each input example in X is a vector, even if it contains only a single value."
   ]
  },
  {
   "cell_type": "code",
   "execution_count": 11,
   "id": "cf87f12e",
   "metadata": {
    "colab": {
     "base_uri": "https://localhost:8080/"
    },
    "executionInfo": {
     "elapsed": 156,
     "status": "ok",
     "timestamp": 1700524302418,
     "user": {
      "displayName": "Gunnar Kleemann",
      "userId": "02122813220075330457"
     },
     "user_tz": 360
    },
    "id": "cf87f12e",
    "outputId": "960fb7a4-35e9-4fab-aef5-b8bd390ab374",
    "tags": []
   },
   "outputs": [
    {
     "name": "stdout",
     "output_type": "stream",
     "text": [
      "[[60000]]\n",
      "Predicted (linear regression) at 60000:  0.9905833597841612\n",
      "----Modifying with sqrt transformation----\n",
      "New, Predicted  at 60000:  0.9449247051923593\n"
     ]
    }
   ],
   "source": [
    "from math import sqrt\n",
    "\n",
    "\n",
    "def P4():\n",
    "\n",
    "### STUDENT START ###\n",
    "    lm = LinearRegression()\n",
    "\n",
    "    sizes = np.array(train_sizes)\n",
    "    acc = np.array(accuracies)\n",
    "    sizes = np.array(train_sizes)\n",
    "    #change type for fit() args\n",
    "    lm.fit( sizes.reshape((9,1)), acc)\n",
    "\n",
    "    reshaped_array = np.array([60000]).reshape(1, -1)\n",
    "    print(reshaped_array)\n",
    "    print (\"Predicted (linear regression) at 60000: \", lm.predict(reshaped_array)[0])\n",
    "\n",
    "    print (\"----Modifying with sqrt transformation----\")\n",
    "    train_sizes2 = list(map(sqrt, train_sizes))\n",
    "    #apply sqrt to list\n",
    "    sizes2 = np.array(train_sizes2)\n",
    "    lm.fit(sizes2.reshape((9,1)), acc)\n",
    "    #re-train\n",
    "    sqrt_num = sqrt(reshaped_array)\n",
    "    reshaped_array_with_sqrt = np.array([sqrt_num]).reshape(1, -1)\n",
    "    print (\"New, Predicted  at 60000: \",lm.predict(reshaped_array_with_sqrt)[0])\n",
    "\n",
    "### STUDENT END ###\n",
    "\n",
    "P4()"
   ]
  },
  {
   "cell_type": "markdown",
   "id": "ff399d93",
   "metadata": {
    "id": "ff399d93"
   },
   "source": [
    "Fit a 1-NN and output a confusion matrix for the dev data. Use the confusion matrix to identify the most confused pair of digits, and display a few example mistakes.\n",
    "\n",
    "- confusion_matrix() produces a confusion matrix"
   ]
  },
  {
   "cell_type": "code",
   "execution_count": null,
   "id": "4e7042a8",
   "metadata": {
    "colab": {
     "base_uri": "https://localhost:8080/",
     "height": 612
    },
    "executionInfo": {
     "elapsed": 2497,
     "status": "ok",
     "timestamp": 1700524364102,
     "user": {
      "displayName": "Gunnar Kleemann",
      "userId": "02122813220075330457"
     },
     "user_tz": 360
    },
    "id": "4e7042a8",
    "outputId": "3aafbcc6-68c9-49b6-dca7-7a22cf40d955",
    "tags": []
   },
   "outputs": [],
   "source": [
    "def P5():\n",
    "\n",
    "### STUDENT START ###\n",
    "    classifier = KNeighborsClassifier(n_neighbors=1).fit(mini_train_data, mini_train_labels)\n",
    "    predicted = classifier.predict(dev_data)\n",
    "    print (confusion_matrix(dev_labels,predicted))\n",
    "\n",
    "    #get list of misclassified\n",
    "    x=[i for i in range(len(dev_labels)) if (dev_labels[i]==4) and (predicted[i]==9)]\n",
    "\n",
    "    #plot examples\n",
    "    f, plots = plt.subplots(3,3, sharex='col', sharey='row')\n",
    "    for i, plotrow in enumerate(plots):\n",
    "        for j, subplot in enumerate(plotrow):\n",
    "            plots[j][i].imshow(numpy.reshape(dev_data[x[i+3*j]],(28,28)),cmap=\"Greys\")\n",
    "    plt.show()\n",
    "\n",
    "\n",
    "\n",
    "P5()"
   ]
  },
  {
   "cell_type": "markdown",
   "id": "f5c2567b",
   "metadata": {
    "id": "f5c2567b"
   },
   "source": [
    "(6) A common image processing technique is to smooth an image by blurring. The idea is that the value of a particular pixel is estimated as the weighted combination of the original value and the values around it. Typically, the blurring is Gaussian -- that is, the weight of a pixel's influence is determined by a Gaussian function over the distance to the relevant pixel.\n",
    "\n",
    "Implement a simplified Gaussian blur by just using the 8 neighboring pixels: the smoothed value of a pixel is a weighted combination of the original value and the 8 neighboring values. Try applying your blur filter in 3 ways:\n",
    "- preprocess the training data but not the dev data\n",
    "- preprocess the dev data but not the training data\n",
    "- preprocess both training and dev data\n",
    "\n",
    "Note that there are Guassian blur filters available, for example in scipy.ndimage.filters. You're welcome to experiment with those, but you are likely to get the best results with the simplified version I described above."
   ]
  },
  {
   "cell_type": "code",
   "execution_count": 13,
   "id": "77a3f8fc",
   "metadata": {
    "colab": {
     "base_uri": "https://localhost:8080/"
    },
    "executionInfo": {
     "elapsed": 16605,
     "status": "ok",
     "timestamp": 1700524467337,
     "user": {
      "displayName": "Gunnar Kleemann",
      "userId": "02122813220075330457"
     },
     "user_tz": 360
    },
    "id": "77a3f8fc",
    "outputId": "0a8d0f99-5a3d-4fca-cf0a-a36b229e4e2b",
    "tags": []
   },
   "outputs": [
    {
     "name": "stdout",
     "output_type": "stream",
     "text": [
      "0.828  accuracy in test with No Blur\n",
      "0.854  accuracy in test with Blurred Training Daya\n",
      "0.824  accuracy in test with Blurred Test/Dev Data\n",
      "0.858  accuracy in test with Both Data Sets Blurred\n"
     ]
    }
   ],
   "source": [
    "def blur_one(img):\n",
    "    def append_point(point):\n",
    "        \"\"\" Deal with out of bounds points \"\"\"\n",
    "        if -1 in point: return\n",
    "        try:\n",
    "            points.append(img[point[0]][point[1]])\n",
    "        except:\n",
    "            pass\n",
    "\n",
    "    img = img.reshape(28, 28)\n",
    "    blurred_img = np.ndarray(shape=(784))\n",
    "    for i in range(28):\n",
    "        for j in range(28):\n",
    "            points = [img[i][j]]\n",
    "            append_point((i+1, j  ))\n",
    "            append_point((i-1, j  ))\n",
    "            append_point((i,   j+1))\n",
    "            append_point((i,   j-1))\n",
    "            append_point((i+1, j+1))\n",
    "            append_point((i-1, j-1))\n",
    "            append_point((i+1, j-1))\n",
    "            append_point((i-1, j+1))\n",
    "            blurred_img[28*i+j] = sum(points)/len(points)\n",
    "\n",
    "    return blurred_img\n",
    "\n",
    "#cite: blurring function from w207 summer '15 class\n",
    "def P6():\n",
    "\n",
    "### STUDENT START ###\n",
    "\n",
    "    # create blurred data sets\n",
    "\n",
    "    blurred_train_data = []\n",
    "    for pic in mini_train_data:\n",
    "        blurred_train_data.append(blur_one(pic))\n",
    "    blurred_dev_data = []\n",
    "    for pic in dev_data:\n",
    "        blurred_dev_data.append(blur_one(pic))\n",
    "\n",
    "    # test combinations of blurred/un-blurred\n",
    "    test_order = [\"No Blur\",\n",
    "                  \"Blurred Training Daya\",\n",
    "                  \"Blurred Test/Dev Data\",\n",
    "                  \"Both Data Sets Blurred\"]\n",
    "    testnum=0\n",
    "    for devdata in (dev_data,blurred_dev_data):\n",
    "        for traindata in (mini_train_data,blurred_train_data):\n",
    "            classifier = KNeighborsClassifier(n_neighbors=1).fit(traindata, mini_train_labels)\n",
    "            predicted = classifier.predict(devdata)\n",
    "            accuracy = sum(predicted == dev_labels)*1./len(dev_labels)\n",
    "            print (accuracy, \" accuracy in test with\", test_order[testnum])\n",
    "            testnum+=1\n",
    "\n",
    "\n",
    "        ### STUDENT END ###\n",
    "\n",
    "P6()"
   ]
  },
  {
   "cell_type": "markdown",
   "id": "81eb884e",
   "metadata": {
    "id": "81eb884e"
   },
   "source": [
    "ANSWER: 0.828  - No Blur\n",
    "        0.854  - Blurred Training Daya\n",
    "        0.824  - Blurred Test/Dev Data\n",
    "        0.858  - Both Blurred"
   ]
  },
  {
   "cell_type": "markdown",
   "id": "ce465a83",
   "metadata": {
    "id": "ce465a83"
   },
   "source": [
    "(7) Fit a Naive Bayes classifier and report accuracy on the dev data. Remember that Naive Bayes estimates P(feature|label). While sklearn can handle real-valued features, let's start by mapping the pixel values to either 0 or 1. You can do this as a preprocessing step, or with the binarize argument. With binary-valued features, you can use BernoulliNB. Next try mapping the pixel values to 0, 1, or 2, representing white, grey, or black. This mapping requires MultinomialNB. Does the multi-class version improve the results? Why or why not?"
   ]
  },
  {
   "cell_type": "code",
   "execution_count": 14,
   "id": "fcb759d7",
   "metadata": {
    "id": "fcb759d7",
    "tags": []
   },
   "outputs": [
    {
     "name": "stdout",
     "output_type": "stream",
     "text": [
      "0.756  accuracy in binary\n",
      "0.765  accuracy in 3D\n"
     ]
    }
   ],
   "source": [
    "def P7():\n",
    "\n",
    "### STUDENT START ###\n",
    "\n",
    "    # create binary data\n",
    "    binary_mini_train_data = []\n",
    "    for pic in mini_train_data:\n",
    "        binary_mini_train_data.append(pic//.5)\n",
    "\n",
    "    binary_dev_data = []\n",
    "    for pic in dev_data:\n",
    "        binary_dev_data.append(pic//.5)\n",
    "\n",
    "    # run NB\n",
    "    classifier = BernoulliNB()\n",
    "    classifier.fit(binary_mini_train_data, mini_train_labels)\n",
    "    predicted = classifier.predict(binary_dev_data)\n",
    "    accuracy = sum(predicted == dev_labels)*1./len(dev_labels)\n",
    "    print (accuracy, \" accuracy in binary\")\n",
    "\n",
    "    #create 0,1,2 data\n",
    "    tri_mini_train_data = []\n",
    "    for pic in mini_train_data:\n",
    "        tri_mini_train_data.append(pic//.333)\n",
    "\n",
    "    tri_dev_data = []\n",
    "    for pic in dev_data:\n",
    "        tri_dev_data.append(pic//.333)\n",
    "\n",
    "    # run NB\n",
    "    classifier = MultinomialNB()\n",
    "    classifier.fit(tri_mini_train_data, mini_train_labels)\n",
    "    predicted = classifier.predict(tri_dev_data)\n",
    "    accuracy = sum(predicted == dev_labels)*1./len(dev_labels)\n",
    "    print (accuracy, \" accuracy in 3D\")\n",
    "\n",
    "\n",
    "\n",
    "### STUDENT END ###\n",
    "\n",
    "P7()"
   ]
  },
  {
   "cell_type": "markdown",
   "id": "e512091f",
   "metadata": {
    "id": "e512091f"
   },
   "source": [
    "ANSWER: 0.756  accuracy in binary\n",
    "0.765  accuracy in 3D\n",
    "\n",
    "Accuracy went down. The data is hand-writing. There is no gray, just ink vs. no ink. Splitting it into B/W/gray just cuts out some signal."
   ]
  },
  {
   "cell_type": "markdown",
   "id": "e8b7e331",
   "metadata": {
    "id": "e8b7e331"
   },
   "source": [
    "(8) Use GridSearchCV to perform a search over values of alpha (the Laplace smoothing parameter) in a Bernoulli NB model. What is the best value for alpha? What is the accuracy when alpha=0? Is this what you'd expect?\n",
    "\n",
    "- Note that GridSearchCV partitions the training data so the results will be a bit different than if you used the dev data for evaluation."
   ]
  },
  {
   "cell_type": "code",
   "execution_count": 15,
   "id": "cd2c0e16",
   "metadata": {
    "id": "cd2c0e16",
    "tags": []
   },
   "outputs": [
    {
     "name": "stdout",
     "output_type": "stream",
     "text": [
      "Best alpha: {'alpha': 0.0001}\n",
      "mean: 0.817, std: 0.04479, params: {'alpha': 0.0}\n",
      "mean: 0.825, std: 0.04336, params: {'alpha': 0.0001}\n",
      "mean: 0.824, std: 0.04116, params: {'alpha': 0.001}\n",
      "mean: 0.825, std: 0.03937, params: {'alpha': 0.01}\n",
      "mean: 0.821, std: 0.03262, params: {'alpha': 0.1}\n",
      "mean: 0.821, std: 0.03089, params: {'alpha': 0.5}\n",
      "mean: 0.822, std: 0.03855, params: {'alpha': 1.0}\n",
      "mean: 0.816, std: 0.04042, params: {'alpha': 2.0}\n",
      "mean: 0.764, std: 0.03292, params: {'alpha': 10.0}\n"
     ]
    }
   ],
   "source": [
    "def P8(alphas):\n",
    "\n",
    "### STUDENT START ###\n",
    "    binary_dev_data = []\n",
    "    for pic in dev_data:\n",
    "        binary_dev_data.append(pic//.5)\n",
    "\n",
    "    gs = GridSearchCV(BernoulliNB(), alphas)\n",
    "    gs.fit(binary_dev_data, dev_labels)\n",
    "    print (\"Best alpha: {}\".format(gs.best_params_))\n",
    "    cv_results = gs.cv_results_\n",
    "    for i in range(len(alphas.get('alpha'))):\n",
    "        mean_score_time = round(cv_results.get('mean_test_score')[i], 5)\n",
    "        std_score_time = round(cv_results.get('std_test_score')[i], 5)\n",
    "        params = cv_results.get('params')[i]\n",
    "        print(\"mean: {}, std: {}, params: {}\".format(mean_score_time, std_score_time, params))\n",
    "    return gs\n",
    "\n",
    "\n",
    "### STUDENT END ###\n",
    "\n",
    "alphas = {'alpha': [0.0, 0.0001, 0.001, 0.01, 0.1, 0.5, 1.0, 2.0, 10.0]}\n",
    "nb = P8(alphas)"
   ]
  },
  {
   "cell_type": "code",
   "execution_count": null,
   "id": "4c64df7b",
   "metadata": {
    "id": "4c64df7b"
   },
   "outputs": [],
   "source": [
    "print (nb.best_params_)"
   ]
  },
  {
   "cell_type": "markdown",
   "id": "961cb101",
   "metadata": {
    "id": "961cb101"
   },
   "source": [
    "ANSWER: {'alpha': 0.0001}, alpha A 0: 0.825"
   ]
  },
  {
   "cell_type": "markdown",
   "id": "850c71ae",
   "metadata": {
    "id": "850c71ae"
   },
   "source": [
    "(10) Because Naive Bayes is a generative model, we can use the trained model to generate digits. Train a BernoulliNB model and then generate a 10x20 grid with 20 examples of each digit. Because you're using a Bernoulli model, each pixel output will be either 0 or 1. How do the generated digits compare to the training digits?\n",
    "\n",
    "- You can use np.random.rand() to generate random numbers from a uniform distribution\n",
    "- The estimated probability of each pixel is stored in feature\\_log\\_prob\\_. You'll need to use np.exp() to convert a log probability back to a probability."
   ]
  },
  {
   "cell_type": "code",
   "execution_count": 16,
   "id": "c10b8220",
   "metadata": {
    "id": "c10b8220",
    "tags": []
   },
   "outputs": [
    {
     "name": "stdout",
     "output_type": "stream",
     "text": [
      "0.756  accuracy in binary\n",
      "784 features\n"
     ]
    },
    {
     "data": {
      "image/png": "[encoded data removed]",
      "text/plain": [
       "<Figure size 640x480 with 200 Axes>"
      ]
     },
     "metadata": {},
     "output_type": "display_data"
    },
    {
     "name": "stdout",
     "output_type": "stream",
     "text": [
      "0.756  accuracy in binary\n",
      "784 features\n"
     ]
    },
    {
     "data": {
      "image/png": "[encoded data removed]",
      "text/plain": [
       "<Figure size 640x480 with 30 Axes>"
      ]
     },
     "metadata": {},
     "output_type": "display_data"
    }
   ],
   "source": [
    "def P10(num_examples):\n",
    "\n",
    "### STUDENT START ###\n",
    "    # create binary data\n",
    "    binary_mini_train_data = []\n",
    "    for pic in mini_train_data:\n",
    "        binary_mini_train_data.append(pic//.5)\n",
    "\n",
    "    binary_dev_data = []\n",
    "    for pic in dev_data:\n",
    "        binary_dev_data.append(pic//.5)\n",
    "\n",
    "    classifier = BernoulliNB()\n",
    "    classifier.fit(binary_mini_train_data, mini_train_labels)\n",
    "    predicted = classifier.predict(binary_dev_data)\n",
    "    accuracy = sum(predicted == dev_labels)*1./len(dev_labels)\n",
    "    print (accuracy, \" accuracy in binary\")\n",
    "    print (len(classifier.feature_log_prob_[1]), \"features\")\n",
    "    regen_weights = np.exp(classifier.feature_log_prob_)\n",
    "\n",
    "    # generate pics\n",
    "    samples = []\n",
    "    for i in range(num_examples):\n",
    "        ##\n",
    "        generated_numbers = []\n",
    "        for number in range(10):\n",
    "\n",
    "            genpic = []\n",
    "            for feature in regen_weights[number]:\n",
    "                genpic.append(sqrt(feature*np.random.rand(1,1))//.5)\n",
    "            generated_numbers.append(genpic)\n",
    "        samples.append(generated_numbers)\n",
    "\n",
    "    # plot pics\n",
    "    f, plots = plt.subplots(len(samples),len(samples[0]), sharex='col', sharey='row')\n",
    "    for i, plotrow in enumerate(plots):\n",
    "        for j, subplot in enumerate(plotrow):\n",
    "            plots[i][j].imshow(numpy.reshape(samples[i][j],(28,28)),cmap=\"Greys\")\n",
    "    plt.show()\n",
    "\n",
    "\n",
    "\n",
    "\n",
    "### STUDENT END ###\n",
    "\n",
    "P10(20)\n",
    "P10(3)"
   ]
  },
  {
   "cell_type": "markdown",
   "id": "c3015c33",
   "metadata": {
    "id": "c3015c33"
   },
   "source": [
    "ANSWER: 10x20 is too many examples for this screen, but zoomed in (or in the second chart only with 3 examples), the images are very pixelated, with random dots, like a staticy TV channel, which makes sense since a TV with static/noise is having its signal go through an analog version of regenerating the picture (here probabilities, which are already \"staticy\") with added noise/static (here, the np.rand factor)."
   ]
  },
  {
   "cell_type": "markdown",
   "id": "fa12ecc4",
   "metadata": {
    "id": "fa12ecc4"
   },
   "source": [
    "(11) Remember that a strongly calibrated classifier is rougly 90% accurate when the posterior probability of the predicted class is 0.9. A weakly calibrated classifier is more accurate when the posterior is 90% than when it is 80%. A poorly calibrated classifier has no positive correlation between posterior and accuracy.\n",
    "\n",
    "Train a BernoulliNB model with a reasonable alpha value. For each posterior bucket (think of a bin in a histogram), you want to estimate the classifier's accuracy. So for each prediction, find the bucket the maximum posterior belongs to and update the \"correct\" and \"total\" counters.\n",
    "\n",
    "How would you characterize the calibration for the Naive Bayes model?"
   ]
  },
  {
   "cell_type": "code",
   "execution_count": 17,
   "id": "a62d26ce",
   "metadata": {
    "id": "a62d26ce",
    "tags": []
   },
   "outputs": [
    {
     "name": "stdout",
     "output_type": "stream",
     "text": [
      "0.756  accuracy in binary\n",
      "p(pred) <= 0.5000000000000    total =   0    accuracy = 0.000\n",
      "p(pred) <= 0.9000000000000    total =  63    accuracy = 0.365\n",
      "p(pred) <= 0.9990000000000    total = 114    accuracy = 0.561\n",
      "p(pred) <= 0.9999900000000    total = 105    accuracy = 0.571\n",
      "p(pred) <= 0.9999999000000    total =  88    accuracy = 0.625\n",
      "p(pred) <= 0.9999999990000    total = 100    accuracy = 0.700\n",
      "p(pred) <= 0.9999999999900    total =  69    accuracy = 0.725\n",
      "p(pred) <= 0.9999999999999    total =  61    accuracy = 0.820\n",
      "p(pred) <= 1.0000000000000    total = 400    accuracy = 0.960\n"
     ]
    }
   ],
   "source": [
    "def P11(buckets, correct, total):\n",
    "\n",
    "### STUDENT START ###\n",
    "\n",
    "        # create binary data\n",
    "    binary_mini_train_data = []\n",
    "    for pic in mini_train_data:\n",
    "        binary_mini_train_data.append(pic//.5)\n",
    "\n",
    "    binary_dev_data = []\n",
    "    for pic in dev_data:\n",
    "        binary_dev_data.append(pic//.5)\n",
    "\n",
    "        # create classifier\n",
    "    classifier = BernoulliNB()\n",
    "    classifier.fit(binary_mini_train_data, mini_train_labels)\n",
    "    predicted = classifier.predict(binary_dev_data)\n",
    "    accuracy = sum(predicted == dev_labels)*1./len(dev_labels)\n",
    "    print (accuracy, \" accuracy in binary\")\n",
    "\n",
    "    #get probability bin data\n",
    "    probs = classifier.predict_proba(binary_dev_data)\n",
    "    for j,p in enumerate(probs):\n",
    "        maxp = max(p)\n",
    "        for i,bucket in enumerate(buckets):\n",
    "            if maxp <= bucket:\n",
    "                #print maxp,\"<=\",bucket\n",
    "                total[i] +=1\n",
    "                if predicted[j]==dev_labels[j]:\n",
    "                    #print predicted[j],dev_labels[j]\n",
    "                    correct[i] +=1.\n",
    "                break\n",
    "### STUDENT END ###\n",
    "\n",
    "buckets = [0.5, 0.9, 0.999, 0.99999, 0.9999999, 0.999999999, 0.99999999999, 0.9999999999999, 1.0]\n",
    "correct = [0 for i in buckets]\n",
    "total = [0 for i in buckets]\n",
    "P11(buckets, correct, total)\n",
    "#print total\n",
    "#print correct\n",
    "\n",
    "for i in range(len(buckets)):\n",
    "    accuracy = 0.\n",
    "    if (total[i] > 0): accuracy = correct[i]/ total[i]\n",
    "    print ('p(pred) <= %.13f    total = %3d    accuracy = %.3f' %(buckets[i], total[i], accuracy))"
   ]
  },
  {
   "cell_type": "markdown",
   "id": "da3739f3",
   "metadata": {
    "id": "da3739f3"
   },
   "source": [
    "ANSWER: weakly calibrated, total!accuracy is not linear"
   ]
  },
  {
   "cell_type": "markdown",
   "id": "f10f1946",
   "metadata": {
    "id": "f10f1946"
   },
   "source": [
    "(12) EXTRA CREDIT\n",
    "\n",
    "Try designing extra features to see if you can improve the performance of Naive Bayes on the dev set. Here are a few ideas to get you started:\n",
    "- Try summing the pixel values in each row and each column.\n",
    "- Try counting the number of enclosed regions; 8 usually has 2 enclosed regions, 9 usually has 1, and 7 usually has 0.\n",
    "\n",
    "Make sure you comment your code well!"
   ]
  },
  {
   "cell_type": "code",
   "execution_count": 18,
   "id": "6749c871",
   "metadata": {
    "id": "6749c871",
    "tags": []
   },
   "outputs": [
    {
     "name": "stdout",
     "output_type": "stream",
     "text": [
      "0.756  accuracy in binary\n",
      "0.726  new accuracy - with low accuracy pixels removed\n"
     ]
    }
   ],
   "source": [
    "def P12():\n",
    "### STUDENT START ###\n",
    "    # create binary data\n",
    "    binary_mini_train_data = []\n",
    "    for pic in mini_train_data:\n",
    "        binary_mini_train_data.append(pic//.5)\n",
    "\n",
    "    binary_dev_data = []\n",
    "    for pic in dev_data:\n",
    "        binary_dev_data.append(pic//.5)\n",
    "\n",
    "    # create classifier, calculate initial accuracy\n",
    "    classifier = BernoulliNB()\n",
    "    classifier.fit(binary_mini_train_data, mini_train_labels)\n",
    "    predicted = classifier.predict(binary_dev_data)\n",
    "    accuracy = sum(predicted == dev_labels)*1./len(dev_labels)\n",
    "    print (accuracy, \" accuracy in binary\")\n",
    "\n",
    "    # calculate accuracy of individual pixels\n",
    "    #penalty when wrong = half of points when right\n",
    "\n",
    "    #init empty matrix\n",
    "    pixel_accuracy = binary_mini_train_data[1]*0\n",
    "\n",
    "    #score data points (pixels)\n",
    "    for j,pic in enumerate(binary_dev_data):\n",
    "        for i,pixel in enumerate(pic):\n",
    "            if (pixel>0):\n",
    "                if(dev_labels[j]==predicted[j]):\n",
    "                    pixel_accuracy[i]+=2\n",
    "                else:\n",
    "                    pixel_accuracy[i]-=1\n",
    "\n",
    "    #normalize, set cut-off level (cut lowers 25%)\n",
    "    pixel_accuracy-= min(pixel_accuracy)\n",
    "    theshold_weight = max(list(pixel_accuracy))/4\n",
    "    pixel_accuracy-=theshold_weight\n",
    "\n",
    "    #apply cut-off/threshold\n",
    "    for n,pixel in enumerate(pixel_accuracy):\n",
    "        if pixel>0:\n",
    "            pixel_accuracy[n]=1\n",
    "        if pixel<0:\n",
    "            pixel_accuracy[n]=0\n",
    "\n",
    "\n",
    "    #create data set with\n",
    "    #filter applied to low accuracy pixels\n",
    "    filtered_data=[]\n",
    "    for pic in binary_mini_train_data:\n",
    "        filtered_data.append(pic*pixel_accuracy)\n",
    "\n",
    "        #evaluate new model\n",
    "    classifier.fit(filtered_data, mini_train_labels)\n",
    "    predicted = classifier.predict(binary_dev_data)\n",
    "    accuracy = sum(predicted == dev_labels)*1./len(dev_labels)\n",
    "    print (accuracy, \" new accuracy - with low accuracy pixels removed\")\n",
    "\n",
    "### STUDENT END ###\n",
    "\n",
    "P12()"
   ]
  },
  {
   "cell_type": "code",
   "execution_count": null,
   "id": "dfdbb034-69ff-46c2-8fc1-1f0e310b752c",
   "metadata": {},
   "outputs": [],
   "source": []
  }
 ],
 "metadata": {
  "availableInstances": [
   {
    "_defaultOrder": 0,
    "_isFastLaunch": true,
    "category": "General purpose",
    "gpuNum": 0,
    "hideHardwareSpecs": false,
    "memoryGiB": 4,
    "name": "ml.t3.medium",
    "vcpuNum": 2
   },
   {
    "_defaultOrder": 1,
    "_isFastLaunch": false,
    "category": "General purpose",
    "gpuNum": 0,
    "hideHardwareSpecs": false,
    "memoryGiB": 8,
    "name": "ml.t3.large",
    "vcpuNum": 2
   },
   {
    "_defaultOrder": 2,
    "_isFastLaunch": false,
    "category": "General purpose",
    "gpuNum": 0,
    "hideHardwareSpecs": false,
    "memoryGiB": 16,
    "name": "ml.t3.xlarge",
    "vcpuNum": 4
   },
   {
    "_defaultOrder": 3,
    "_isFastLaunch": false,
    "category": "General purpose",
    "gpuNum": 0,
    "hideHardwareSpecs": false,
    "memoryGiB": 32,
    "name": "ml.t3.2xlarge",
    "vcpuNum": 8
   },
   {
    "_defaultOrder": 4,
    "_isFastLaunch": true,
    "category": "General purpose",
    "gpuNum": 0,
    "hideHardwareSpecs": false,
    "memoryGiB": 8,
    "name": "ml.m5.large",
    "vcpuNum": 2
   },
   {
    "_defaultOrder": 5,
    "_isFastLaunch": false,
    "category": "General purpose",
    "gpuNum": 0,
    "hideHardwareSpecs": false,
    "memoryGiB": 16,
    "name": "ml.m5.xlarge",
    "vcpuNum": 4
   },
   {
    "_defaultOrder": 6,
    "_isFastLaunch": false,
    "category": "General purpose",
    "gpuNum": 0,
    "hideHardwareSpecs": false,
    "memoryGiB": 32,
    "name": "ml.m5.2xlarge",
    "vcpuNum": 8
   },
   {
    "_defaultOrder": 7,
    "_isFastLaunch": false,
    "category": "General purpose",
    "gpuNum": 0,
    "hideHardwareSpecs": false,
    "memoryGiB": 64,
    "name": "ml.m5.4xlarge",
    "vcpuNum": 16
   },
   {
    "_defaultOrder": 8,
    "_isFastLaunch": false,
    "category": "General purpose",
    "gpuNum": 0,
    "hideHardwareSpecs": false,
    "memoryGiB": 128,
    "name": "ml.m5.8xlarge",
    "vcpuNum": 32
   },
   {
    "_defaultOrder": 9,
    "_isFastLaunch": false,
    "category": "General purpose",
    "gpuNum": 0,
    "hideHardwareSpecs": false,
    "memoryGiB": 192,
    "name": "ml.m5.12xlarge",
    "vcpuNum": 48
   },
   {
    "_defaultOrder": 10,
    "_isFastLaunch": false,
    "category": "General purpose",
    "gpuNum": 0,
    "hideHardwareSpecs": false,
    "memoryGiB": 256,
    "name": "ml.m5.16xlarge",
    "vcpuNum": 64
   },
   {
    "_defaultOrder": 11,
    "_isFastLaunch": false,
    "category": "General purpose",
    "gpuNum": 0,
    "hideHardwareSpecs": false,
    "memoryGiB": 384,
    "name": "ml.m5.24xlarge",
    "vcpuNum": 96
   },
   {
    "_defaultOrder": 12,
    "_isFastLaunch": false,
    "category": "General purpose",
    "gpuNum": 0,
    "hideHardwareSpecs": false,
    "memoryGiB": 8,
    "name": "ml.m5d.large",
    "vcpuNum": 2
   },
   {
    "_defaultOrder": 13,
    "_isFastLaunch": false,
    "category": "General purpose",
    "gpuNum": 0,
    "hideHardwareSpecs": false,
    "memoryGiB": 16,
    "name": "ml.m5d.xlarge",
    "vcpuNum": 4
   },
   {
    "_defaultOrder": 14,
    "_isFastLaunch": false,
    "category": "General purpose",
    "gpuNum": 0,
    "hideHardwareSpecs": false,
    "memoryGiB": 32,
    "name": "ml.m5d.2xlarge",
    "vcpuNum": 8
   },
   {
    "_defaultOrder": 15,
    "_isFastLaunch": false,
    "category": "General purpose",
    "gpuNum": 0,
    "hideHardwareSpecs": false,
    "memoryGiB": 64,
    "name": "ml.m5d.4xlarge",
    "vcpuNum": 16
   },
   {
    "_defaultOrder": 16,
    "_isFastLaunch": false,
    "category": "General purpose",
    "gpuNum": 0,
    "hideHardwareSpecs": false,
    "memoryGiB": 128,
    "name": "ml.m5d.8xlarge",
    "vcpuNum": 32
   },
   {
    "_defaultOrder": 17,
    "_isFastLaunch": false,
    "category": "General purpose",
    "gpuNum": 0,
    "hideHardwareSpecs": false,
    "memoryGiB": 192,
    "name": "ml.m5d.12xlarge",
    "vcpuNum": 48
   },
   {
    "_defaultOrder": 18,
    "_isFastLaunch": false,
    "category": "General purpose",
    "gpuNum": 0,
    "hideHardwareSpecs": false,
    "memoryGiB": 256,
    "name": "ml.m5d.16xlarge",
    "vcpuNum": 64
   },
   {
    "_defaultOrder": 19,
    "_isFastLaunch": false,
    "category": "General purpose",
    "gpuNum": 0,
    "hideHardwareSpecs": false,
    "memoryGiB": 384,
    "name": "ml.m5d.24xlarge",
    "vcpuNum": 96
   },
   {
    "_defaultOrder": 20,
    "_isFastLaunch": false,
    "category": "General purpose",
    "gpuNum": 0,
    "hideHardwareSpecs": true,
    "memoryGiB": 0,
    "name": "ml.geospatial.interactive",
    "supportedImageNames": [
     "sagemaker-geospatial-v1-0"
    ],
    "vcpuNum": 0
   },
   {
    "_defaultOrder": 21,
    "_isFastLaunch": true,
    "category": "Compute optimized",
    "gpuNum": 0,
    "hideHardwareSpecs": false,
    "memoryGiB": 4,
    "name": "ml.c5.large",
    "vcpuNum": 2
   },
   {
    "_defaultOrder": 22,
    "_isFastLaunch": false,
    "category": "Compute optimized",
    "gpuNum": 0,
    "hideHardwareSpecs": false,
    "memoryGiB": 8,
    "name": "ml.c5.xlarge",
    "vcpuNum": 4
   },
   {
    "_defaultOrder": 23,
    "_isFastLaunch": false,
    "category": "Compute optimized",
    "gpuNum": 0,
    "hideHardwareSpecs": false,
    "memoryGiB": 16,
    "name": "ml.c5.2xlarge",
    "vcpuNum": 8
   },
   {
    "_defaultOrder": 24,
    "_isFastLaunch": false,
    "category": "Compute optimized",
    "gpuNum": 0,
    "hideHardwareSpecs": false,
    "memoryGiB": 32,
    "name": "ml.c5.4xlarge",
    "vcpuNum": 16
   },
   {
    "_defaultOrder": 25,
    "_isFastLaunch": false,
    "category": "Compute optimized",
    "gpuNum": 0,
    "hideHardwareSpecs": false,
    "memoryGiB": 72,
    "name": "ml.c5.9xlarge",
    "vcpuNum": 36
   },
   {
    "_defaultOrder": 26,
    "_isFastLaunch": false,
    "category": "Compute optimized",
    "gpuNum": 0,
    "hideHardwareSpecs": false,
    "memoryGiB": 96,
    "name": "ml.c5.12xlarge",
    "vcpuNum": 48
   },
   {
    "_defaultOrder": 27,
    "_isFastLaunch": false,
    "category": "Compute optimized",
    "gpuNum": 0,
    "hideHardwareSpecs": false,
    "memoryGiB": 144,
    "name": "ml.c5.18xlarge",
    "vcpuNum": 72
   },
   {
    "_defaultOrder": 28,
    "_isFastLaunch": false,
    "category": "Compute optimized",
    "gpuNum": 0,
    "hideHardwareSpecs": false,
    "memoryGiB": 192,
    "name": "ml.c5.24xlarge",
    "vcpuNum": 96
   },
   {
    "_defaultOrder": 29,
    "_isFastLaunch": true,
    "category": "Accelerated computing",
    "gpuNum": 1,
    "hideHardwareSpecs": false,
    "memoryGiB": 16,
    "name": "ml.g4dn.xlarge",
    "vcpuNum": 4
   },
   {
    "_defaultOrder": 30,
    "_isFastLaunch": false,
    "category": "Accelerated computing",
    "gpuNum": 1,
    "hideHardwareSpecs": false,
    "memoryGiB": 32,
    "name": "ml.g4dn.2xlarge",
    "vcpuNum": 8
   },
   {
    "_defaultOrder": 31,
    "_isFastLaunch": false,
    "category": "Accelerated computing",
    "gpuNum": 1,
    "hideHardwareSpecs": false,
    "memoryGiB": 64,
    "name": "ml.g4dn.4xlarge",
    "vcpuNum": 16
   },
   {
    "_defaultOrder": 32,
    "_isFastLaunch": false,
    "category": "Accelerated computing",
    "gpuNum": 1,
    "hideHardwareSpecs": false,
    "memoryGiB": 128,
    "name": "ml.g4dn.8xlarge",
    "vcpuNum": 32
   },
   {
    "_defaultOrder": 33,
    "_isFastLaunch": false,
    "category": "Accelerated computing",
    "gpuNum": 4,
    "hideHardwareSpecs": false,
    "memoryGiB": 192,
    "name": "ml.g4dn.12xlarge",
    "vcpuNum": 48
   },
   {
    "_defaultOrder": 34,
    "_isFastLaunch": false,
    "category": "Accelerated computing",
    "gpuNum": 1,
    "hideHardwareSpecs": false,
    "memoryGiB": 256,
    "name": "ml.g4dn.16xlarge",
    "vcpuNum": 64
   },
   {
    "_defaultOrder": 35,
    "_isFastLaunch": false,
    "category": "Accelerated computing",
    "gpuNum": 1,
    "hideHardwareSpecs": false,
    "memoryGiB": 61,
    "name": "ml.p3.2xlarge",
    "vcpuNum": 8
   },
   {
    "_defaultOrder": 36,
    "_isFastLaunch": false,
    "category": "Accelerated computing",
    "gpuNum": 4,
    "hideHardwareSpecs": false,
    "memoryGiB": 244,
    "name": "ml.p3.8xlarge",
    "vcpuNum": 32
   },
   {
    "_defaultOrder": 37,
    "_isFastLaunch": false,
    "category": "Accelerated computing",
    "gpuNum": 8,
    "hideHardwareSpecs": false,
    "memoryGiB": 488,
    "name": "ml.p3.16xlarge",
    "vcpuNum": 64
   },
   {
    "_defaultOrder": 38,
    "_isFastLaunch": false,
    "category": "Accelerated computing",
    "gpuNum": 8,
    "hideHardwareSpecs": false,
    "memoryGiB": 768,
    "name": "ml.p3dn.24xlarge",
    "vcpuNum": 96
   },
   {
    "_defaultOrder": 39,
    "_isFastLaunch": false,
    "category": "Memory Optimized",
    "gpuNum": 0,
    "hideHardwareSpecs": false,
    "memoryGiB": 16,
    "name": "ml.r5.large",
    "vcpuNum": 2
   },
   {
    "_defaultOrder": 40,
    "_isFastLaunch": false,
    "category": "Memory Optimized",
    "gpuNum": 0,
    "hideHardwareSpecs": false,
    "memoryGiB": 32,
    "name": "ml.r5.xlarge",
    "vcpuNum": 4
   },
   {
    "_defaultOrder": 41,
    "_isFastLaunch": false,
    "category": "Memory Optimized",
    "gpuNum": 0,
    "hideHardwareSpecs": false,
    "memoryGiB": 64,
    "name": "ml.r5.2xlarge",
    "vcpuNum": 8
   },
   {
    "_defaultOrder": 42,
    "_isFastLaunch": false,
    "category": "Memory Optimized",
    "gpuNum": 0,
    "hideHardwareSpecs": false,
    "memoryGiB": 128,
    "name": "ml.r5.4xlarge",
    "vcpuNum": 16
   },
   {
    "_defaultOrder": 43,
    "_isFastLaunch": false,
    "category": "Memory Optimized",
    "gpuNum": 0,
    "hideHardwareSpecs": false,
    "memoryGiB": 256,
    "name": "ml.r5.8xlarge",
    "vcpuNum": 32
   },
   {
    "_defaultOrder": 44,
    "_isFastLaunch": false,
    "category": "Memory Optimized",
    "gpuNum": 0,
    "hideHardwareSpecs": false,
    "memoryGiB": 384,
    "name": "ml.r5.12xlarge",
    "vcpuNum": 48
   },
   {
    "_defaultOrder": 45,
    "_isFastLaunch": false,
    "category": "Memory Optimized",
    "gpuNum": 0,
    "hideHardwareSpecs": false,
    "memoryGiB": 512,
    "name": "ml.r5.16xlarge",
    "vcpuNum": 64
   },
   {
    "_defaultOrder": 46,
    "_isFastLaunch": false,
    "category": "Memory Optimized",
    "gpuNum": 0,
    "hideHardwareSpecs": false,
    "memoryGiB": 768,
    "name": "ml.r5.24xlarge",
    "vcpuNum": 96
   },
   {
    "_defaultOrder": 47,
    "_isFastLaunch": false,
    "category": "Accelerated computing",
    "gpuNum": 1,
    "hideHardwareSpecs": false,
    "memoryGiB": 16,
    "name": "ml.g5.xlarge",
    "vcpuNum": 4
   },
   {
    "_defaultOrder": 48,
    "_isFastLaunch": false,
    "category": "Accelerated computing",
    "gpuNum": 1,
    "hideHardwareSpecs": false,
    "memoryGiB": 32,
    "name": "ml.g5.2xlarge",
    "vcpuNum": 8
   },
   {
    "_defaultOrder": 49,
    "_isFastLaunch": false,
    "category": "Accelerated computing",
    "gpuNum": 1,
    "hideHardwareSpecs": false,
    "memoryGiB": 64,
    "name": "ml.g5.4xlarge",
    "vcpuNum": 16
   },
   {
    "_defaultOrder": 50,
    "_isFastLaunch": false,
    "category": "Accelerated computing",
    "gpuNum": 1,
    "hideHardwareSpecs": false,
    "memoryGiB": 128,
    "name": "ml.g5.8xlarge",
    "vcpuNum": 32
   },
   {
    "_defaultOrder": 51,
    "_isFastLaunch": false,
    "category": "Accelerated computing",
    "gpuNum": 1,
    "hideHardwareSpecs": false,
    "memoryGiB": 256,
    "name": "ml.g5.16xlarge",
    "vcpuNum": 64
   },
   {
    "_defaultOrder": 52,
    "_isFastLaunch": false,
    "category": "Accelerated computing",
    "gpuNum": 4,
    "hideHardwareSpecs": false,
    "memoryGiB": 192,
    "name": "ml.g5.12xlarge",
    "vcpuNum": 48
   },
   {
    "_defaultOrder": 53,
    "_isFastLaunch": false,
    "category": "Accelerated computing",
    "gpuNum": 4,
    "hideHardwareSpecs": false,
    "memoryGiB": 384,
    "name": "ml.g5.24xlarge",
    "vcpuNum": 96
   },
   {
    "_defaultOrder": 54,
    "_isFastLaunch": false,
    "category": "Accelerated computing",
    "gpuNum": 8,
    "hideHardwareSpecs": false,
    "memoryGiB": 768,
    "name": "ml.g5.48xlarge",
    "vcpuNum": 192
   },
   {
    "_defaultOrder": 55,
    "_isFastLaunch": false,
    "category": "Accelerated computing",
    "gpuNum": 8,
    "hideHardwareSpecs": false,
    "memoryGiB": 1152,
    "name": "ml.p4d.24xlarge",
    "vcpuNum": 96
   },
   {
    "_defaultOrder": 56,
    "_isFastLaunch": false,
    "category": "Accelerated computing",
    "gpuNum": 8,
    "hideHardwareSpecs": false,
    "memoryGiB": 1152,
    "name": "ml.p4de.24xlarge",
    "vcpuNum": 96
   },
   {
    "_defaultOrder": 57,
    "_isFastLaunch": false,
    "category": "Accelerated computing",
    "gpuNum": 0,
    "hideHardwareSpecs": false,
    "memoryGiB": 32,
    "name": "ml.trn1.2xlarge",
    "vcpuNum": 8
   },
   {
    "_defaultOrder": 58,
    "_isFastLaunch": false,
    "category": "Accelerated computing",
    "gpuNum": 0,
    "hideHardwareSpecs": false,
    "memoryGiB": 512,
    "name": "ml.trn1.32xlarge",
    "vcpuNum": 128
   },
   {
    "_defaultOrder": 59,
    "_isFastLaunch": false,
    "category": "Accelerated computing",
    "gpuNum": 0,
    "hideHardwareSpecs": false,
    "memoryGiB": 512,
    "name": "ml.trn1n.32xlarge",
    "vcpuNum": 128
   }
  ],
  "colab": {
   "provenance": []
  },
  "instance_type": "ml.t3.medium",
  "kernelspec": {
   "display_name": "Python 3 (Data Science 3.0)",
   "language": "python",
   "name": "python3__SAGEMAKER_INTERNAL__arn:aws:sagemaker:us-west-2:236514542706:image/sagemaker-data-science-310-v1"
  },
  "language_info": {
   "codemirror_mode": {
    "name": "ipython",
    "version": 3
   },
   "file_extension": ".py",
   "mimetype": "text/x-python",
   "name": "python",
   "nbconvert_exporter": "python",
   "pygments_lexer": "ipython3",
   "version": "3.10.6"
  }
 },
 "nbformat": 4,
 "nbformat_minor": 5
}

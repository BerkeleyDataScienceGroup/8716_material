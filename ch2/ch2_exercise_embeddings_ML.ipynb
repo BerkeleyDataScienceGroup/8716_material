{
 "cells": [
  {
   "cell_type": "markdown",
   "id": "eeb96c8d",
   "metadata": {
    "id": "eeb96c8d"
   },
   "source": [
    "# Exercise - Use OpenAI embeddings to fit sentiment data"
   ]
  },
  {
   "cell_type": "markdown",
   "id": "0aaf4f0c",
   "metadata": {
    "id": "0aaf4f0c"
   },
   "source": [
    "Task1: Use sentiment data to calculate embeddings using openai model.\n",
    "Task2: Fit the Gaussian model on those embeddings"
   ]
  },
  {
   "cell_type": "markdown",
   "id": "df4fb06d",
   "metadata": {
    "id": "df4fb06d"
   },
   "source": [
    "Install requirements"
   ]
  },
  {
   "cell_type": "code",
   "execution_count": 1,
   "id": "8aa1e9ca",
   "metadata": {
    "colab": {
     "base_uri": "https://localhost:8080/"
    },
    "executionInfo": {
     "elapsed": 15459,
     "status": "ok",
     "timestamp": 1700326991635,
     "user": {
      "displayName": "Gunnar Kleemann",
      "userId": "02122813220075330457"
     },
     "user_tz": 360
    },
    "id": "8aa1e9ca",
    "outputId": "8cfece1f-3f79-4b4f-8e41-f8b7471d45fb",
    "tags": []
   },
   "outputs": [
    {
     "name": "stdout",
     "output_type": "stream",
     "text": [
      "\u001b[2K     \u001b[90m━━━━━━━━━━━━━━━━━━━━━━━━━━━━━━━━━━━━━━━━\u001b[0m \u001b[32m220.3/220.3 kB\u001b[0m \u001b[31m3.6 MB/s\u001b[0m eta \u001b[36m0:00:00\u001b[0m\n",
      "\u001b[2K     \u001b[90m━━━━━━━━━━━━━━━━━━━━━━━━━━━━━━━━━━━━━━━━\u001b[0m \u001b[32m75.0/75.0 kB\u001b[0m \u001b[31m3.7 MB/s\u001b[0m eta \u001b[36m0:00:00\u001b[0m\n",
      "\u001b[2K     \u001b[90m━━━━━━━━━━━━━━━━━━━━━━━━━━━━━━━━━━━━━━━━\u001b[0m \u001b[32m76.9/76.9 kB\u001b[0m \u001b[31m6.8 MB/s\u001b[0m eta \u001b[36m0:00:00\u001b[0m\n",
      "\u001b[2K     \u001b[90m━━━━━━━━━━━━━━━━━━━━━━━━━━━━━━━━━━━━━━━━\u001b[0m \u001b[32m58.3/58.3 kB\u001b[0m \u001b[31m4.9 MB/s\u001b[0m eta \u001b[36m0:00:00\u001b[0m\n",
      "\u001b[?25h\u001b[31mERROR: pip's dependency resolver does not currently take into account all the packages that are installed. This behaviour is the source of the following dependency conflicts.\n",
      "llmx 0.0.15a0 requires cohere, which is not installed.\n",
      "llmx 0.0.15a0 requires tiktoken, which is not installed.\u001b[0m\u001b[31m\n",
      "\u001b[0m"
     ]
    }
   ],
   "source": [
    "%pip install openai --quiet\n"
   ]
  },
  {
   "cell_type": "code",
   "execution_count": 2,
   "id": "2a36b41e-3302-4baa-bf63-79cff7c1ac70",
   "metadata": {
    "colab": {
     "base_uri": "https://localhost:8080/"
    },
    "executionInfo": {
     "elapsed": 19507,
     "status": "ok",
     "timestamp": 1700327011138,
     "user": {
      "displayName": "Gunnar Kleemann",
      "userId": "02122813220075330457"
     },
     "user_tz": 360
    },
    "id": "2a36b41e-3302-4baa-bf63-79cff7c1ac70",
    "outputId": "db169c7f-0820-4d03-cc28-7949977fbaf6",
    "tags": []
   },
   "outputs": [
    {
     "name": "stdout",
     "output_type": "stream",
     "text": [
      "\u001b[2K     \u001b[90m━━━━━━━━━━━━━━━━━━━━━━━━━━━━━━━━━━━━━━━━\u001b[0m \u001b[32m10.8/10.8 MB\u001b[0m \u001b[31m21.4 MB/s\u001b[0m eta \u001b[36m0:00:00\u001b[0m\n",
      "\u001b[?25h"
     ]
    }
   ],
   "source": [
    "%pip install -U scikit-learn --quiet"
   ]
  },
  {
   "cell_type": "markdown",
   "id": "ab570ca8",
   "metadata": {
    "id": "ab570ca8"
   },
   "source": [
    "Load sentiment data from `s3://webage-genai-data/sentiment_data_for_exercise/sentiment_data.csv` path"
   ]
  },
  {
   "cell_type": "code",
   "execution_count": null,
   "id": "db733c7c",
   "metadata": {
    "id": "db733c7c",
    "outputId": "222301fc-4adb-42b9-b95e-a069a4809e37",
    "tags": []
   },
   "outputs": [
    {
     "name": "stdout",
     "output_type": "stream",
     "text": [
      "(100, 2)\n"
     ]
    },
    {
     "data": {
      "text/html": [
       "<div>\n",
       "<style scoped>\n",
       "    .dataframe tbody tr th:only-of-type {\n",
       "        vertical-align: middle;\n",
       "    }\n",
       "\n",
       "    .dataframe tbody tr th {\n",
       "        vertical-align: top;\n",
       "    }\n",
       "\n",
       "    .dataframe thead th {\n",
       "        text-align: right;\n",
       "    }\n",
       "</style>\n",
       "<table border=\"1\" class=\"dataframe\">\n",
       "  <thead>\n",
       "    <tr style=\"text-align: right;\">\n",
       "      <th></th>\n",
       "      <th>text</th>\n",
       "      <th>sentiment</th>\n",
       "    </tr>\n",
       "  </thead>\n",
       "  <tbody>\n",
       "    <tr>\n",
       "      <th>0</th>\n",
       "      <td>I need a break... PFFF... Work Sucksss Will be...</td>\n",
       "      <td>neutral</td>\n",
       "    </tr>\n",
       "    <tr>\n",
       "      <th>1</th>\n",
       "      <td>happy bank holiday monday twitter! bath time, ...</td>\n",
       "      <td>positive</td>\n",
       "    </tr>\n",
       "    <tr>\n",
       "      <th>2</th>\n",
       "      <td>Kayyy XD Yeah, everyone always talks about th...</td>\n",
       "      <td>neutral</td>\n",
       "    </tr>\n",
       "    <tr>\n",
       "      <th>3</th>\n",
       "      <td>I don`t think I`ll ever have one of those again</td>\n",
       "      <td>neutral</td>\n",
       "    </tr>\n",
       "    <tr>\n",
       "      <th>4</th>\n",
       "      <td>ok... twitter I almost pass out because of you...</td>\n",
       "      <td>negative</td>\n",
       "    </tr>\n",
       "  </tbody>\n",
       "</table>\n",
       "</div>"
      ],
      "text/plain": [
       "                                                text sentiment\n",
       "0  I need a break... PFFF... Work Sucksss Will be...   neutral\n",
       "1  happy bank holiday monday twitter! bath time, ...  positive\n",
       "2   Kayyy XD Yeah, everyone always talks about th...   neutral\n",
       "3    I don`t think I`ll ever have one of those again   neutral\n",
       "4  ok... twitter I almost pass out because of you...  negative"
      ]
     },
     "execution_count": 11,
     "metadata": {},
     "output_type": "execute_result"
    }
   ],
   "source": [
    "# Your code goes here\n",
    "import pandas as pd\n",
    "#df = pd.read_csv(\"s3://webage-genai-data/sentiment_data_for_exercise/sentiment_data.csv\")\n",
    "df = pd.read_csv(\"s3://btcampdata/sentiment_data.csv\")\n",
    "print(df.shape)\n",
    "df.head()"
   ]
  },
  {
   "cell_type": "markdown",
   "id": "6f69e0ab",
   "metadata": {
    "id": "6f69e0ab"
   },
   "source": [
    "Convert 'sentiment' column into numeric values using LabelEncoder"
   ]
  },
  {
   "cell_type": "code",
   "execution_count": null,
   "id": "564e7f39",
   "metadata": {
    "id": "564e7f39",
    "outputId": "adb9e84f-0e24-44fc-a255-7c37943080cc",
    "tags": []
   },
   "outputs": [
    {
     "data": {
      "text/html": [
       "<div>\n",
       "<style scoped>\n",
       "    .dataframe tbody tr th:only-of-type {\n",
       "        vertical-align: middle;\n",
       "    }\n",
       "\n",
       "    .dataframe tbody tr th {\n",
       "        vertical-align: top;\n",
       "    }\n",
       "\n",
       "    .dataframe thead th {\n",
       "        text-align: right;\n",
       "    }\n",
       "</style>\n",
       "<table border=\"1\" class=\"dataframe\">\n",
       "  <thead>\n",
       "    <tr style=\"text-align: right;\">\n",
       "      <th></th>\n",
       "      <th>text</th>\n",
       "      <th>sentiment</th>\n",
       "    </tr>\n",
       "  </thead>\n",
       "  <tbody>\n",
       "    <tr>\n",
       "      <th>0</th>\n",
       "      <td>I need a break... PFFF... Work Sucksss Will be...</td>\n",
       "      <td>1</td>\n",
       "    </tr>\n",
       "    <tr>\n",
       "      <th>1</th>\n",
       "      <td>happy bank holiday monday twitter! bath time, ...</td>\n",
       "      <td>2</td>\n",
       "    </tr>\n",
       "    <tr>\n",
       "      <th>2</th>\n",
       "      <td>Kayyy XD Yeah, everyone always talks about th...</td>\n",
       "      <td>1</td>\n",
       "    </tr>\n",
       "    <tr>\n",
       "      <th>3</th>\n",
       "      <td>I don`t think I`ll ever have one of those again</td>\n",
       "      <td>1</td>\n",
       "    </tr>\n",
       "    <tr>\n",
       "      <th>4</th>\n",
       "      <td>ok... twitter I almost pass out because of you...</td>\n",
       "      <td>0</td>\n",
       "    </tr>\n",
       "  </tbody>\n",
       "</table>\n",
       "</div>"
      ],
      "text/plain": [
       "                                                text  sentiment\n",
       "0  I need a break... PFFF... Work Sucksss Will be...          1\n",
       "1  happy bank holiday monday twitter! bath time, ...          2\n",
       "2   Kayyy XD Yeah, everyone always talks about th...          1\n",
       "3    I don`t think I`ll ever have one of those again          1\n",
       "4  ok... twitter I almost pass out because of you...          0"
      ]
     },
     "execution_count": 12,
     "metadata": {},
     "output_type": "execute_result"
    }
   ],
   "source": [
    "# Your code goes here\n",
    "\n",
    "from sklearn.preprocessing import LabelEncoder\n",
    "\n",
    "# Creating a instance of label Encoder.\n",
    "label_encoder = LabelEncoder()\n",
    "\n",
    "# Using .fit_transform function to fit label\n",
    "# encoder and return encoded label\n",
    "df['sentiment'] = label_encoder.fit_transform(df['sentiment'])\n",
    "df.head()"
   ]
  },
  {
   "cell_type": "markdown",
   "id": "050a4933",
   "metadata": {
    "id": "050a4933"
   },
   "source": [
    "Convert 'text' column into embeddings using OpenAI model"
   ]
  },
  {
   "cell_type": "code",
   "execution_count": null,
   "id": "3f752754",
   "metadata": {
    "id": "3f752754",
    "outputId": "a37fe1c3-affd-41c4-96ee-d09b1921505b",
    "tags": []
   },
   "outputs": [
    {
     "data": {
      "text/plain": [
       "1536"
      ]
     },
     "execution_count": 13,
     "metadata": {},
     "output_type": "execute_result"
    }
   ],
   "source": [
    "# Your code goes here\n",
    "import openai\n",
    "key = \"<YOUR_API_KEY>\"\n",
    "openai.api_key = key\n",
    "\n",
    "input_text = 'Input text'\n",
    "\n",
    "embedding_response = openai.Embedding.create(\n",
    "    input=input_text,\n",
    "    model=\"text-embedding-ada-002\"\n",
    ")\n",
    "\n",
    "embedding = embedding_response[\"data\"][0][\"embedding\"]\n",
    "len(embedding)"
   ]
  },
  {
   "cell_type": "code",
   "execution_count": null,
   "id": "a4a77fd2-35dc-4bb3-bf73-4afd154c1ec1",
   "metadata": {
    "id": "a4a77fd2-35dc-4bb3-bf73-4afd154c1ec1",
    "outputId": "8cbd3558-3729-4fbe-ecab-f6fb196eb263",
    "tags": []
   },
   "outputs": [
    {
     "data": {
      "text/plain": [
       "[-0.009604713879525661,\n",
       " 0.001167986774817109,\n",
       " -0.007270371075719595,\n",
       " -0.03137670457363129,\n",
       " -0.008880937471985817,\n",
       " 0.020617859438061714,\n",
       " -0.012075988575816154,\n",
       " -0.0030548598151654005,\n",
       " 0.0016064911615103483,\n",
       " -0.01860954239964485]"
      ]
     },
     "execution_count": 14,
     "metadata": {},
     "output_type": "execute_result"
    }
   ],
   "source": [
    "# helper function\n",
    "def get_embeddings(input_text,model=\"text-embedding-ada-002\"):\n",
    "    embedding_response = openai.Embedding.create(\n",
    "        input=input_text,\n",
    "        model=model\n",
    "    )\n",
    "\n",
    "    return embedding_response[\"data\"][0][\"embedding\"]\n",
    "\n",
    "#test out the function\n",
    "get_embeddings(\"cats and dogs\")[:10]"
   ]
  },
  {
   "cell_type": "code",
   "execution_count": null,
   "id": "9659051d-7b48-4dd1-9b74-f656019bf54c",
   "metadata": {
    "id": "9659051d-7b48-4dd1-9b74-f656019bf54c",
    "outputId": "41e30788-767a-4f47-f027-b0d801ca157c",
    "tags": []
   },
   "outputs": [
    {
     "data": {
      "text/html": [
       "<div>\n",
       "<style scoped>\n",
       "    .dataframe tbody tr th:only-of-type {\n",
       "        vertical-align: middle;\n",
       "    }\n",
       "\n",
       "    .dataframe tbody tr th {\n",
       "        vertical-align: top;\n",
       "    }\n",
       "\n",
       "    .dataframe thead th {\n",
       "        text-align: right;\n",
       "    }\n",
       "</style>\n",
       "<table border=\"1\" class=\"dataframe\">\n",
       "  <thead>\n",
       "    <tr style=\"text-align: right;\">\n",
       "      <th></th>\n",
       "      <th>text</th>\n",
       "      <th>sentiment</th>\n",
       "      <th>vectors</th>\n",
       "    </tr>\n",
       "  </thead>\n",
       "  <tbody>\n",
       "    <tr>\n",
       "      <th>0</th>\n",
       "      <td>I need a break... PFFF... Work Sucksss Will be...</td>\n",
       "      <td>1</td>\n",
       "      <td>[-0.015194837935268879, -0.008071846328675747,...</td>\n",
       "    </tr>\n",
       "    <tr>\n",
       "      <th>1</th>\n",
       "      <td>happy bank holiday monday twitter! bath time, ...</td>\n",
       "      <td>2</td>\n",
       "      <td>[-0.005067901220172644, -0.0010816864669322968...</td>\n",
       "    </tr>\n",
       "    <tr>\n",
       "      <th>2</th>\n",
       "      <td>Kayyy XD Yeah, everyone always talks about th...</td>\n",
       "      <td>1</td>\n",
       "      <td>[-0.013449041172862053, -0.005764342844486237,...</td>\n",
       "    </tr>\n",
       "    <tr>\n",
       "      <th>3</th>\n",
       "      <td>I don`t think I`ll ever have one of those again</td>\n",
       "      <td>1</td>\n",
       "      <td>[-0.023799024522304535, -0.0029215821996331215...</td>\n",
       "    </tr>\n",
       "    <tr>\n",
       "      <th>4</th>\n",
       "      <td>ok... twitter I almost pass out because of you...</td>\n",
       "      <td>0</td>\n",
       "      <td>[-0.030994102358818054, -0.013744408264756203,...</td>\n",
       "    </tr>\n",
       "  </tbody>\n",
       "</table>\n",
       "</div>"
      ],
      "text/plain": [
       "                                                text  sentiment  \\\n",
       "0  I need a break... PFFF... Work Sucksss Will be...          1   \n",
       "1  happy bank holiday monday twitter! bath time, ...          2   \n",
       "2   Kayyy XD Yeah, everyone always talks about th...          1   \n",
       "3    I don`t think I`ll ever have one of those again          1   \n",
       "4  ok... twitter I almost pass out because of you...          0   \n",
       "\n",
       "                                             vectors  \n",
       "0  [-0.015194837935268879, -0.008071846328675747,...  \n",
       "1  [-0.005067901220172644, -0.0010816864669322968...  \n",
       "2  [-0.013449041172862053, -0.005764342844486237,...  \n",
       "3  [-0.023799024522304535, -0.0029215821996331215...  \n",
       "4  [-0.030994102358818054, -0.013744408264756203,...  "
      ]
     },
     "execution_count": 15,
     "metadata": {},
     "output_type": "execute_result"
    }
   ],
   "source": [
    "df['vectors'] = df['text'].apply(lambda x: list(get_embeddings(x)))\n",
    "df.head()"
   ]
  },
  {
   "cell_type": "markdown",
   "id": "a391a13c",
   "metadata": {
    "id": "a391a13c"
   },
   "source": [
    "Split dataset into train/test"
   ]
  },
  {
   "cell_type": "code",
   "execution_count": null,
   "id": "2c08a70a",
   "metadata": {
    "id": "2c08a70a",
    "tags": []
   },
   "outputs": [],
   "source": [
    "# Your code goes here\n"
   ]
  },
  {
   "cell_type": "code",
   "execution_count": null,
   "id": "cf421ba6-789f-47ed-a234-69b18290a46b",
   "metadata": {
    "id": "cf421ba6-789f-47ed-a234-69b18290a46b",
    "outputId": "0eb63140-6933-493e-c686-3037532b5cde",
    "tags": []
   },
   "outputs": [
    {
     "data": {
      "text/html": [
       "<div>\n",
       "<style scoped>\n",
       "    .dataframe tbody tr th:only-of-type {\n",
       "        vertical-align: middle;\n",
       "    }\n",
       "\n",
       "    .dataframe tbody tr th {\n",
       "        vertical-align: top;\n",
       "    }\n",
       "\n",
       "    .dataframe thead th {\n",
       "        text-align: right;\n",
       "    }\n",
       "</style>\n",
       "<table border=\"1\" class=\"dataframe\">\n",
       "  <thead>\n",
       "    <tr style=\"text-align: right;\">\n",
       "      <th></th>\n",
       "      <th>0</th>\n",
       "      <th>1</th>\n",
       "      <th>2</th>\n",
       "      <th>3</th>\n",
       "      <th>4</th>\n",
       "      <th>5</th>\n",
       "      <th>6</th>\n",
       "      <th>7</th>\n",
       "      <th>8</th>\n",
       "      <th>9</th>\n",
       "      <th>...</th>\n",
       "      <th>1526</th>\n",
       "      <th>1527</th>\n",
       "      <th>1528</th>\n",
       "      <th>1529</th>\n",
       "      <th>1530</th>\n",
       "      <th>1531</th>\n",
       "      <th>1532</th>\n",
       "      <th>1533</th>\n",
       "      <th>1534</th>\n",
       "      <th>1535</th>\n",
       "    </tr>\n",
       "  </thead>\n",
       "  <tbody>\n",
       "    <tr>\n",
       "      <th>0</th>\n",
       "      <td>-0.015195</td>\n",
       "      <td>-0.008072</td>\n",
       "      <td>0.010187</td>\n",
       "      <td>-0.026621</td>\n",
       "      <td>-0.029362</td>\n",
       "      <td>0.029151</td>\n",
       "      <td>-0.028255</td>\n",
       "      <td>-0.000492</td>\n",
       "      <td>0.004573</td>\n",
       "      <td>-0.013772</td>\n",
       "      <td>...</td>\n",
       "      <td>0.044227</td>\n",
       "      <td>-0.005344</td>\n",
       "      <td>0.021876</td>\n",
       "      <td>-0.029573</td>\n",
       "      <td>-0.018318</td>\n",
       "      <td>0.009574</td>\n",
       "      <td>-0.006135</td>\n",
       "      <td>-0.014773</td>\n",
       "      <td>0.020967</td>\n",
       "      <td>-0.022654</td>\n",
       "    </tr>\n",
       "    <tr>\n",
       "      <th>1</th>\n",
       "      <td>-0.005068</td>\n",
       "      <td>-0.001082</td>\n",
       "      <td>-0.004360</td>\n",
       "      <td>-0.016973</td>\n",
       "      <td>-0.022635</td>\n",
       "      <td>-0.002856</td>\n",
       "      <td>-0.004023</td>\n",
       "      <td>-0.011919</td>\n",
       "      <td>-0.019764</td>\n",
       "      <td>-0.018883</td>\n",
       "      <td>...</td>\n",
       "      <td>0.036163</td>\n",
       "      <td>-0.008240</td>\n",
       "      <td>0.005963</td>\n",
       "      <td>-0.011451</td>\n",
       "      <td>-0.021834</td>\n",
       "      <td>0.002060</td>\n",
       "      <td>-0.014182</td>\n",
       "      <td>0.011204</td>\n",
       "      <td>0.000913</td>\n",
       "      <td>-0.041371</td>\n",
       "    </tr>\n",
       "    <tr>\n",
       "      <th>2</th>\n",
       "      <td>-0.013449</td>\n",
       "      <td>-0.005764</td>\n",
       "      <td>-0.001955</td>\n",
       "      <td>-0.022926</td>\n",
       "      <td>-0.000585</td>\n",
       "      <td>0.020292</td>\n",
       "      <td>-0.008088</td>\n",
       "      <td>-0.015900</td>\n",
       "      <td>0.003556</td>\n",
       "      <td>-0.007957</td>\n",
       "      <td>...</td>\n",
       "      <td>0.016202</td>\n",
       "      <td>0.001232</td>\n",
       "      <td>0.002823</td>\n",
       "      <td>-0.041579</td>\n",
       "      <td>-0.006784</td>\n",
       "      <td>0.014576</td>\n",
       "      <td>0.014249</td>\n",
       "      <td>-0.006652</td>\n",
       "      <td>0.002423</td>\n",
       "      <td>-0.049077</td>\n",
       "    </tr>\n",
       "    <tr>\n",
       "      <th>3</th>\n",
       "      <td>-0.023799</td>\n",
       "      <td>-0.002922</td>\n",
       "      <td>0.018411</td>\n",
       "      <td>-0.010872</td>\n",
       "      <td>-0.009774</td>\n",
       "      <td>0.010181</td>\n",
       "      <td>-0.016977</td>\n",
       "      <td>-0.005556</td>\n",
       "      <td>-0.007061</td>\n",
       "      <td>0.001794</td>\n",
       "      <td>...</td>\n",
       "      <td>0.016241</td>\n",
       "      <td>-0.021538</td>\n",
       "      <td>0.014303</td>\n",
       "      <td>-0.030388</td>\n",
       "      <td>-0.007203</td>\n",
       "      <td>0.038166</td>\n",
       "      <td>-0.015142</td>\n",
       "      <td>-0.017856</td>\n",
       "      <td>0.022985</td>\n",
       "      <td>-0.033179</td>\n",
       "    </tr>\n",
       "    <tr>\n",
       "      <th>4</th>\n",
       "      <td>-0.030994</td>\n",
       "      <td>-0.013744</td>\n",
       "      <td>-0.010285</td>\n",
       "      <td>-0.019081</td>\n",
       "      <td>-0.017843</td>\n",
       "      <td>0.009613</td>\n",
       "      <td>-0.001025</td>\n",
       "      <td>-0.016222</td>\n",
       "      <td>0.012631</td>\n",
       "      <td>-0.008493</td>\n",
       "      <td>...</td>\n",
       "      <td>0.020874</td>\n",
       "      <td>0.018488</td>\n",
       "      <td>0.029281</td>\n",
       "      <td>-0.017737</td>\n",
       "      <td>-0.023364</td>\n",
       "      <td>0.030045</td>\n",
       "      <td>-0.007571</td>\n",
       "      <td>0.006671</td>\n",
       "      <td>0.008216</td>\n",
       "      <td>-0.036265</td>\n",
       "    </tr>\n",
       "  </tbody>\n",
       "</table>\n",
       "<p>5 rows × 1536 columns</p>\n",
       "</div>"
      ],
      "text/plain": [
       "       0         1         2         3         4         5         6     \\\n",
       "0 -0.015195 -0.008072  0.010187 -0.026621 -0.029362  0.029151 -0.028255   \n",
       "1 -0.005068 -0.001082 -0.004360 -0.016973 -0.022635 -0.002856 -0.004023   \n",
       "2 -0.013449 -0.005764 -0.001955 -0.022926 -0.000585  0.020292 -0.008088   \n",
       "3 -0.023799 -0.002922  0.018411 -0.010872 -0.009774  0.010181 -0.016977   \n",
       "4 -0.030994 -0.013744 -0.010285 -0.019081 -0.017843  0.009613 -0.001025   \n",
       "\n",
       "       7         8         9     ...      1526      1527      1528      1529  \\\n",
       "0 -0.000492  0.004573 -0.013772  ...  0.044227 -0.005344  0.021876 -0.029573   \n",
       "1 -0.011919 -0.019764 -0.018883  ...  0.036163 -0.008240  0.005963 -0.011451   \n",
       "2 -0.015900  0.003556 -0.007957  ...  0.016202  0.001232  0.002823 -0.041579   \n",
       "3 -0.005556 -0.007061  0.001794  ...  0.016241 -0.021538  0.014303 -0.030388   \n",
       "4 -0.016222  0.012631 -0.008493  ...  0.020874  0.018488  0.029281 -0.017737   \n",
       "\n",
       "       1530      1531      1532      1533      1534      1535  \n",
       "0 -0.018318  0.009574 -0.006135 -0.014773  0.020967 -0.022654  \n",
       "1 -0.021834  0.002060 -0.014182  0.011204  0.000913 -0.041371  \n",
       "2 -0.006784  0.014576  0.014249 -0.006652  0.002423 -0.049077  \n",
       "3 -0.007203  0.038166 -0.015142 -0.017856  0.022985 -0.033179  \n",
       "4 -0.023364  0.030045 -0.007571  0.006671  0.008216 -0.036265  \n",
       "\n",
       "[5 rows x 1536 columns]"
      ]
     },
     "execution_count": 18,
     "metadata": {},
     "output_type": "execute_result"
    }
   ],
   "source": [
    "X.head()"
   ]
  },
  {
   "cell_type": "code",
   "execution_count": null,
   "id": "85e71afb-8502-4489-be45-95acea234f45",
   "metadata": {
    "id": "85e71afb-8502-4489-be45-95acea234f45",
    "outputId": "9f362619-8df7-42af-ba87-b372d9b8896b",
    "tags": []
   },
   "outputs": [
    {
     "data": {
      "text/plain": [
       "0    1\n",
       "1    2\n",
       "2    1\n",
       "3    1\n",
       "4    0\n",
       "Name: sentiment, dtype: int64"
      ]
     },
     "execution_count": 19,
     "metadata": {},
     "output_type": "execute_result"
    }
   ],
   "source": [
    "Y.head()"
   ]
  },
  {
   "cell_type": "markdown",
   "id": "57b5a0a5-ac45-48f3-9189-88bec38ea1df",
   "metadata": {
    "id": "57b5a0a5-ac45-48f3-9189-88bec38ea1df"
   },
   "source": [
    "Split in Test and Train"
   ]
  },
  {
   "cell_type": "code",
   "execution_count": null,
   "id": "ad27b433-f09f-4fb2-ac71-3059ef4f1817",
   "metadata": {
    "id": "ad27b433-f09f-4fb2-ac71-3059ef4f1817",
    "tags": []
   },
   "outputs": [],
   "source": [
    "# Your code goes ehre"
   ]
  },
  {
   "cell_type": "markdown",
   "id": "3536d339",
   "metadata": {
    "id": "3536d339"
   },
   "source": [
    "Fit 'GaussianNB' model on embeddings from OpenAI model"
   ]
  },
  {
   "cell_type": "code",
   "execution_count": null,
   "id": "9aeac224",
   "metadata": {
    "id": "9aeac224",
    "tags": []
   },
   "outputs": [],
   "source": [
    "# Your code goes here\n"
   ]
  },
  {
   "cell_type": "markdown",
   "id": "a6981e6a",
   "metadata": {
    "id": "a6981e6a"
   },
   "source": [
    "Evaluate your model"
   ]
  },
  {
   "cell_type": "code",
   "execution_count": null,
   "id": "bb3af325",
   "metadata": {
    "id": "bb3af325",
    "tags": []
   },
   "outputs": [],
   "source": [
    "# Your code goes here\n"
   ]
  },
  {
   "cell_type": "markdown",
   "id": "f98ac75d-43f5-471b-8076-1e7c6812531f",
   "metadata": {
    "id": "f98ac75d-43f5-471b-8076-1e7c6812531f"
   },
   "source": [
    "# Use a SKLearn NN classifier"
   ]
  },
  {
   "cell_type": "markdown",
   "id": "f70bf3c6-627e-48a8-b3fa-1eace8e47728",
   "metadata": {
    "id": "f70bf3c6-627e-48a8-b3fa-1eace8e47728"
   },
   "source": [
    "A Naive Bayes is not a great model to use for this task. Try it with a MLPClassifier from sklearn instead."
   ]
  },
  {
   "cell_type": "code",
   "execution_count": null,
   "id": "01d641ed-01ad-4b42-b7e2-57a922484191",
   "metadata": {
    "id": "01d641ed-01ad-4b42-b7e2-57a922484191",
    "tags": []
   },
   "outputs": [],
   "source": [
    "#You code goes here"
   ]
  },
  {
   "cell_type": "markdown",
   "id": "94c31071-a93b-46ed-9357-2e5440fc85c4",
   "metadata": {
    "id": "94c31071-a93b-46ed-9357-2e5440fc85c4"
   },
   "source": [
    "and Evaluate"
   ]
  },
  {
   "cell_type": "code",
   "execution_count": null,
   "id": "35c952cb-3496-405b-8a71-dcbbed916146",
   "metadata": {
    "id": "35c952cb-3496-405b-8a71-dcbbed916146",
    "tags": []
   },
   "outputs": [],
   "source": [
    "#You code goes here"
   ]
  }
 ],
 "metadata": {
  "colab": {
   "provenance": []
  },
  "kernelspec": {
   "display_name": "Python 3 (ipykernel)",
   "language": "python",
   "name": "python3"
  },
  "language_info": {
   "codemirror_mode": {
    "name": "ipython",
    "version": 3
   },
   "file_extension": ".py",
   "mimetype": "text/x-python",
   "name": "python",
   "nbconvert_exporter": "python",
   "pygments_lexer": "ipython3",
   "version": "3.9.12"
  }
 },
 "nbformat": 4,
 "nbformat_minor": 5
}

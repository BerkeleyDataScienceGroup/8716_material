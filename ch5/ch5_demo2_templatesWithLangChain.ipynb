{
 "cells": [
  {
   "cell_type": "markdown",
   "id": "b07314a3",
   "metadata": {
    "id": "b07314a3"
   },
   "source": [
    "# LangChain - Using Prompt Template for Summarization"
   ]
  },
  {
   "cell_type": "markdown",
   "id": "d5729ff1",
   "metadata": {
    "id": "d5729ff1"
   },
   "source": [
    "Here is how you can use LangChain framework for summarization task."
   ]
  },
  {
   "cell_type": "markdown",
   "id": "bf7e798b",
   "metadata": {
    "id": "bf7e798b"
   },
   "source": [
    "Install requirements"
   ]
  },
  {
   "cell_type": "code",
   "execution_count": 2,
   "id": "b27c19a0",
   "metadata": {
    "colab": {
     "base_uri": "https://localhost:8080/"
    },
    "executionInfo": {
     "elapsed": 31024,
     "status": "ok",
     "timestamp": 1700880248024,
     "user": {
      "displayName": "Gunnar Kleemann",
      "userId": "02122813220075330457"
     },
     "user_tz": 360
    },
    "id": "b27c19a0",
    "outputId": "617e6d4e-1a9d-42b1-de10-8e6fc0d9bf21",
    "tags": []
   },
   "outputs": [
    {
     "name": "stdout",
     "output_type": "stream",
     "text": [
      "Requirement already satisfied: langchain in /opt/conda/lib/python3.10/site-packages (0.0.348)\n",
      "\u001b[31mERROR: Could not find a version that satisfies the requirement quiet (from versions: none)\u001b[0m\u001b[31m\n",
      "\u001b[0m\u001b[31mERROR: No matching distribution found for quiet\u001b[0m\u001b[31m\n",
      "\u001b[0m\n",
      "\u001b[1m[\u001b[0m\u001b[34;49mnotice\u001b[0m\u001b[1;39;49m]\u001b[0m\u001b[39;49m A new release of pip is available: \u001b[0m\u001b[31;49m23.2.1\u001b[0m\u001b[39;49m -> \u001b[0m\u001b[32;49m23.3.1\u001b[0m\n",
      "\u001b[1m[\u001b[0m\u001b[34;49mnotice\u001b[0m\u001b[1;39;49m]\u001b[0m\u001b[39;49m To update, run: \u001b[0m\u001b[32;49mpip install --upgrade pip\u001b[0m\n",
      "Note: you may need to restart the kernel to use updated packages.\n",
      "Requirement already satisfied: openai in /opt/conda/lib/python3.10/site-packages (1.3.8)\n",
      "\u001b[31mERROR: Could not find a version that satisfies the requirement quiet (from versions: none)\u001b[0m\u001b[31m\n",
      "\u001b[0m\u001b[31mERROR: No matching distribution found for quiet\u001b[0m\u001b[31m\n",
      "\u001b[0m\n",
      "\u001b[1m[\u001b[0m\u001b[34;49mnotice\u001b[0m\u001b[1;39;49m]\u001b[0m\u001b[39;49m A new release of pip is available: \u001b[0m\u001b[31;49m23.2.1\u001b[0m\u001b[39;49m -> \u001b[0m\u001b[32;49m23.3.1\u001b[0m\n",
      "\u001b[1m[\u001b[0m\u001b[34;49mnotice\u001b[0m\u001b[1;39;49m]\u001b[0m\u001b[39;49m To update, run: \u001b[0m\u001b[32;49mpip install --upgrade pip\u001b[0m\n",
      "Note: you may need to restart the kernel to use updated packages.\n",
      "Requirement already satisfied: python-dotenv in /opt/conda/lib/python3.10/site-packages (1.0.0)\n",
      "\u001b[31mERROR: Could not find a version that satisfies the requirement quiet (from versions: none)\u001b[0m\u001b[31m\n",
      "\u001b[0m\u001b[31mERROR: No matching distribution found for quiet\u001b[0m\u001b[31m\n",
      "\u001b[0m\n",
      "\u001b[1m[\u001b[0m\u001b[34;49mnotice\u001b[0m\u001b[1;39;49m]\u001b[0m\u001b[39;49m A new release of pip is available: \u001b[0m\u001b[31;49m23.2.1\u001b[0m\u001b[39;49m -> \u001b[0m\u001b[32;49m23.3.1\u001b[0m\n",
      "\u001b[1m[\u001b[0m\u001b[34;49mnotice\u001b[0m\u001b[1;39;49m]\u001b[0m\u001b[39;49m To update, run: \u001b[0m\u001b[32;49mpip install --upgrade pip\u001b[0m\n",
      "Note: you may need to restart the kernel to use updated packages.\n"
     ]
    }
   ],
   "source": [
    "%pip install langchain -- quiet\n",
    "%pip install openai -- quiet\n",
    "%pip install python-dotenv -- quiet"
   ]
  },
  {
   "cell_type": "markdown",
   "id": "34b34622",
   "metadata": {
    "id": "34b34622"
   },
   "source": [
    "Main Use Cases of LangChain\n",
    "\n",
    "**Summarization** - Express the most important facts about a body of text or chat interaction\n",
    "\n",
    "**Question and Answering Over Documents** - Use information held within documents to answer questions or query\n",
    "\n",
    "**Extraction** - Pull structured data from a body of text or an user query\n",
    "\n",
    "**Evaluation** - Understand the quality of output from your application\n",
    "\n",
    "**Querying Tabular Data** - Pull data from databases or other tabular source\n",
    "\n",
    "**Code Understanding** - Reason about and digest code\n",
    "\n",
    "**Interacting with APIs** - Query APIs and interact with the outside world\n",
    "\n",
    "**Chatbots** - A framework to have a back and forth interaction with a user combined with memory in a chat interface\n",
    "\n",
    "**Agents** - Use LLMs to make decisions about what to do next. Enable these decisions with tools.\n"
   ]
  },
  {
   "cell_type": "markdown",
   "id": "475612c5",
   "metadata": {
    "id": "475612c5"
   },
   "source": [
    "Set up the OpenAI API key as an environment variable"
   ]
  },
  {
   "cell_type": "code",
   "execution_count": 3,
   "id": "979cd697",
   "metadata": {
    "colab": {
     "base_uri": "https://localhost:8080/",
     "height": 357
    },
    "executionInfo": {
     "elapsed": 9,
     "status": "error",
     "timestamp": 1701023543676,
     "user": {
      "displayName": "Gunnar Kleemann",
      "userId": "02122813220075330457"
     },
     "user_tz": 360
    },
    "id": "979cd697",
    "outputId": "fe50a177-d8de-447f-947d-06aafe13351a",
    "tags": []
   },
   "outputs": [],
   "source": [
    "import openai\n",
    "\n",
    "openai_key = \"\""
   ]
  },
  {
   "cell_type": "code",
   "execution_count": 4,
   "id": "cf7741c4",
   "metadata": {
    "id": "cf7741c4",
    "tags": []
   },
   "outputs": [],
   "source": [
    "import os\n",
    "from dotenv import load_dotenv\n",
    "import langchain\n",
    "\n",
    "load_dotenv()\n",
    "openai.api_key = os.getenv(openai_key)"
   ]
  },
  {
   "cell_type": "markdown",
   "id": "676d0e69",
   "metadata": {
    "id": "676d0e69"
   },
   "source": [
    "### About Prompt templates"
   ]
  },
  {
   "cell_type": "markdown",
   "id": "d708cd68",
   "metadata": {
    "id": "d708cd68"
   },
   "source": [
    "Prompt templates are pre-defined recipes for generating prompts for language models.\n",
    "\n",
    "A template may include **instructions**, **few-shot examples**, and **specific context** and questions appropriate for a given task.\n",
    "\n",
    "Use **PromptTemplate** to create a template for a string prompt.\n",
    "\n",
    "STEPS:\n",
    "\n",
    "1) Import the \"prompt Template\" from LangChain.\n",
    "\n",
    "2) To create the prompt, call the “PrompTemplate()”function and pass the **input_variable** to its input arguments in the way you defined it. In the following short example, we used defined **adjective** and **content**\n",
    "\n",
    "3) Get your response"
   ]
  },
  {
   "cell_type": "markdown",
   "id": "7f4038aa",
   "metadata": {
    "id": "7f4038aa"
   },
   "source": [
    "### Short example firstly"
   ]
  },
  {
   "cell_type": "code",
   "execution_count": 5,
   "id": "e5837319",
   "metadata": {
    "colab": {
     "base_uri": "https://localhost:8080/",
     "height": 35
    },
    "executionInfo": {
     "elapsed": 178,
     "status": "ok",
     "timestamp": 1700880626819,
     "user": {
      "displayName": "Gunnar Kleemann",
      "userId": "02122813220075330457"
     },
     "user_tz": 360
    },
    "id": "e5837319",
    "outputId": "5715112c-85b2-480b-c80b-d017419a3ddb",
    "tags": []
   },
   "outputs": [
    {
     "data": {
      "text/plain": [
       "'Tell me a funny joke about cows.'"
      ]
     },
     "execution_count": 5,
     "metadata": {},
     "output_type": "execute_result"
    }
   ],
   "source": [
    "from langchain import PromptTemplate\n",
    "\n",
    "prompt_template = PromptTemplate.from_template(\n",
    "    \"Tell me a {adjective} joke about {content}.\"\n",
    ")\n",
    "prompt_template.format(adjective=\"funny\", content=\"cows\")"
   ]
  },
  {
   "cell_type": "markdown",
   "id": "5936c592",
   "metadata": {
    "id": "5936c592"
   },
   "source": [
    "NOTE: We did not send our prompt to LLM in this example. This is just showcase for how to construct template."
   ]
  },
  {
   "cell_type": "markdown",
   "id": "b51e904f",
   "metadata": {
    "id": "b51e904f"
   },
   "source": [
    "### Summarization with Prompt Template"
   ]
  },
  {
   "cell_type": "code",
   "execution_count": 6,
   "id": "64eb4b28",
   "metadata": {
    "id": "64eb4b28",
    "tags": []
   },
   "outputs": [],
   "source": [
    "# Step 1\n",
    "\n",
    "from langchain.llms import OpenAI\n",
    "from langchain import PromptTemplate"
   ]
  },
  {
   "cell_type": "code",
   "execution_count": 7,
   "id": "e92b3dd2",
   "metadata": {
    "id": "e92b3dd2",
    "tags": []
   },
   "outputs": [],
   "source": [
    "# Define LLM\n",
    "#{model: str = 'text-davinci-003', temperature: float = 0.7}\n",
    "#llm = OpenAI(openai_api_key=openai_key, model='gpt-3.5-turbo', temperature=0)\n",
    "llm = OpenAI(openai_api_key=openai_key)"
   ]
  },
  {
   "cell_type": "code",
   "execution_count": null,
   "id": "AUAQZ0UHXY_n",
   "metadata": {
    "id": "AUAQZ0UHXY_n"
   },
   "outputs": [],
   "source": [
    "#help(OpenAI)"
   ]
  },
  {
   "cell_type": "code",
   "execution_count": 8,
   "id": "2c86ff4b",
   "metadata": {
    "id": "2c86ff4b",
    "tags": []
   },
   "outputs": [],
   "source": [
    "# Create instructions\n",
    "\n",
    "template = \"\"\"\n",
    "INSTRUCTIONS:\n",
    "Please summarize the following piece of text.\n",
    "Respond in a two short sentences with bullet points giving me:\n",
    "- What happened?\n",
    "- Who was involved? (including companies and persons)\n",
    "\n",
    "TEXT:\n",
    "{text}\n",
    "\"\"\""
   ]
  },
  {
   "cell_type": "code",
   "execution_count": 9,
   "id": "72aa9e59",
   "metadata": {
    "id": "72aa9e59",
    "tags": []
   },
   "outputs": [],
   "source": [
    "# Step 2\n",
    "\n",
    "prompt = PromptTemplate(\n",
    "    input_variables=[\"text\"],\n",
    "    template=template,\n",
    ")"
   ]
  },
  {
   "cell_type": "markdown",
   "id": "1a6d79b6",
   "metadata": {
    "id": "1a6d79b6"
   },
   "source": [
    "This is actual **text** we want to summarize"
   ]
  },
  {
   "cell_type": "code",
   "execution_count": 10,
   "id": "b830fbf8",
   "metadata": {
    "id": "b830fbf8",
    "tags": []
   },
   "outputs": [],
   "source": [
    "text = \"\"\"\n",
    "Virgin Galactic has rocketed to the edge of space with its first tourists, including a former British Olympian who bought his ticket 18 years ago and a mother-daughter duo from the Caribbean.\n",
    "\n",
    "The space plane glided back to a runway landing on Thursday at Spaceport America in the New Mexico desert after a brief flight that gave passengers a few minutes of weightlessness.\n",
    "\n",
    "Cheers erupted from families and friends watching from below when the craft’s rocket motor fired after it was released from the plane that had carried it aloft. The rocket ship reached about 88km (55 miles) high.\n",
    "\n",
    "Richard Branson’s company expects to begin offering monthly trips to customers on its winged space plane, joining Jeff Bezos’s Blue Origin and Elon Musk’s SpaceX in the space tourism business.\n",
    "\n",
    "Virgin Galactic passenger Jon Goodwin, who was among the first to buy a ticket in 2005, said he had faith that he would someday make the trip. The 80-year-old athlete – he competed in canoeing in the 1972 Olympics – has Parkinson’s disease and wants to be an inspiration to others.\n",
    "\n",
    "“I hope it shows them that these obstacles can be the start rather than the end to new adventures,” he said in a statement.\n",
    "\n",
    "Ticket prices were $200,000 when Goodwin signed up. The cost is now $450,000.\n",
    "\n",
    "He was joined by sweepstakes winner Keisha Schahaff, 46, a health coach from Antigua, and her daughter, Anastatia Mayers, 18, a student at Scotland’s University of Aberdeen. Also on board: two pilots and the company’s astronaut trainer.\n",
    "It was Virgin Galactic’s seventh trip to space since 2018 but the first with a ticket-holder. Branson, the company’s founder, hopped on board for the first full-size crew ride in 2021. Italian military and government researchers soared aloft in June on the first commercial flight. About 800 people are currently on Virgin Galactic’s waiting list, according to the company.\n",
    "\n",
    "Virgin Galactic’s rocket ship launches from the belly of an aeroplane, not from the ground, and requires two pilots in the cockpit. Once the mothership reaches about 15km (10 miles), the space plane is released and fires its rocket motor to make the final push to just over 80km (50 miles) up. Passengers can unstrap from their seats, float around the cabin for a few minutes and take in the sweeping views of Earth before the space plane glides back home and lands on a runway.\n",
    "\"\"\""
   ]
  },
  {
   "cell_type": "markdown",
   "id": "d0d64106",
   "metadata": {
    "id": "d0d64106"
   },
   "source": [
    "Let's see how our prompt look like after using **prompt Template**.\n",
    "\n",
    "We used couple of instructions before text itself."
   ]
  },
  {
   "cell_type": "code",
   "execution_count": 11,
   "id": "99ba6cf6",
   "metadata": {
    "colab": {
     "base_uri": "https://localhost:8080/"
    },
    "executionInfo": {
     "elapsed": 245,
     "status": "ok",
     "timestamp": 1700880662539,
     "user": {
      "displayName": "Gunnar Kleemann",
      "userId": "02122813220075330457"
     },
     "user_tz": 360
    },
    "id": "99ba6cf6",
    "outputId": "9a2639e0-7148-4b08-f07a-3ba43f35cd7b",
    "tags": []
   },
   "outputs": [
    {
     "name": "stdout",
     "output_type": "stream",
     "text": [
      "------- Prompt Begin -------\n",
      "\n",
      "INSTRUCTIONS:\n",
      "Please summarize the following piece of text.\n",
      "Respond in a two short sentences with bullet points giving me:\n",
      "- What happened?\n",
      "- Who was involved? (including companies and persons)\n",
      "\n",
      "TEXT:\n",
      "\n",
      "Virgin Galactic has rocketed to the edge of space with its first tourists, including a former British Olympian who bought his ticket 18 years ago and a mother-daughter duo from the Caribbean.\n",
      "\n",
      "The space plane glided back to a runway landing on Thursday at Spaceport America in the New Mexico desert after a brief flight that gave passengers a few minutes of weightlessness.\n",
      "\n",
      "Cheers erupted from families and friends watching from below when the craft’s rocket motor fired after it was released from the plane that had carried it aloft. The rocket ship reached about 88km (55 miles) high.\n",
      "\n",
      "Richard Branson’s company expects to begin offering monthly trips to customers on its winged space plane, joining Jeff Bezos’s Blue Origin and Elon Musk’s SpaceX in the space tourism business.\n",
      "\n",
      "Virgin Galactic passenger Jon Goodwin, who was among the first to buy a ticket in 2005, said he had faith that he would someday make the trip. The 80-year-old athlete – he competed in canoeing in the 1972 Olympics – has Parkinson’s disease and wants to be an inspiration to others.\n",
      "\n",
      "“I hope it shows them that these obstacles can be the start rather than the end to new adventures,” he said in a statement.\n",
      "\n",
      "Ticket prices were $200,000 when Goodwin signed up. The cost is now $450,000.\n",
      "\n",
      "He was joined by sweepstakes winner Keisha Schahaff, 46, a health coach from Antigua, and her daughter, Anastatia Mayers, 18, a student at Scotland’s University of Aberdeen. Also on board: two pilots and the company’s astronaut trainer.\n",
      "It was Virgin Galactic’s seventh trip to space since 2018 but the first with a ticket-holder. Branson, the company’s founder, hopped on board for the first full-size crew ride in 2021. Italian military and government researchers soared aloft in June on the first commercial flight. About 800 people are currently on Virgin Galactic’s waiting list, according to the company.\n",
      "\n",
      "Virgin Galactic’s rocket ship launches from the belly of an aeroplane, not from the ground, and requires two pilots in the cockpit. Once the mothership reaches about 15km (10 miles), the space plane is released and fires its rocket motor to make the final push to just over 80km (50 miles) up. Passengers can unstrap from their seats, float around the cabin for a few minutes and take in the sweeping views of Earth before the space plane glides back home and lands on a runway.\n",
      "\n",
      "\n",
      "------- Prompt End -------\n"
     ]
    }
   ],
   "source": [
    "print (\"------- Prompt Begin -------\")\n",
    "\n",
    "final_prompt = prompt.format(text=text)\n",
    "print(final_prompt)\n",
    "\n",
    "print (\"------- Prompt End -------\")"
   ]
  },
  {
   "cell_type": "markdown",
   "id": "0de3b967",
   "metadata": {
    "id": "0de3b967"
   },
   "source": [
    "Use LLM to summarize the text"
   ]
  },
  {
   "cell_type": "code",
   "execution_count": 12,
   "id": "bb518ceb",
   "metadata": {
    "colab": {
     "base_uri": "https://localhost:8080/"
    },
    "executionInfo": {
     "elapsed": 1997,
     "status": "ok",
     "timestamp": 1700880832245,
     "user": {
      "displayName": "Gunnar Kleemann",
      "userId": "02122813220075330457"
     },
     "user_tz": 360
    },
    "id": "bb518ceb",
    "outputId": "894cad0b-8edb-4b27-e902-49f3306043d0",
    "tags": []
   },
   "outputs": [
    {
     "name": "stdout",
     "output_type": "stream",
     "text": [
      "\n",
      "Virgin Galactic took its first tourists to the edge of space, including a former British Olympian, a mother-daughter duo from the Caribbean, and two pilots. Richard Branson's company is now offering monthly trips to customers, joining Jeff Bezos' Blue Origin and Elon Musk's SpaceX in the space tourism business.\n"
     ]
    }
   ],
   "source": [
    "output = llm(final_prompt, temperature=0, model='text-davinci-003')\n",
    "print (output)"
   ]
  },
  {
   "cell_type": "code",
   "execution_count": 13,
   "id": "vcfLVLvoZzky",
   "metadata": {
    "colab": {
     "base_uri": "https://localhost:8080/"
    },
    "executionInfo": {
     "elapsed": 2057,
     "status": "ok",
     "timestamp": 1700880930132,
     "user": {
      "displayName": "Gunnar Kleemann",
      "userId": "02122813220075330457"
     },
     "user_tz": 360
    },
    "id": "vcfLVLvoZzky",
    "outputId": "43edaa32-f93b-4d6f-ea29-e91c10be6dd5",
    "tags": []
   },
   "outputs": [
    {
     "name": "stdout",
     "output_type": "stream",
     "text": [
      "\n",
      "Virgin Galactic's rocket ship to the edge of space featured its first passengers, including an Olympian who bought his ticket 18 years ago and a mother-daughter duo from the Caribbean. Richard Branson's company is entering the space tourism business and about 800 people are on the waiting list. The flight required two pilots in the cockpit and passengers were able to experience weightlessness in the journey.\n"
     ]
    }
   ],
   "source": [
    "output = llm(final_prompt, temperature=1, model='text-davinci-003')\n",
    "print (output)"
   ]
  },
  {
   "cell_type": "code",
   "execution_count": 14,
   "id": "62af8e90-10ed-4ce6-923a-2b399bb56012",
   "metadata": {
    "tags": []
   },
   "outputs": [
    {
     "name": "stdout",
     "output_type": "stream",
     "text": [
      " ItHKImpGliceOneVursAnn OrVCAAortsXsunTOPドAPwliflewanaMar OlivҎ\n"
     ]
    }
   ],
   "source": [
    "output = llm(final_prompt, temperature=2, model='text-davinci-003')\n",
    "print (output)"
   ]
  },
  {
   "cell_type": "code",
   "execution_count": 16,
   "id": "42d1c784",
   "metadata": {
    "colab": {
     "base_uri": "https://localhost:8080/",
     "height": 381
    },
    "executionInfo": {
     "elapsed": 400,
     "status": "error",
     "timestamp": 1700880988925,
     "user": {
      "displayName": "Gunnar Kleemann",
      "userId": "02122813220075330457"
     },
     "user_tz": 360
    },
    "id": "42d1c784",
    "outputId": "c987bc95-e5a7-4e8d-a20a-bcfa1bd6bfbb",
    "tags": []
   },
   "outputs": [],
   "source": [
    "# this model is not supported in V1\n",
    "##>> output = llm(final_prompt, temperature=0, model=\"gpt-3.5-turbo\")\n",
    "##>> print (output)"
   ]
  },
  {
   "cell_type": "code",
   "execution_count": null,
   "id": "b05440c5-e3c0-4d20-ba12-ea023c9097aa",
   "metadata": {},
   "outputs": [],
   "source": []
  }
 ],
 "metadata": {
  "availableInstances": [
   {
    "_defaultOrder": 0,
    "_isFastLaunch": true,
    "category": "General purpose",
    "gpuNum": 0,
    "hideHardwareSpecs": false,
    "memoryGiB": 4,
    "name": "ml.t3.medium",
    "vcpuNum": 2
   },
   {
    "_defaultOrder": 1,
    "_isFastLaunch": false,
    "category": "General purpose",
    "gpuNum": 0,
    "hideHardwareSpecs": false,
    "memoryGiB": 8,
    "name": "ml.t3.large",
    "vcpuNum": 2
   },
   {
    "_defaultOrder": 2,
    "_isFastLaunch": false,
    "category": "General purpose",
    "gpuNum": 0,
    "hideHardwareSpecs": false,
    "memoryGiB": 16,
    "name": "ml.t3.xlarge",
    "vcpuNum": 4
   },
   {
    "_defaultOrder": 3,
    "_isFastLaunch": false,
    "category": "General purpose",
    "gpuNum": 0,
    "hideHardwareSpecs": false,
    "memoryGiB": 32,
    "name": "ml.t3.2xlarge",
    "vcpuNum": 8
   },
   {
    "_defaultOrder": 4,
    "_isFastLaunch": true,
    "category": "General purpose",
    "gpuNum": 0,
    "hideHardwareSpecs": false,
    "memoryGiB": 8,
    "name": "ml.m5.large",
    "vcpuNum": 2
   },
   {
    "_defaultOrder": 5,
    "_isFastLaunch": false,
    "category": "General purpose",
    "gpuNum": 0,
    "hideHardwareSpecs": false,
    "memoryGiB": 16,
    "name": "ml.m5.xlarge",
    "vcpuNum": 4
   },
   {
    "_defaultOrder": 6,
    "_isFastLaunch": false,
    "category": "General purpose",
    "gpuNum": 0,
    "hideHardwareSpecs": false,
    "memoryGiB": 32,
    "name": "ml.m5.2xlarge",
    "vcpuNum": 8
   },
   {
    "_defaultOrder": 7,
    "_isFastLaunch": false,
    "category": "General purpose",
    "gpuNum": 0,
    "hideHardwareSpecs": false,
    "memoryGiB": 64,
    "name": "ml.m5.4xlarge",
    "vcpuNum": 16
   },
   {
    "_defaultOrder": 8,
    "_isFastLaunch": false,
    "category": "General purpose",
    "gpuNum": 0,
    "hideHardwareSpecs": false,
    "memoryGiB": 128,
    "name": "ml.m5.8xlarge",
    "vcpuNum": 32
   },
   {
    "_defaultOrder": 9,
    "_isFastLaunch": false,
    "category": "General purpose",
    "gpuNum": 0,
    "hideHardwareSpecs": false,
    "memoryGiB": 192,
    "name": "ml.m5.12xlarge",
    "vcpuNum": 48
   },
   {
    "_defaultOrder": 10,
    "_isFastLaunch": false,
    "category": "General purpose",
    "gpuNum": 0,
    "hideHardwareSpecs": false,
    "memoryGiB": 256,
    "name": "ml.m5.16xlarge",
    "vcpuNum": 64
   },
   {
    "_defaultOrder": 11,
    "_isFastLaunch": false,
    "category": "General purpose",
    "gpuNum": 0,
    "hideHardwareSpecs": false,
    "memoryGiB": 384,
    "name": "ml.m5.24xlarge",
    "vcpuNum": 96
   },
   {
    "_defaultOrder": 12,
    "_isFastLaunch": false,
    "category": "General purpose",
    "gpuNum": 0,
    "hideHardwareSpecs": false,
    "memoryGiB": 8,
    "name": "ml.m5d.large",
    "vcpuNum": 2
   },
   {
    "_defaultOrder": 13,
    "_isFastLaunch": false,
    "category": "General purpose",
    "gpuNum": 0,
    "hideHardwareSpecs": false,
    "memoryGiB": 16,
    "name": "ml.m5d.xlarge",
    "vcpuNum": 4
   },
   {
    "_defaultOrder": 14,
    "_isFastLaunch": false,
    "category": "General purpose",
    "gpuNum": 0,
    "hideHardwareSpecs": false,
    "memoryGiB": 32,
    "name": "ml.m5d.2xlarge",
    "vcpuNum": 8
   },
   {
    "_defaultOrder": 15,
    "_isFastLaunch": false,
    "category": "General purpose",
    "gpuNum": 0,
    "hideHardwareSpecs": false,
    "memoryGiB": 64,
    "name": "ml.m5d.4xlarge",
    "vcpuNum": 16
   },
   {
    "_defaultOrder": 16,
    "_isFastLaunch": false,
    "category": "General purpose",
    "gpuNum": 0,
    "hideHardwareSpecs": false,
    "memoryGiB": 128,
    "name": "ml.m5d.8xlarge",
    "vcpuNum": 32
   },
   {
    "_defaultOrder": 17,
    "_isFastLaunch": false,
    "category": "General purpose",
    "gpuNum": 0,
    "hideHardwareSpecs": false,
    "memoryGiB": 192,
    "name": "ml.m5d.12xlarge",
    "vcpuNum": 48
   },
   {
    "_defaultOrder": 18,
    "_isFastLaunch": false,
    "category": "General purpose",
    "gpuNum": 0,
    "hideHardwareSpecs": false,
    "memoryGiB": 256,
    "name": "ml.m5d.16xlarge",
    "vcpuNum": 64
   },
   {
    "_defaultOrder": 19,
    "_isFastLaunch": false,
    "category": "General purpose",
    "gpuNum": 0,
    "hideHardwareSpecs": false,
    "memoryGiB": 384,
    "name": "ml.m5d.24xlarge",
    "vcpuNum": 96
   },
   {
    "_defaultOrder": 20,
    "_isFastLaunch": false,
    "category": "General purpose",
    "gpuNum": 0,
    "hideHardwareSpecs": true,
    "memoryGiB": 0,
    "name": "ml.geospatial.interactive",
    "supportedImageNames": [
     "sagemaker-geospatial-v1-0"
    ],
    "vcpuNum": 0
   },
   {
    "_defaultOrder": 21,
    "_isFastLaunch": true,
    "category": "Compute optimized",
    "gpuNum": 0,
    "hideHardwareSpecs": false,
    "memoryGiB": 4,
    "name": "ml.c5.large",
    "vcpuNum": 2
   },
   {
    "_defaultOrder": 22,
    "_isFastLaunch": false,
    "category": "Compute optimized",
    "gpuNum": 0,
    "hideHardwareSpecs": false,
    "memoryGiB": 8,
    "name": "ml.c5.xlarge",
    "vcpuNum": 4
   },
   {
    "_defaultOrder": 23,
    "_isFastLaunch": false,
    "category": "Compute optimized",
    "gpuNum": 0,
    "hideHardwareSpecs": false,
    "memoryGiB": 16,
    "name": "ml.c5.2xlarge",
    "vcpuNum": 8
   },
   {
    "_defaultOrder": 24,
    "_isFastLaunch": false,
    "category": "Compute optimized",
    "gpuNum": 0,
    "hideHardwareSpecs": false,
    "memoryGiB": 32,
    "name": "ml.c5.4xlarge",
    "vcpuNum": 16
   },
   {
    "_defaultOrder": 25,
    "_isFastLaunch": false,
    "category": "Compute optimized",
    "gpuNum": 0,
    "hideHardwareSpecs": false,
    "memoryGiB": 72,
    "name": "ml.c5.9xlarge",
    "vcpuNum": 36
   },
   {
    "_defaultOrder": 26,
    "_isFastLaunch": false,
    "category": "Compute optimized",
    "gpuNum": 0,
    "hideHardwareSpecs": false,
    "memoryGiB": 96,
    "name": "ml.c5.12xlarge",
    "vcpuNum": 48
   },
   {
    "_defaultOrder": 27,
    "_isFastLaunch": false,
    "category": "Compute optimized",
    "gpuNum": 0,
    "hideHardwareSpecs": false,
    "memoryGiB": 144,
    "name": "ml.c5.18xlarge",
    "vcpuNum": 72
   },
   {
    "_defaultOrder": 28,
    "_isFastLaunch": false,
    "category": "Compute optimized",
    "gpuNum": 0,
    "hideHardwareSpecs": false,
    "memoryGiB": 192,
    "name": "ml.c5.24xlarge",
    "vcpuNum": 96
   },
   {
    "_defaultOrder": 29,
    "_isFastLaunch": true,
    "category": "Accelerated computing",
    "gpuNum": 1,
    "hideHardwareSpecs": false,
    "memoryGiB": 16,
    "name": "ml.g4dn.xlarge",
    "vcpuNum": 4
   },
   {
    "_defaultOrder": 30,
    "_isFastLaunch": false,
    "category": "Accelerated computing",
    "gpuNum": 1,
    "hideHardwareSpecs": false,
    "memoryGiB": 32,
    "name": "ml.g4dn.2xlarge",
    "vcpuNum": 8
   },
   {
    "_defaultOrder": 31,
    "_isFastLaunch": false,
    "category": "Accelerated computing",
    "gpuNum": 1,
    "hideHardwareSpecs": false,
    "memoryGiB": 64,
    "name": "ml.g4dn.4xlarge",
    "vcpuNum": 16
   },
   {
    "_defaultOrder": 32,
    "_isFastLaunch": false,
    "category": "Accelerated computing",
    "gpuNum": 1,
    "hideHardwareSpecs": false,
    "memoryGiB": 128,
    "name": "ml.g4dn.8xlarge",
    "vcpuNum": 32
   },
   {
    "_defaultOrder": 33,
    "_isFastLaunch": false,
    "category": "Accelerated computing",
    "gpuNum": 4,
    "hideHardwareSpecs": false,
    "memoryGiB": 192,
    "name": "ml.g4dn.12xlarge",
    "vcpuNum": 48
   },
   {
    "_defaultOrder": 34,
    "_isFastLaunch": false,
    "category": "Accelerated computing",
    "gpuNum": 1,
    "hideHardwareSpecs": false,
    "memoryGiB": 256,
    "name": "ml.g4dn.16xlarge",
    "vcpuNum": 64
   },
   {
    "_defaultOrder": 35,
    "_isFastLaunch": false,
    "category": "Accelerated computing",
    "gpuNum": 1,
    "hideHardwareSpecs": false,
    "memoryGiB": 61,
    "name": "ml.p3.2xlarge",
    "vcpuNum": 8
   },
   {
    "_defaultOrder": 36,
    "_isFastLaunch": false,
    "category": "Accelerated computing",
    "gpuNum": 4,
    "hideHardwareSpecs": false,
    "memoryGiB": 244,
    "name": "ml.p3.8xlarge",
    "vcpuNum": 32
   },
   {
    "_defaultOrder": 37,
    "_isFastLaunch": false,
    "category": "Accelerated computing",
    "gpuNum": 8,
    "hideHardwareSpecs": false,
    "memoryGiB": 488,
    "name": "ml.p3.16xlarge",
    "vcpuNum": 64
   },
   {
    "_defaultOrder": 38,
    "_isFastLaunch": false,
    "category": "Accelerated computing",
    "gpuNum": 8,
    "hideHardwareSpecs": false,
    "memoryGiB": 768,
    "name": "ml.p3dn.24xlarge",
    "vcpuNum": 96
   },
   {
    "_defaultOrder": 39,
    "_isFastLaunch": false,
    "category": "Memory Optimized",
    "gpuNum": 0,
    "hideHardwareSpecs": false,
    "memoryGiB": 16,
    "name": "ml.r5.large",
    "vcpuNum": 2
   },
   {
    "_defaultOrder": 40,
    "_isFastLaunch": false,
    "category": "Memory Optimized",
    "gpuNum": 0,
    "hideHardwareSpecs": false,
    "memoryGiB": 32,
    "name": "ml.r5.xlarge",
    "vcpuNum": 4
   },
   {
    "_defaultOrder": 41,
    "_isFastLaunch": false,
    "category": "Memory Optimized",
    "gpuNum": 0,
    "hideHardwareSpecs": false,
    "memoryGiB": 64,
    "name": "ml.r5.2xlarge",
    "vcpuNum": 8
   },
   {
    "_defaultOrder": 42,
    "_isFastLaunch": false,
    "category": "Memory Optimized",
    "gpuNum": 0,
    "hideHardwareSpecs": false,
    "memoryGiB": 128,
    "name": "ml.r5.4xlarge",
    "vcpuNum": 16
   },
   {
    "_defaultOrder": 43,
    "_isFastLaunch": false,
    "category": "Memory Optimized",
    "gpuNum": 0,
    "hideHardwareSpecs": false,
    "memoryGiB": 256,
    "name": "ml.r5.8xlarge",
    "vcpuNum": 32
   },
   {
    "_defaultOrder": 44,
    "_isFastLaunch": false,
    "category": "Memory Optimized",
    "gpuNum": 0,
    "hideHardwareSpecs": false,
    "memoryGiB": 384,
    "name": "ml.r5.12xlarge",
    "vcpuNum": 48
   },
   {
    "_defaultOrder": 45,
    "_isFastLaunch": false,
    "category": "Memory Optimized",
    "gpuNum": 0,
    "hideHardwareSpecs": false,
    "memoryGiB": 512,
    "name": "ml.r5.16xlarge",
    "vcpuNum": 64
   },
   {
    "_defaultOrder": 46,
    "_isFastLaunch": false,
    "category": "Memory Optimized",
    "gpuNum": 0,
    "hideHardwareSpecs": false,
    "memoryGiB": 768,
    "name": "ml.r5.24xlarge",
    "vcpuNum": 96
   },
   {
    "_defaultOrder": 47,
    "_isFastLaunch": false,
    "category": "Accelerated computing",
    "gpuNum": 1,
    "hideHardwareSpecs": false,
    "memoryGiB": 16,
    "name": "ml.g5.xlarge",
    "vcpuNum": 4
   },
   {
    "_defaultOrder": 48,
    "_isFastLaunch": false,
    "category": "Accelerated computing",
    "gpuNum": 1,
    "hideHardwareSpecs": false,
    "memoryGiB": 32,
    "name": "ml.g5.2xlarge",
    "vcpuNum": 8
   },
   {
    "_defaultOrder": 49,
    "_isFastLaunch": false,
    "category": "Accelerated computing",
    "gpuNum": 1,
    "hideHardwareSpecs": false,
    "memoryGiB": 64,
    "name": "ml.g5.4xlarge",
    "vcpuNum": 16
   },
   {
    "_defaultOrder": 50,
    "_isFastLaunch": false,
    "category": "Accelerated computing",
    "gpuNum": 1,
    "hideHardwareSpecs": false,
    "memoryGiB": 128,
    "name": "ml.g5.8xlarge",
    "vcpuNum": 32
   },
   {
    "_defaultOrder": 51,
    "_isFastLaunch": false,
    "category": "Accelerated computing",
    "gpuNum": 1,
    "hideHardwareSpecs": false,
    "memoryGiB": 256,
    "name": "ml.g5.16xlarge",
    "vcpuNum": 64
   },
   {
    "_defaultOrder": 52,
    "_isFastLaunch": false,
    "category": "Accelerated computing",
    "gpuNum": 4,
    "hideHardwareSpecs": false,
    "memoryGiB": 192,
    "name": "ml.g5.12xlarge",
    "vcpuNum": 48
   },
   {
    "_defaultOrder": 53,
    "_isFastLaunch": false,
    "category": "Accelerated computing",
    "gpuNum": 4,
    "hideHardwareSpecs": false,
    "memoryGiB": 384,
    "name": "ml.g5.24xlarge",
    "vcpuNum": 96
   },
   {
    "_defaultOrder": 54,
    "_isFastLaunch": false,
    "category": "Accelerated computing",
    "gpuNum": 8,
    "hideHardwareSpecs": false,
    "memoryGiB": 768,
    "name": "ml.g5.48xlarge",
    "vcpuNum": 192
   },
   {
    "_defaultOrder": 55,
    "_isFastLaunch": false,
    "category": "Accelerated computing",
    "gpuNum": 8,
    "hideHardwareSpecs": false,
    "memoryGiB": 1152,
    "name": "ml.p4d.24xlarge",
    "vcpuNum": 96
   },
   {
    "_defaultOrder": 56,
    "_isFastLaunch": false,
    "category": "Accelerated computing",
    "gpuNum": 8,
    "hideHardwareSpecs": false,
    "memoryGiB": 1152,
    "name": "ml.p4de.24xlarge",
    "vcpuNum": 96
   },
   {
    "_defaultOrder": 57,
    "_isFastLaunch": false,
    "category": "Accelerated computing",
    "gpuNum": 0,
    "hideHardwareSpecs": false,
    "memoryGiB": 32,
    "name": "ml.trn1.2xlarge",
    "vcpuNum": 8
   },
   {
    "_defaultOrder": 58,
    "_isFastLaunch": false,
    "category": "Accelerated computing",
    "gpuNum": 0,
    "hideHardwareSpecs": false,
    "memoryGiB": 512,
    "name": "ml.trn1.32xlarge",
    "vcpuNum": 128
   },
   {
    "_defaultOrder": 59,
    "_isFastLaunch": false,
    "category": "Accelerated computing",
    "gpuNum": 0,
    "hideHardwareSpecs": false,
    "memoryGiB": 512,
    "name": "ml.trn1n.32xlarge",
    "vcpuNum": 128
   }
  ],
  "colab": {
   "provenance": []
  },
  "instance_type": "ml.t3.medium",
  "kernelspec": {
   "display_name": "Python 3 (Data Science 3.0)",
   "language": "python",
   "name": "python3__SAGEMAKER_INTERNAL__arn:aws:sagemaker:us-west-2:236514542706:image/sagemaker-data-science-310-v1"
  },
  "language_info": {
   "codemirror_mode": {
    "name": "ipython",
    "version": 3
   },
   "file_extension": ".py",
   "mimetype": "text/x-python",
   "name": "python",
   "nbconvert_exporter": "python",
   "pygments_lexer": "ipython3",
   "version": "3.10.6"
  }
 },
 "nbformat": 4,
 "nbformat_minor": 5
}

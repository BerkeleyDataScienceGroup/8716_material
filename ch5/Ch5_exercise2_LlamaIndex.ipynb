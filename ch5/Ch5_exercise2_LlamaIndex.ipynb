{
 "cells": [
  {
   "cell_type": "markdown",
   "id": "9b12cf2f",
   "metadata": {
    "id": "9b12cf2f"
   },
   "source": [
    "# Exercise - Chapter Llama Index"
   ]
  },
  {
   "cell_type": "markdown",
   "id": "da7abf87",
   "metadata": {
    "id": "da7abf87"
   },
   "source": [
    "Follow instructions for compeletion of the exercies"
   ]
  },
  {
   "cell_type": "markdown",
   "id": "37f40078",
   "metadata": {
    "id": "37f40078"
   },
   "source": [
    "Install requirements"
   ]
  },
  {
   "cell_type": "code",
   "execution_count": 9,
   "id": "ea996bc6",
   "metadata": {
    "colab": {
     "base_uri": "https://localhost:8080/"
    },
    "executionInfo": {
     "elapsed": 41271,
     "status": "ok",
     "timestamp": 1701026375652,
     "user": {
      "displayName": "Gunnar Kleemann",
      "userId": "02122813220075330457"
     },
     "user_tz": 360
    },
    "id": "ea996bc6",
    "outputId": "d5fb37c3-ec2a-40cc-c3e2-b4c95845ec1a",
    "tags": []
   },
   "outputs": [
    {
     "name": "stdout",
     "output_type": "stream",
     "text": [
      "Requirement already satisfied: pip in /opt/conda/lib/python3.10/site-packages (23.2.1)\n",
      "Collecting pip\n",
      "  Obtaining dependency information for pip from https://files.pythonhosted.org/packages/47/6a/453160888fab7c6a432a6e25f8afe6256d0d9f2cbd25971021da6491d899/pip-23.3.1-py3-none-any.whl.metadata\n",
      "  Using cached pip-23.3.1-py3-none-any.whl.metadata (3.5 kB)\n",
      "Using cached pip-23.3.1-py3-none-any.whl (2.1 MB)\n",
      "Installing collected packages: pip\n",
      "  Attempting uninstall: pip\n",
      "    Found existing installation: pip 23.2.1\n",
      "    Uninstalling pip-23.2.1:\n",
      "      Successfully uninstalled pip-23.2.1\n",
      "Successfully installed pip-23.3.1\n",
      "\u001b[33mWARNING: Running pip as the 'root' user can result in broken permissions and conflicting behaviour with the system package manager. It is recommended to use a virtual environment instead: https://pip.pypa.io/warnings/venv\u001b[0m\u001b[33m\n",
      "\u001b[0mNote: you may need to restart the kernel to use updated packages.\n",
      "\u001b[33mWARNING: Running pip as the 'root' user can result in broken permissions and conflicting behaviour with the system package manager. It is recommended to use a virtual environment instead: https://pip.pypa.io/warnings/venv\u001b[0m\u001b[33m\n",
      "\u001b[0mNote: you may need to restart the kernel to use updated packages.\n",
      "\u001b[33mWARNING: Running pip as the 'root' user can result in broken permissions and conflicting behaviour with the system package manager. It is recommended to use a virtual environment instead: https://pip.pypa.io/warnings/venv\u001b[0m\u001b[33m\n",
      "\u001b[0mNote: you may need to restart the kernel to use updated packages.\n",
      "\u001b[33mWARNING: Running pip as the 'root' user can result in broken permissions and conflicting behaviour with the system package manager. It is recommended to use a virtual environment instead: https://pip.pypa.io/warnings/venv\u001b[0m\u001b[33m\n",
      "\u001b[0mNote: you may need to restart the kernel to use updated packages.\n",
      "\u001b[33mWARNING: Running pip as the 'root' user can result in broken permissions and conflicting behaviour with the system package manager. It is recommended to use a virtual environment instead: https://pip.pypa.io/warnings/venv\u001b[0m\u001b[33m\n",
      "\u001b[0mNote: you may need to restart the kernel to use updated packages.\n",
      "\u001b[33mWARNING: Running pip as the 'root' user can result in broken permissions and conflicting behaviour with the system package manager. It is recommended to use a virtual environment instead: https://pip.pypa.io/warnings/venv\u001b[0m\u001b[33m\n",
      "\u001b[0mNote: you may need to restart the kernel to use updated packages.\n"
     ]
    }
   ],
   "source": [
    "%pip install --upgrade pip\n",
    "%pip install openai --quiet\n",
    "%pip install llama_index --quiet\n",
    "%pip install awscli --quiet\n",
    "%pip install fs_s3fs --quiet\n",
    "%pip install s3fs --quiet"
   ]
  },
  {
   "cell_type": "markdown",
   "id": "175ee2f3",
   "metadata": {
    "id": "175ee2f3"
   },
   "source": [
    "Download five documents by clicking the next line of code locally"
   ]
  },
  {
   "cell_type": "code",
   "execution_count": 16,
   "id": "f8317b0d",
   "metadata": {
    "id": "f8317b0d",
    "outputId": "aacf69ce-1180-4244-8008-943ce19afcdf",
    "tags": []
   },
   "outputs": [],
   "source": [
    "## these are colab instructions - just in case\n",
    "\n",
    "# # mount your drive\n",
    "# from google.colab import drive\n",
    "# import os\n",
    "\n",
    "# drive.mount('/content/drive')\n",
    "# os.mkdir('/content/drive/My Drive/config/')\n",
    "\n",
    "# establish your config file and write in the credentails\n",
    "# to use CLI on colab you need credentials. and region established\n",
    "\n",
    "# text = '''\n",
    "# [default]\n",
    "# aws_access_key_id = <your key no quotes>\n",
    "# aws_secret_access_key = <your key no quotes>\n",
    "# region = <bucket region i.e. us-east-2>\n",
    "# '''\n",
    "# #uncomment to overwrite\n",
    "# path = \"/content/drive/My Drive/config/awscli.ini\"\n",
    "# with open(path, 'w') as f:\n",
    "#    f.write(text)\n",
    "# !cat /content/drive/My\\ Drive/config/awscli.ini\n",
    "\n",
    "\n",
    "# !export AWS_SHARED_CREDENTIALS_FILE=/content/drive/My\\ Drive/config/awscli.ini\n",
    "# path = \"/content/drive/My Drive/config/awscli.ini\"\n",
    "# os.environ['AWS_SHARED_CREDENTIALS_FILE'] = path\n",
    "# #print(os.environ['AWS_SHARED_CREDENTIALS_FILE'])\n",
    "\n",
    "#!aws s3 cp s3://webage-genaidata/SpaceDocuments/ SpaceDocuments --recursive\n",
    "#!aws s3 cp s3://btcampdata/SpaceDocuments/ SpaceDocuments --recursive\n",
    "#!aws s3 ls s3://btcampdata/SpaceDocuments/ --recursive --human-readable --summarize\n",
    "#!aws s3 cp s3://btcampdata/SpaceDocuments/ SpaceDocuments --recursive"
   ]
  },
  {
   "cell_type": "code",
   "execution_count": 21,
   "id": "B_9t6zYw4wMl",
   "metadata": {
    "colab": {
     "base_uri": "https://localhost:8080/",
     "height": 310
    },
    "executionInfo": {
     "elapsed": 388,
     "status": "error",
     "timestamp": 1701026745373,
     "user": {
      "displayName": "Gunnar Kleemann",
      "userId": "02122813220075330457"
     },
     "user_tz": 360
    },
    "id": "B_9t6zYw4wMl",
    "outputId": "310b3855-d4f7-4473-a958-ad2adcc234de",
    "tags": []
   },
   "outputs": [],
   "source": [
    "import pandas as pd\n",
    "\n",
    "galxy=pd.read_table('s3://btcampdata/SpaceDocuments/Galaxies and Cosmic Structures.txt')\n",
    "seti=pd.read_table('s3://btcampdata/SpaceDocuments/The Search for Extraterrestrial Life (SETI).txt')\n",
    "rover=pd.read_table(\"s3://btcampdata/SpaceDocuments/NASA's Perseverance Rover.txt\")\n",
    "blackholes=pd.read_table('s3://btcampdata/SpaceDocuments/Black Holes.txt')\n",
    "expanding=pd.read_table('s3://btcampdata/SpaceDocuments/The Expanding Universe.txt')\n",
    "\n",
    "text_dict={'galxy':galxy,\n",
    "  'seti':seti,\n",
    "  'rover':rover,\n",
    "  'blackholes':blackholes,\n",
    "  'expanding':expanding}\n",
    "\n",
    "data_dir = './SpaceDocuments'\n",
    "\n",
    "## write the data to the disk\n",
    "for i in text_dict.keys():\n",
    "    #print (i)\n",
    "    textdoc=text_dict[i].columns[0]\n",
    "    #print(textdoc)\n",
    "    with open(data_dir+f'/{i}', 'a') as f:\n",
    "        f.write(textdoc)\n",
    "    print ('\\n\\n')"
   ]
  },
  {
   "cell_type": "code",
   "execution_count": 26,
   "id": "e0232ca5-5193-462f-9cdb-dbd65c255c77",
   "metadata": {
    "tags": []
   },
   "outputs": [
    {
     "name": "stdout",
     "output_type": "stream",
     "text": [
      "galxy\n",
      "Galaxies are magnificent and diverse cosmic entities that populate our universe. These immense systems consist of stars, interstellar gas, dust, and dark matter, all bound together by the relentless force of gravity. Galaxies come in various shapes and sizes, from the elegant spiral galaxies like our Milky Way to the more elliptical and irregular galaxies. Beyond their aesthetic differences, galaxies play a vital role in the evolution of the cosmos. They are the sites where stars are born and eventually die in supernova explosions, enriching the universe with elements essential for life. Moreover, galaxies often gather in galaxy clusters, forming colossal structures in the cosmic web. These clusters are interconnected by vast cosmic filaments, creating a breathtaking cosmic tapestry that astronomers study to unravel the universe's secrets.\n",
      "\n",
      "\n",
      "\n",
      "seti\n",
      "The Search for Extraterrestrial Intelligence (SETI) is a captivating scientific endeavor that aims to detect signals or signs of intelligent life beyond our planet. Researchers involved in SETI utilize a diverse array of instruments, including radio telescopes, to scan the cosmos for any anomalous patterns or signals that might indicate the presence of intelligent beings. While humanity has not yet discovered definitive evidence of extraterrestrial life, the quest continues unabated. The tantalizing possibility of encountering life elsewhere in the universe remains one of the most profound questions of our time, motivating scientists to listen attentively to the cosmic silence.\n",
      "\n",
      "\n",
      "\n",
      "rover\n",
      "NASA's Perseverance rover represents a technological marvel and a pinnacle of human achievement in space exploration. Launched as part of the Mars 2020 mission, it successfully touched down on the Martian surface in February 2021. Perseverance's mission is twofold: search for signs of ancient microbial life and collect rock and soil samples for potential future return to Earth. This rover boasts cutting-edge scientific instruments and even a helicopter, named Ingenuity, which conducted historic powered flights on Mars. Perseverance's mission not only contributes to our understanding of Mars' geology and climate but also advances the prospects of human exploration of the Red Planet.\n",
      "\n",
      "\n",
      "\n",
      "blackholes\n",
      "Black holes, the enigmatic regions where gravity is so intense that nothing, not even light, can escape their grasp, are among the most captivating objects in the universe. These cosmic mysteries are formed when massive stars undergo gravitational collapse. As they contract, they create an event horizon beyond which nothing can return. While black holes themselves are invisible, they reveal their presence through their influence on nearby matter. This phenomenon can manifest as the accretion of matter into a swirling, luminous disk, emitting X-rays and other forms of radiation. Additionally, some black holes unleash immensely powerful jets of energy into space. Studying black holes, such as those observed by NASA's Chandra X-ray Observatory, allows us to probe the extreme physics that governs the universe and deepens our appreciation of the cosmic wonders that surround us.\n",
      "\n",
      "\n",
      "\n",
      "expanding\n",
      "The notion of the universe's expansion revolutionized our understanding of the cosmos. Rather than remaining static, the universe is in a constant state of growth. Astronomers have discovered compelling evidence supporting this expansion, primarily through the observation of distant galaxies. These observations reveal that galaxies are moving away from us, and the farther away they are, the faster they recede. This phenomenon aligns with the Big Bang theory, which posits that the universe originated from a hot, dense state approximately 13.8 billion years ago. The expanding universe concept invites us to contemplate the universe's past, its present, and its mysterious future.\n",
      "\n",
      "\n",
      "\n"
     ]
    }
   ],
   "source": []
  },
  {
   "cell_type": "markdown",
   "id": "37bedd52",
   "metadata": {
    "id": "37bedd52"
   },
   "source": [
    "Here is the question for you:"
   ]
  },
  {
   "cell_type": "markdown",
   "id": "620d8ff6",
   "metadata": {
    "id": "620d8ff6"
   },
   "source": [
    "## TASK 1"
   ]
  },
  {
   "cell_type": "markdown",
   "id": "5b366065",
   "metadata": {
    "id": "5b366065"
   },
   "source": [
    "You should read manually (by yourself), read those documents/paragraphs that are downloaded from s3 and copy the document text which is the most suitable for the question/prompt below.\n",
    "\n",
    "NOTE: You can also load files into this notebook and read it from here."
   ]
  },
  {
   "cell_type": "markdown",
   "id": "9cf79740",
   "metadata": {
    "id": "9cf79740"
   },
   "source": [
    "Question:"
   ]
  },
  {
   "cell_type": "code",
   "execution_count": null,
   "id": "f2ec3fee",
   "metadata": {
    "id": "f2ec3fee"
   },
   "outputs": [],
   "source": [
    "prompt = \"What methods and tools do scientists employ in their pursuit of detecting signals from intelligent life beyond Earth?\""
   ]
  },
  {
   "cell_type": "markdown",
   "id": "16c919fe",
   "metadata": {
    "id": "16c919fe"
   },
   "source": [
    "Loading documents in here and printing them:"
   ]
  },
  {
   "cell_type": "code",
   "execution_count": null,
   "id": "52264f2e",
   "metadata": {
    "id": "52264f2e"
   },
   "outputs": [],
   "source": [
    "\n",
    "# Your code goes hereapi_key =\"\"\n",
    "\n",
    "\n",
    "# NOTE: This cell is not mandatory, you can read the documents manually with some other editor."
   ]
  },
  {
   "cell_type": "markdown",
   "id": "745a7035",
   "metadata": {
    "id": "745a7035"
   },
   "source": [
    "Copy-paste the text which you think can help in answering the question into \"DOCUMENT_TEXT\" variable below."
   ]
  },
  {
   "cell_type": "code",
   "execution_count": null,
   "id": "05e676c5",
   "metadata": {
    "id": "05e676c5"
   },
   "outputs": [],
   "source": [
    "DOCUMENT_TEXT = \"YOUR SELECTED DOCUMENT GOES HERE\""
   ]
  },
  {
   "cell_type": "markdown",
   "id": "6b5d0d0c",
   "metadata": {
    "id": "6b5d0d0c"
   },
   "source": [
    "## TASK 2"
   ]
  },
  {
   "cell_type": "markdown",
   "id": "0af38d34",
   "metadata": {
    "id": "0af38d34"
   },
   "source": [
    "Use:\n",
    "1) OpenAI model to get the answer on our question\n",
    "2) Question we that we asked in \"prompt\" variable\n",
    "3) Text you selected to get the answer from OpenAI model as context for the model from \"DOCUMENT_TEXT\" variable."
   ]
  },
  {
   "cell_type": "markdown",
   "id": "ec3aec18",
   "metadata": {
    "id": "ec3aec18"
   },
   "source": [
    "Construct your prompt to OpenAI model in the following way:"
   ]
  },
  {
   "cell_type": "code",
   "execution_count": null,
   "id": "e4ecd038",
   "metadata": {
    "id": "e4ecd038"
   },
   "outputs": [],
   "source": [
    "final_prompt = prompt +\"\\n\\n Get the answer from the following text: \\n\\n\" + DOCUMENT_TEXT"
   ]
  },
  {
   "cell_type": "code",
   "execution_count": null,
   "id": "83f5da24",
   "metadata": {
    "id": "83f5da24"
   },
   "outputs": [],
   "source": [
    "## set the key in the environment for llama index\n",
    "os.environ['OPENAI_API_KEY'] = api_key\n",
    "\n",
    "client=OpenAI(api_key=api_key)\n",
    "\n",
    "# Your code goes here"
   ]
  },
  {
   "cell_type": "markdown",
   "id": "3515b638",
   "metadata": {
    "id": "3515b638"
   },
   "source": [
    "## Task 3"
   ]
  },
  {
   "cell_type": "markdown",
   "id": "2115bc4e",
   "metadata": {
    "id": "2115bc4e"
   },
   "source": [
    "Use LlamaIndex and SimpleDirectoryReader to load and vectorize the documents.\n",
    "Use the same question from the above to get the answer using LlamaIndex this time.\n",
    "\n",
    "Steps:\n",
    "1) Load local files and vectorize them using SimpleDirectoryReader\n",
    "2) Construct Tree Index (you can try other Indexes if they would work in this scenario)\n",
    "3) Get the answer using query engine from LlamaIndex"
   ]
  },
  {
   "cell_type": "markdown",
   "id": "061297a6",
   "metadata": {
    "id": "061297a6"
   },
   "source": [
    "Build Tree Index over downloaded documents"
   ]
  },
  {
   "cell_type": "code",
   "execution_count": null,
   "id": "6c8a6dea",
   "metadata": {
    "id": "6c8a6dea"
   },
   "outputs": [],
   "source": [
    "# Your code goes here"
   ]
  },
  {
   "cell_type": "markdown",
   "id": "ab86f605",
   "metadata": {
    "id": "ab86f605"
   },
   "source": [
    "Create query engine"
   ]
  },
  {
   "cell_type": "code",
   "execution_count": null,
   "id": "b319b3a3",
   "metadata": {
    "id": "b319b3a3"
   },
   "outputs": [],
   "source": [
    "# Your code goes here"
   ]
  },
  {
   "cell_type": "markdown",
   "id": "706d66d2",
   "metadata": {
    "id": "706d66d2"
   },
   "source": [
    "Query the documents by using the following question (the same as in Task 1) and print the result"
   ]
  },
  {
   "cell_type": "code",
   "execution_count": null,
   "id": "704acd50",
   "metadata": {
    "id": "704acd50"
   },
   "outputs": [],
   "source": [
    "prompt = \"What methods and tools do scientists employ in their pursuit of detecting signals from intelligent life beyond Earth?\""
   ]
  },
  {
   "cell_type": "code",
   "execution_count": null,
   "id": "4efecc08",
   "metadata": {
    "id": "4efecc08"
   },
   "outputs": [],
   "source": [
    "# Your code goes here"
   ]
  }
 ],
 "metadata": {
  "availableInstances": [
   {
    "_defaultOrder": 0,
    "_isFastLaunch": true,
    "category": "General purpose",
    "gpuNum": 0,
    "hideHardwareSpecs": false,
    "memoryGiB": 4,
    "name": "ml.t3.medium",
    "vcpuNum": 2
   },
   {
    "_defaultOrder": 1,
    "_isFastLaunch": false,
    "category": "General purpose",
    "gpuNum": 0,
    "hideHardwareSpecs": false,
    "memoryGiB": 8,
    "name": "ml.t3.large",
    "vcpuNum": 2
   },
   {
    "_defaultOrder": 2,
    "_isFastLaunch": false,
    "category": "General purpose",
    "gpuNum": 0,
    "hideHardwareSpecs": false,
    "memoryGiB": 16,
    "name": "ml.t3.xlarge",
    "vcpuNum": 4
   },
   {
    "_defaultOrder": 3,
    "_isFastLaunch": false,
    "category": "General purpose",
    "gpuNum": 0,
    "hideHardwareSpecs": false,
    "memoryGiB": 32,
    "name": "ml.t3.2xlarge",
    "vcpuNum": 8
   },
   {
    "_defaultOrder": 4,
    "_isFastLaunch": true,
    "category": "General purpose",
    "gpuNum": 0,
    "hideHardwareSpecs": false,
    "memoryGiB": 8,
    "name": "ml.m5.large",
    "vcpuNum": 2
   },
   {
    "_defaultOrder": 5,
    "_isFastLaunch": false,
    "category": "General purpose",
    "gpuNum": 0,
    "hideHardwareSpecs": false,
    "memoryGiB": 16,
    "name": "ml.m5.xlarge",
    "vcpuNum": 4
   },
   {
    "_defaultOrder": 6,
    "_isFastLaunch": false,
    "category": "General purpose",
    "gpuNum": 0,
    "hideHardwareSpecs": false,
    "memoryGiB": 32,
    "name": "ml.m5.2xlarge",
    "vcpuNum": 8
   },
   {
    "_defaultOrder": 7,
    "_isFastLaunch": false,
    "category": "General purpose",
    "gpuNum": 0,
    "hideHardwareSpecs": false,
    "memoryGiB": 64,
    "name": "ml.m5.4xlarge",
    "vcpuNum": 16
   },
   {
    "_defaultOrder": 8,
    "_isFastLaunch": false,
    "category": "General purpose",
    "gpuNum": 0,
    "hideHardwareSpecs": false,
    "memoryGiB": 128,
    "name": "ml.m5.8xlarge",
    "vcpuNum": 32
   },
   {
    "_defaultOrder": 9,
    "_isFastLaunch": false,
    "category": "General purpose",
    "gpuNum": 0,
    "hideHardwareSpecs": false,
    "memoryGiB": 192,
    "name": "ml.m5.12xlarge",
    "vcpuNum": 48
   },
   {
    "_defaultOrder": 10,
    "_isFastLaunch": false,
    "category": "General purpose",
    "gpuNum": 0,
    "hideHardwareSpecs": false,
    "memoryGiB": 256,
    "name": "ml.m5.16xlarge",
    "vcpuNum": 64
   },
   {
    "_defaultOrder": 11,
    "_isFastLaunch": false,
    "category": "General purpose",
    "gpuNum": 0,
    "hideHardwareSpecs": false,
    "memoryGiB": 384,
    "name": "ml.m5.24xlarge",
    "vcpuNum": 96
   },
   {
    "_defaultOrder": 12,
    "_isFastLaunch": false,
    "category": "General purpose",
    "gpuNum": 0,
    "hideHardwareSpecs": false,
    "memoryGiB": 8,
    "name": "ml.m5d.large",
    "vcpuNum": 2
   },
   {
    "_defaultOrder": 13,
    "_isFastLaunch": false,
    "category": "General purpose",
    "gpuNum": 0,
    "hideHardwareSpecs": false,
    "memoryGiB": 16,
    "name": "ml.m5d.xlarge",
    "vcpuNum": 4
   },
   {
    "_defaultOrder": 14,
    "_isFastLaunch": false,
    "category": "General purpose",
    "gpuNum": 0,
    "hideHardwareSpecs": false,
    "memoryGiB": 32,
    "name": "ml.m5d.2xlarge",
    "vcpuNum": 8
   },
   {
    "_defaultOrder": 15,
    "_isFastLaunch": false,
    "category": "General purpose",
    "gpuNum": 0,
    "hideHardwareSpecs": false,
    "memoryGiB": 64,
    "name": "ml.m5d.4xlarge",
    "vcpuNum": 16
   },
   {
    "_defaultOrder": 16,
    "_isFastLaunch": false,
    "category": "General purpose",
    "gpuNum": 0,
    "hideHardwareSpecs": false,
    "memoryGiB": 128,
    "name": "ml.m5d.8xlarge",
    "vcpuNum": 32
   },
   {
    "_defaultOrder": 17,
    "_isFastLaunch": false,
    "category": "General purpose",
    "gpuNum": 0,
    "hideHardwareSpecs": false,
    "memoryGiB": 192,
    "name": "ml.m5d.12xlarge",
    "vcpuNum": 48
   },
   {
    "_defaultOrder": 18,
    "_isFastLaunch": false,
    "category": "General purpose",
    "gpuNum": 0,
    "hideHardwareSpecs": false,
    "memoryGiB": 256,
    "name": "ml.m5d.16xlarge",
    "vcpuNum": 64
   },
   {
    "_defaultOrder": 19,
    "_isFastLaunch": false,
    "category": "General purpose",
    "gpuNum": 0,
    "hideHardwareSpecs": false,
    "memoryGiB": 384,
    "name": "ml.m5d.24xlarge",
    "vcpuNum": 96
   },
   {
    "_defaultOrder": 20,
    "_isFastLaunch": false,
    "category": "General purpose",
    "gpuNum": 0,
    "hideHardwareSpecs": true,
    "memoryGiB": 0,
    "name": "ml.geospatial.interactive",
    "supportedImageNames": [
     "sagemaker-geospatial-v1-0"
    ],
    "vcpuNum": 0
   },
   {
    "_defaultOrder": 21,
    "_isFastLaunch": true,
    "category": "Compute optimized",
    "gpuNum": 0,
    "hideHardwareSpecs": false,
    "memoryGiB": 4,
    "name": "ml.c5.large",
    "vcpuNum": 2
   },
   {
    "_defaultOrder": 22,
    "_isFastLaunch": false,
    "category": "Compute optimized",
    "gpuNum": 0,
    "hideHardwareSpecs": false,
    "memoryGiB": 8,
    "name": "ml.c5.xlarge",
    "vcpuNum": 4
   },
   {
    "_defaultOrder": 23,
    "_isFastLaunch": false,
    "category": "Compute optimized",
    "gpuNum": 0,
    "hideHardwareSpecs": false,
    "memoryGiB": 16,
    "name": "ml.c5.2xlarge",
    "vcpuNum": 8
   },
   {
    "_defaultOrder": 24,
    "_isFastLaunch": false,
    "category": "Compute optimized",
    "gpuNum": 0,
    "hideHardwareSpecs": false,
    "memoryGiB": 32,
    "name": "ml.c5.4xlarge",
    "vcpuNum": 16
   },
   {
    "_defaultOrder": 25,
    "_isFastLaunch": false,
    "category": "Compute optimized",
    "gpuNum": 0,
    "hideHardwareSpecs": false,
    "memoryGiB": 72,
    "name": "ml.c5.9xlarge",
    "vcpuNum": 36
   },
   {
    "_defaultOrder": 26,
    "_isFastLaunch": false,
    "category": "Compute optimized",
    "gpuNum": 0,
    "hideHardwareSpecs": false,
    "memoryGiB": 96,
    "name": "ml.c5.12xlarge",
    "vcpuNum": 48
   },
   {
    "_defaultOrder": 27,
    "_isFastLaunch": false,
    "category": "Compute optimized",
    "gpuNum": 0,
    "hideHardwareSpecs": false,
    "memoryGiB": 144,
    "name": "ml.c5.18xlarge",
    "vcpuNum": 72
   },
   {
    "_defaultOrder": 28,
    "_isFastLaunch": false,
    "category": "Compute optimized",
    "gpuNum": 0,
    "hideHardwareSpecs": false,
    "memoryGiB": 192,
    "name": "ml.c5.24xlarge",
    "vcpuNum": 96
   },
   {
    "_defaultOrder": 29,
    "_isFastLaunch": true,
    "category": "Accelerated computing",
    "gpuNum": 1,
    "hideHardwareSpecs": false,
    "memoryGiB": 16,
    "name": "ml.g4dn.xlarge",
    "vcpuNum": 4
   },
   {
    "_defaultOrder": 30,
    "_isFastLaunch": false,
    "category": "Accelerated computing",
    "gpuNum": 1,
    "hideHardwareSpecs": false,
    "memoryGiB": 32,
    "name": "ml.g4dn.2xlarge",
    "vcpuNum": 8
   },
   {
    "_defaultOrder": 31,
    "_isFastLaunch": false,
    "category": "Accelerated computing",
    "gpuNum": 1,
    "hideHardwareSpecs": false,
    "memoryGiB": 64,
    "name": "ml.g4dn.4xlarge",
    "vcpuNum": 16
   },
   {
    "_defaultOrder": 32,
    "_isFastLaunch": false,
    "category": "Accelerated computing",
    "gpuNum": 1,
    "hideHardwareSpecs": false,
    "memoryGiB": 128,
    "name": "ml.g4dn.8xlarge",
    "vcpuNum": 32
   },
   {
    "_defaultOrder": 33,
    "_isFastLaunch": false,
    "category": "Accelerated computing",
    "gpuNum": 4,
    "hideHardwareSpecs": false,
    "memoryGiB": 192,
    "name": "ml.g4dn.12xlarge",
    "vcpuNum": 48
   },
   {
    "_defaultOrder": 34,
    "_isFastLaunch": false,
    "category": "Accelerated computing",
    "gpuNum": 1,
    "hideHardwareSpecs": false,
    "memoryGiB": 256,
    "name": "ml.g4dn.16xlarge",
    "vcpuNum": 64
   },
   {
    "_defaultOrder": 35,
    "_isFastLaunch": false,
    "category": "Accelerated computing",
    "gpuNum": 1,
    "hideHardwareSpecs": false,
    "memoryGiB": 61,
    "name": "ml.p3.2xlarge",
    "vcpuNum": 8
   },
   {
    "_defaultOrder": 36,
    "_isFastLaunch": false,
    "category": "Accelerated computing",
    "gpuNum": 4,
    "hideHardwareSpecs": false,
    "memoryGiB": 244,
    "name": "ml.p3.8xlarge",
    "vcpuNum": 32
   },
   {
    "_defaultOrder": 37,
    "_isFastLaunch": false,
    "category": "Accelerated computing",
    "gpuNum": 8,
    "hideHardwareSpecs": false,
    "memoryGiB": 488,
    "name": "ml.p3.16xlarge",
    "vcpuNum": 64
   },
   {
    "_defaultOrder": 38,
    "_isFastLaunch": false,
    "category": "Accelerated computing",
    "gpuNum": 8,
    "hideHardwareSpecs": false,
    "memoryGiB": 768,
    "name": "ml.p3dn.24xlarge",
    "vcpuNum": 96
   },
   {
    "_defaultOrder": 39,
    "_isFastLaunch": false,
    "category": "Memory Optimized",
    "gpuNum": 0,
    "hideHardwareSpecs": false,
    "memoryGiB": 16,
    "name": "ml.r5.large",
    "vcpuNum": 2
   },
   {
    "_defaultOrder": 40,
    "_isFastLaunch": false,
    "category": "Memory Optimized",
    "gpuNum": 0,
    "hideHardwareSpecs": false,
    "memoryGiB": 32,
    "name": "ml.r5.xlarge",
    "vcpuNum": 4
   },
   {
    "_defaultOrder": 41,
    "_isFastLaunch": false,
    "category": "Memory Optimized",
    "gpuNum": 0,
    "hideHardwareSpecs": false,
    "memoryGiB": 64,
    "name": "ml.r5.2xlarge",
    "vcpuNum": 8
   },
   {
    "_defaultOrder": 42,
    "_isFastLaunch": false,
    "category": "Memory Optimized",
    "gpuNum": 0,
    "hideHardwareSpecs": false,
    "memoryGiB": 128,
    "name": "ml.r5.4xlarge",
    "vcpuNum": 16
   },
   {
    "_defaultOrder": 43,
    "_isFastLaunch": false,
    "category": "Memory Optimized",
    "gpuNum": 0,
    "hideHardwareSpecs": false,
    "memoryGiB": 256,
    "name": "ml.r5.8xlarge",
    "vcpuNum": 32
   },
   {
    "_defaultOrder": 44,
    "_isFastLaunch": false,
    "category": "Memory Optimized",
    "gpuNum": 0,
    "hideHardwareSpecs": false,
    "memoryGiB": 384,
    "name": "ml.r5.12xlarge",
    "vcpuNum": 48
   },
   {
    "_defaultOrder": 45,
    "_isFastLaunch": false,
    "category": "Memory Optimized",
    "gpuNum": 0,
    "hideHardwareSpecs": false,
    "memoryGiB": 512,
    "name": "ml.r5.16xlarge",
    "vcpuNum": 64
   },
   {
    "_defaultOrder": 46,
    "_isFastLaunch": false,
    "category": "Memory Optimized",
    "gpuNum": 0,
    "hideHardwareSpecs": false,
    "memoryGiB": 768,
    "name": "ml.r5.24xlarge",
    "vcpuNum": 96
   },
   {
    "_defaultOrder": 47,
    "_isFastLaunch": false,
    "category": "Accelerated computing",
    "gpuNum": 1,
    "hideHardwareSpecs": false,
    "memoryGiB": 16,
    "name": "ml.g5.xlarge",
    "vcpuNum": 4
   },
   {
    "_defaultOrder": 48,
    "_isFastLaunch": false,
    "category": "Accelerated computing",
    "gpuNum": 1,
    "hideHardwareSpecs": false,
    "memoryGiB": 32,
    "name": "ml.g5.2xlarge",
    "vcpuNum": 8
   },
   {
    "_defaultOrder": 49,
    "_isFastLaunch": false,
    "category": "Accelerated computing",
    "gpuNum": 1,
    "hideHardwareSpecs": false,
    "memoryGiB": 64,
    "name": "ml.g5.4xlarge",
    "vcpuNum": 16
   },
   {
    "_defaultOrder": 50,
    "_isFastLaunch": false,
    "category": "Accelerated computing",
    "gpuNum": 1,
    "hideHardwareSpecs": false,
    "memoryGiB": 128,
    "name": "ml.g5.8xlarge",
    "vcpuNum": 32
   },
   {
    "_defaultOrder": 51,
    "_isFastLaunch": false,
    "category": "Accelerated computing",
    "gpuNum": 1,
    "hideHardwareSpecs": false,
    "memoryGiB": 256,
    "name": "ml.g5.16xlarge",
    "vcpuNum": 64
   },
   {
    "_defaultOrder": 52,
    "_isFastLaunch": false,
    "category": "Accelerated computing",
    "gpuNum": 4,
    "hideHardwareSpecs": false,
    "memoryGiB": 192,
    "name": "ml.g5.12xlarge",
    "vcpuNum": 48
   },
   {
    "_defaultOrder": 53,
    "_isFastLaunch": false,
    "category": "Accelerated computing",
    "gpuNum": 4,
    "hideHardwareSpecs": false,
    "memoryGiB": 384,
    "name": "ml.g5.24xlarge",
    "vcpuNum": 96
   },
   {
    "_defaultOrder": 54,
    "_isFastLaunch": false,
    "category": "Accelerated computing",
    "gpuNum": 8,
    "hideHardwareSpecs": false,
    "memoryGiB": 768,
    "name": "ml.g5.48xlarge",
    "vcpuNum": 192
   },
   {
    "_defaultOrder": 55,
    "_isFastLaunch": false,
    "category": "Accelerated computing",
    "gpuNum": 8,
    "hideHardwareSpecs": false,
    "memoryGiB": 1152,
    "name": "ml.p4d.24xlarge",
    "vcpuNum": 96
   },
   {
    "_defaultOrder": 56,
    "_isFastLaunch": false,
    "category": "Accelerated computing",
    "gpuNum": 8,
    "hideHardwareSpecs": false,
    "memoryGiB": 1152,
    "name": "ml.p4de.24xlarge",
    "vcpuNum": 96
   },
   {
    "_defaultOrder": 57,
    "_isFastLaunch": false,
    "category": "Accelerated computing",
    "gpuNum": 0,
    "hideHardwareSpecs": false,
    "memoryGiB": 32,
    "name": "ml.trn1.2xlarge",
    "vcpuNum": 8
   },
   {
    "_defaultOrder": 58,
    "_isFastLaunch": false,
    "category": "Accelerated computing",
    "gpuNum": 0,
    "hideHardwareSpecs": false,
    "memoryGiB": 512,
    "name": "ml.trn1.32xlarge",
    "vcpuNum": 128
   },
   {
    "_defaultOrder": 59,
    "_isFastLaunch": false,
    "category": "Accelerated computing",
    "gpuNum": 0,
    "hideHardwareSpecs": false,
    "memoryGiB": 512,
    "name": "ml.trn1n.32xlarge",
    "vcpuNum": 128
   }
  ],
  "colab": {
   "provenance": []
  },
  "instance_type": "ml.t3.medium",
  "kernelspec": {
   "display_name": "Python 3 (Data Science 3.0)",
   "language": "python",
   "name": "python3__SAGEMAKER_INTERNAL__arn:aws:sagemaker:us-west-2:236514542706:image/sagemaker-data-science-310-v1"
  },
  "language_info": {
   "codemirror_mode": {
    "name": "ipython",
    "version": 3
   },
   "file_extension": ".py",
   "mimetype": "text/x-python",
   "name": "python",
   "nbconvert_exporter": "python",
   "pygments_lexer": "ipython3",
   "version": "3.10.6"
  }
 },
 "nbformat": 4,
 "nbformat_minor": 5
}
